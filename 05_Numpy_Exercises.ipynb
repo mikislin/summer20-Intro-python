{
  "nbformat": 4,
  "nbformat_minor": 0,
  "metadata": {
    "colab": {
      "name": "05-Numpy-Exercises.ipynb",
      "provenance": [],
      "collapsed_sections": [],
      "authorship_tag": "ABX9TyMiQKwjAH2ogcvVyncBV3WL",
      "include_colab_link": true
    },
    "kernelspec": {
      "name": "python3",
      "display_name": "Python 3"
    }
  },
  "cells": [
    {
      "cell_type": "markdown",
      "metadata": {
        "id": "view-in-github",
        "colab_type": "text"
      },
      "source": [
        "<a href=\"https://colab.research.google.com/github/mikislin/summer20-Intro-python/blob/master/05_Numpy_Exercises.ipynb\" target=\"_parent\"><img src=\"https://colab.research.google.com/assets/colab-badge.svg\" alt=\"Open In Colab\"/></a>"
      ]
    },
    {
      "cell_type": "markdown",
      "metadata": {
        "id": "gmRhfVwzbBAJ",
        "colab_type": "text"
      },
      "source": [
        "##**More on numpy**"
      ]
    },
    {
      "cell_type": "markdown",
      "metadata": {
        "id": "dn991PfDaUna",
        "colab_type": "text"
      },
      "source": [
        "**(a)** Declare a 8x8 matrix and fill it with a checkerboard pattern, then randomly place p elements in a 2D array with np.put"
      ]
    },
    {
      "cell_type": "code",
      "metadata": {
        "id": "LC3P-eFnaNNp",
        "colab_type": "code",
        "colab": {}
      },
      "source": [
        ""
      ],
      "execution_count": null,
      "outputs": []
    },
    {
      "cell_type": "markdown",
      "metadata": {
        "id": "2n7NpcVoiC0a",
        "colab_type": "text"
      },
      "source": [
        "**(b)** Normalize a 5x5 random matrix (between 0 and 1)"
      ]
    },
    {
      "cell_type": "code",
      "metadata": {
        "id": "3eliYaQthlqN",
        "colab_type": "code",
        "colab": {}
      },
      "source": [
        ""
      ],
      "execution_count": null,
      "outputs": []
    },
    {
      "cell_type": "markdown",
      "metadata": {
        "id": "CBjLYzwOizN5",
        "colab_type": "text"
      },
      "source": [
        "**(c)** Multiply a 5x5 array by a 5x1 array, treat arrays as matrix by using `np.dot` (compare real matrix product and product of array multiplication). \n",
        "change order in np.dot 1x5 and 5x5\n",
        "\n",
        "![image.png](data:image/png;base64,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)"
      ]
    },
    {
      "cell_type": "code",
      "metadata": {
        "id": "hfMwUbKUh-aT",
        "colab_type": "code",
        "colab": {}
      },
      "source": [
        ""
      ],
      "execution_count": null,
      "outputs": []
    },
    {
      "cell_type": "markdown",
      "metadata": {
        "id": "aUJX8Nerp7x9",
        "colab_type": "text"
      },
      "source": [
        "**(d)** Consider a random 100x2 matrix representing cartesian coordinates, convert them to polar coordinates\n",
        "\n",
        "![image.png](data:image/png;base64,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)\n",
        "\n",
        "\n",
        "![image.png](data:image/png;base64,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)\n",
        "\n",
        "\n",
        "![image.png](data:image/png;base64,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)"
      ]
    },
    {
      "cell_type": "code",
      "metadata": {
        "id": "-IQFNJv8qAAl",
        "colab_type": "code",
        "colab": {}
      },
      "source": [
        ""
      ],
      "execution_count": null,
      "outputs": []
    },
    {
      "cell_type": "markdown",
      "metadata": {
        "id": "9GxFfOOQsl13",
        "colab_type": "text"
      },
      "source": [
        "**(e)** find point by point distances for coordinates from **d** and calculate total distance\n",
        "\n",
        "Hint: np.atleast_2d"
      ]
    },
    {
      "cell_type": "code",
      "metadata": {
        "id": "6xoTrvDoqWrQ",
        "colab_type": "code",
        "colab": {}
      },
      "source": [
        ""
      ],
      "execution_count": null,
      "outputs": []
    },
    {
      "cell_type": "markdown",
      "metadata": {
        "id": "8_uJwtYiZZbO",
        "colab_type": "text"
      },
      "source": [
        "**(f)**  create a four dimensions array and get sum over the last two axis at once"
      ]
    },
    {
      "cell_type": "code",
      "metadata": {
        "id": "VTy-CXhItTvD",
        "colab_type": "code",
        "colab": {}
      },
      "source": [
        ""
      ],
      "execution_count": null,
      "outputs": []
    },
    {
      "cell_type": "markdown",
      "metadata": {
        "id": "JVodXiYRbWz8",
        "colab_type": "text"
      },
      "source": [
        "(g) Write a function rolling mean that returns an array of local k-point mean values, where each mean is calculated over a sliding window of length k across neighboring elements of A\n",
        "\n",
        "bonus - define rolling median and make a weighted moving averages and median"
      ]
    },
    {
      "cell_type": "code",
      "metadata": {
        "id": "6mMdCZwqZkcH",
        "colab_type": "code",
        "colab": {}
      },
      "source": [
        ""
      ],
      "execution_count": null,
      "outputs": []
    }
  ]
}