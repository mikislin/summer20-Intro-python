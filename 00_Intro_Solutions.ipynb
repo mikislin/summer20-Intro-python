{
  "nbformat": 4,
  "nbformat_minor": 0,
  "metadata": {
    "colab": {
      "name": "00-Intro Solutions.ipynb",
      "provenance": [],
      "collapsed_sections": [],
      "authorship_tag": "ABX9TyMq5404tOvFErkxoCDOjVIF",
      "include_colab_link": true
    },
    "kernelspec": {
      "name": "python3",
      "display_name": "Python 3"
    }
  },
  "cells": [
    {
      "cell_type": "markdown",
      "metadata": {
        "id": "view-in-github",
        "colab_type": "text"
      },
      "source": [
        "<a href=\"https://colab.research.google.com/github/mikislin/summer20-Intro-python/blob/master/00_Intro_Solutions.ipynb\" target=\"_parent\"><img src=\"https://colab.research.google.com/assets/colab-badge.svg\" alt=\"Open In Colab\"/></a>"
      ]
    },
    {
      "cell_type": "markdown",
      "metadata": {
        "id": "xmOfzRf7U3GZ",
        "colab_type": "text"
      },
      "source": [
        "##**Problem 1:** \n",
        "**Swapping two vatiables** \n",
        "\n"
      ]
    },
    {
      "cell_type": "code",
      "metadata": {
        "id": "m5glF7dSUqJ3",
        "colab_type": "code",
        "colab": {}
      },
      "source": [
        "v1 = 'first string'\n",
        "v2 = 'second string'"
      ],
      "execution_count": 0,
      "outputs": []
    },
    {
      "cell_type": "code",
      "metadata": {
        "id": "U3lepPFYmgvR",
        "colab_type": "code",
        "outputId": "616bd379-7c70-4112-fe7c-c5c03aeaf74c",
        "colab": {
          "base_uri": "https://localhost:8080/",
          "height": 52
        }
      },
      "source": [
        "# solution 1 (tell why it is wrong)\n",
        "v2=v1\n",
        "v1=v2\n",
        "print(v1,'\\n', v2)"
      ],
      "execution_count": 0,
      "outputs": [
        {
          "output_type": "stream",
          "text": [
            "first string \n",
            " first string\n"
          ],
          "name": "stdout"
        }
      ]
    },
    {
      "cell_type": "code",
      "metadata": {
        "id": "NgKRiNo3prJz",
        "colab_type": "code",
        "outputId": "901e8a2f-a989-427c-b768-b0854f763edb",
        "colab": {
          "base_uri": "https://localhost:8080/",
          "height": 52
        }
      },
      "source": [
        "# solution 2 \n",
        "temp1 = v1\n",
        "temp2 = v2\n",
        "v1 = temp2\n",
        "v2 = temp1\n",
        "print(v1,'\\n', v2)"
      ],
      "execution_count": 0,
      "outputs": [
        {
          "output_type": "stream",
          "text": [
            "first string \n",
            " first string\n"
          ],
          "name": "stdout"
        }
      ]
    },
    {
      "cell_type": "code",
      "metadata": {
        "id": "16mHbpJSqL29",
        "colab_type": "code",
        "outputId": "849bd731-484d-4a65-cef3-54f189dc6da0",
        "colab": {
          "base_uri": "https://localhost:8080/",
          "height": 52
        }
      },
      "source": [
        "# solution 3\n",
        "temp = v1\n",
        "v1=v2\n",
        "v2=temp\n",
        "print(v1,'\\n', v2)"
      ],
      "execution_count": 0,
      "outputs": [
        {
          "output_type": "stream",
          "text": [
            "first string \n",
            " first string\n"
          ],
          "name": "stdout"
        }
      ]
    },
    {
      "cell_type": "code",
      "metadata": {
        "id": "vQQ9Qytjqis5",
        "colab_type": "code",
        "outputId": "2e5316aa-6758-43b8-c391-5c03c8f684be",
        "colab": {
          "base_uri": "https://localhost:8080/",
          "height": 52
        }
      },
      "source": [
        "# Python swap values in a single line and this applies to all objects in python.\n",
        "v1, v2 = v2, v1\n",
        "print(v1,'\\n', v2)"
      ],
      "execution_count": 0,
      "outputs": [
        {
          "output_type": "stream",
          "text": [
            "first string \n",
            " first string\n"
          ],
          "name": "stdout"
        }
      ]
    },
    {
      "cell_type": "markdown",
      "metadata": {
        "id": "sWaa5YkVbdRD",
        "colab_type": "text"
      },
      "source": [
        "##**Problem 2:**\n",
        "**km to mile**\n",
        "\n",
        "convert user entered kilometers to miles and display it\n",
        "\n",
        "*Hint: 1 kilometer is equal to 0.621371 miles*"
      ]
    },
    {
      "cell_type": "code",
      "metadata": {
        "id": "3A0375R7b1Ab",
        "colab_type": "code",
        "outputId": "88a01611-c7bf-4be3-c827-fb66c8e0cff4",
        "colab": {
          "base_uri": "https://localhost:8080/",
          "height": 52
        }
      },
      "source": [
        "# Taking kilometers input from the user\n",
        "kilometers = float(input(\"Enter value in kilometers: \"))\n",
        "\n",
        "# conversion factor\n",
        "conv_fac = 0.621371\n",
        "\n",
        "# calculate miles\n",
        "miles = kilometers * conv_fac\n",
        "print('%0.2f kilometers is equal to %0.2f miles' %(kilometers,miles))"
      ],
      "execution_count": 0,
      "outputs": [
        {
          "output_type": "stream",
          "text": [
            "Enter value in kilometers: 1\n",
            "1.00 kilometers is equal to 0.62 miles\n"
          ],
          "name": "stdout"
        }
      ]
    },
    {
      "cell_type": "markdown",
      "metadata": {
        "id": "fHDWa7-VrZ0R",
        "colab_type": "text"
      },
      "source": [
        "##**Problem 3:**\n",
        "**String formatting**\n",
        "\n",
        "In this problem we will practice some basics with displaying and formatting strings.\n"
      ]
    },
    {
      "cell_type": "markdown",
      "metadata": {
        "id": "ivcMwMhItz9r",
        "colab_type": "text"
      },
      "source": [
        "**(a)** Write code to determine the number of characters in a string called input_string, and store that value in a variable called num_chars.\n",
        "\n",
        "Hint: You can get the length of a Python object using the function len()."
      ]
    },
    {
      "cell_type": "code",
      "metadata": {
        "id": "pi4gNeAmtNNU",
        "colab_type": "code",
        "outputId": "af0fdde5-5611-4cb1-c627-18b6da14be10",
        "colab": {
          "base_uri": "https://localhost:8080/",
          "height": 35
        }
      },
      "source": [
        "input_string = 'Welcome to summer program'\n",
        "num_chars = len(input_string)\n",
        "print(num_chars)"
      ],
      "execution_count": 0,
      "outputs": [
        {
          "output_type": "stream",
          "text": [
            "25\n"
          ],
          "name": "stdout"
        }
      ]
    },
    {
      "cell_type": "markdown",
      "metadata": {
        "id": "X48Heqn4Xi4Y",
        "colab_type": "text"
      },
      "source": [
        "**(b)** Create a program that asks the user to enter their name and their age. Print out a message addressed to them that tells them the year that they will turn 100 years old"
      ]
    },
    {
      "cell_type": "code",
      "metadata": {
        "id": "obWcLT_lufCh",
        "colab_type": "code",
        "outputId": "3104c44c-a0e0-4139-da41-65d1bb5fa594",
        "colab": {
          "base_uri": "https://localhost:8080/",
          "height": 70
        }
      },
      "source": [
        "name = input(\"What is your name: \")\n",
        "age = int(input(\"How old are you: \"))\n",
        "year = str((2020 - age)+100)\n",
        "print(name + \" will be 100 years old in the year \" + year)"
      ],
      "execution_count": 0,
      "outputs": [
        {
          "output_type": "stream",
          "text": [
            "What is your name: Mikhail\n",
            "How old are you: 32\n",
            "Mikhail will be 100 years old in the year 2088\n"
          ],
          "name": "stdout"
        }
      ]
    },
    {
      "cell_type": "markdown",
      "metadata": {
        "id": "W-Q6MEwYdNWo",
        "colab_type": "text"
      },
      "source": [
        "**(c)** Often in scientific analysis we want to inspect numbers, by printing them out as strings. String formatting allows us to print out numbers that look pretty.\n",
        "\n",
        "To format a number, the placeholder in the template string looks like, for example, \"{var:.2f}\" where var is the variable name, and .2f indicates a number with 2 digits after the decimal point.\n",
        "\n",
        "Define a variable storing a number of your choosing, and print it out with (i) 0, (ii) 5, and (iii) 10 digits after the decimal point."
      ]
    },
    {
      "cell_type": "code",
      "metadata": {
        "id": "9rQ3ssEEdegt",
        "colab_type": "code",
        "outputId": "758537de-c40e-47b0-ab41-f8af3c6504a4",
        "colab": {
          "base_uri": "https://localhost:8080/",
          "height": 35
        }
      },
      "source": [
        "# print out a variable with different numbers of digits after the decimal point\n",
        "my_favorite_number = 3.14159\n",
        "\n",
        "print('{num:.10f}'.format(num=my_favorite_number))"
      ],
      "execution_count": 0,
      "outputs": [
        {
          "output_type": "stream",
          "text": [
            "3.1415900000\n"
          ],
          "name": "stdout"
        }
      ]
    },
    {
      "cell_type": "markdown",
      "metadata": {
        "id": "Pr7_Phv6n0po",
        "colab_type": "text"
      },
      "source": [
        "## Problem 4:\n",
        "**File name parsing** \n",
        "\n",
        "In this problem we will use string analysis to parse file names. This is a useful thing to know how to do!"
      ]
    },
    {
      "cell_type": "markdown",
      "metadata": {
        "id": "xIMB5QpPqkdB",
        "colab_type": "text"
      },
      "source": [
        "**(a)** given a variable called file_name storing the name of a file, determine whether the file is a csv file, by checking whether the substring 'csv' is contained in it. Store the result in a variable called is_csv_file\n",
        "\n",
        "Python can tell us whether any given word/substring exists inside a string.\n",
        "\n",
        "For example, 'at' in 'math' evaluates to True. But 'nat' in 'math' evaluates to False.\n",
        "\n"
      ]
    },
    {
      "cell_type": "code",
      "metadata": {
        "id": "DaQBQH8GXzoj",
        "colab_type": "code",
        "outputId": "573a3164-f5e5-4650-aab2-67c0e893091b",
        "colab": {
          "base_uri": "https://localhost:8080/",
          "height": 35
        }
      },
      "source": [
        "file_name = 'my_file.csv'\n",
        "\n",
        "# determine whether file_name is a csv file, and store result in is_csv_file\n",
        "is_tif_file = 'csv' in file_name # change this\n",
        "is_tif_file"
      ],
      "execution_count": 0,
      "outputs": [
        {
          "output_type": "execute_result",
          "data": {
            "text/plain": [
              "True"
            ]
          },
          "metadata": {
            "tags": []
          },
          "execution_count": 35
        }
      ]
    },
    {
      "cell_type": "markdown",
      "metadata": {
        "id": "259NYv1arth6",
        "colab_type": "text"
      },
      "source": [
        "(b) Determine whether file_name ends with .csv, and store the result in is_csv_file.\n",
        "\n",
        "Hint: recall that a==b determines whether a is the same as b."
      ]
    },
    {
      "cell_type": "code",
      "metadata": {
        "id": "kDsNtYfUdwPH",
        "colab_type": "code",
        "outputId": "fbf30328-969a-4329-e51b-fade36e507d7",
        "colab": {
          "base_uri": "https://localhost:8080/",
          "height": 52
        }
      },
      "source": [
        "file_name = 'a_file_name.csv'\n",
        "\n",
        "# determine whether file_name ends with '.csv'\n",
        "is_tif_file = file_name[-4:] == '.csv' \n",
        "print(is_tif_file)\n",
        "\n",
        "# alternative way\n",
        "print(file_name.endswith('csv'))"
      ],
      "execution_count": 0,
      "outputs": [
        {
          "output_type": "stream",
          "text": [
            "True\n",
            "True\n"
          ],
          "name": "stdout"
        }
      ]
    },
    {
      "cell_type": "markdown",
      "metadata": {
        "id": "rDgNLO53tFg8",
        "colab_type": "text"
      },
      "source": [
        "**(c)** Given two variables file_name and new_extension, create a variable new_file_name in which you change the extension of the original file name to the new extension.\n",
        "\n",
        "For example, if file_name is a_file_name.csv and new_extension is mat, then new_file_name should be a_file_name.mat.\n",
        "\n",
        "Hint: you can, but do not need to, use the string method .replace()."
      ]
    },
    {
      "cell_type": "code",
      "metadata": {
        "id": "cs1b4WkfsSJ4",
        "colab_type": "code",
        "outputId": "2e97d9d6-f5a8-4868-abfc-4037ba50932d",
        "colab": {
          "base_uri": "https://localhost:8080/",
          "height": 70
        }
      },
      "source": [
        "file_name = 'a_file_name.csv'\n",
        "new_extension = 'mat'\n",
        "\n",
        "# One way to do it:\n",
        "period_index = file_name.find('.')\n",
        "name = file_name[:period_index]\n",
        "extension = file_name[period_index + 1:]\n",
        "print(f'{name}.{new_extension}')\n",
        "\n",
        "# A second way to do it:\n",
        "print(file_name.replace(extension, new_extension))\n",
        "\n",
        "# A third way to do it:\n",
        "name, extension = file_name.split('.')\n",
        "print('.'.join([name, new_extension]))"
      ],
      "execution_count": 0,
      "outputs": [
        {
          "output_type": "stream",
          "text": [
            "a_file_name.mat\n",
            "a_file_name.mat\n",
            "a_file_name.mat\n"
          ],
          "name": "stdout"
        }
      ]
    },
    {
      "cell_type": "code",
      "metadata": {
        "id": "zDiqxT41tgw8",
        "colab_type": "code",
        "colab": {}
      },
      "source": [
        ""
      ],
      "execution_count": 0,
      "outputs": []
    }
  ]
}