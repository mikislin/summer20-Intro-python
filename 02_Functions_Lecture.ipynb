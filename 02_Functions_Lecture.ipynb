{
  "nbformat": 4,
  "nbformat_minor": 0,
  "metadata": {
    "colab": {
      "name": "02-Functions Lecture.ipynb",
      "provenance": [],
      "collapsed_sections": [],
      "authorship_tag": "ABX9TyMgll4WiiFeJwhJD6CZV8Mu",
      "include_colab_link": true
    },
    "kernelspec": {
      "name": "python3",
      "display_name": "Python 3"
    }
  },
  "cells": [
    {
      "cell_type": "markdown",
      "metadata": {
        "id": "view-in-github",
        "colab_type": "text"
      },
      "source": [
        "<a href=\"https://colab.research.google.com/github/mikislin/summer20-Intro-python/blob/master/02_Functions_Lecture.ipynb\" target=\"_parent\"><img src=\"https://colab.research.google.com/assets/colab-badge.svg\" alt=\"Open In Colab\"/></a>"
      ]
    },
    {
      "cell_type": "markdown",
      "metadata": {
        "id": "3N8qID6FBkY1",
        "colab_type": "text"
      },
      "source": [
        "##**User defined functions**\n"
      ]
    },
    {
      "cell_type": "markdown",
      "metadata": {
        "id": "gnfRcftmHQMO",
        "colab_type": "text"
      },
      "source": [
        "Function is a block of program statements which can be used repetitively in a program\n",
        "\n",
        "\n",
        "\n",
        "After defining the function name and arguments(s) a block of program statement(s) start at the next line and these statement(s) must be indented.\n",
        "\n",
        "*   In Python, a user-defined function's declaration begins with the keyword def and followed by the function name.\n",
        "*   The function may take arguments(s) as input within the opening and closing parentheses, just after the function name followed by a colon.\n",
        "*   After defining the function name and arguments(s) a block of program statement(s) start at the next line and these statement(s) must be indented.\n",
        "\n",
        "\n",
        "**Syntax:**\n",
        "\n",
        "\n",
        "\n",
        "```\n",
        "def function_name(argument1, argument2, ...) :\n",
        "      statement_1\n",
        "      statement_n\n",
        "```\n"
      ]
    },
    {
      "cell_type": "code",
      "metadata": {
        "id": "LO2sExqhIqtV",
        "colab_type": "code",
        "colab": {}
      },
      "source": [
        "def avg_number(x, y):\n",
        "    print(\"Average of \",x,\" and \",y, \" is \",(x+y)/2)"
      ],
      "execution_count": 0,
      "outputs": []
    },
    {
      "cell_type": "markdown",
      "metadata": {
        "id": "7fGRb1J-IO6T",
        "colab_type": "text"
      },
      "source": [
        "###**Call a function**\n",
        "\n",
        "**Syntax:**\n",
        "\n",
        "```\n",
        "function_name(arg1, arg2)\n",
        "```\n",
        "\n"
      ]
    },
    {
      "cell_type": "code",
      "metadata": {
        "id": "L7gu2hlWBaAC",
        "colab_type": "code",
        "outputId": "dd9effbd-d4b7-4f73-a92b-2adcc23e904d",
        "colab": {
          "base_uri": "https://localhost:8080/",
          "height": 35
        }
      },
      "source": [
        "avg_number(3, 4)"
      ],
      "execution_count": 0,
      "outputs": [
        {
          "output_type": "stream",
          "text": [
            "Average of  3  and  4  is  3.5\n"
          ],
          "name": "stdout"
        }
      ]
    },
    {
      "cell_type": "markdown",
      "metadata": {
        "id": "llwxemI0KSiS",
        "colab_type": "text"
      },
      "source": [
        "###**The Return statement in function**\n",
        "\n",
        "The return statement (the word return followed by an expression.) is used to return a value from a function, return statement without an expression argument returns none\n",
        "\n",
        "**Syntax:**\n",
        "\n",
        "```\n",
        "def function_name(argument1, argument2, ...) :\n",
        "    statement_1\n",
        "    statement_n\n",
        "    return expression\n",
        "```\n",
        "\n",
        "\n"
      ]
    },
    {
      "cell_type": "code",
      "metadata": {
        "id": "nZtBMwXSIyGV",
        "colab_type": "code",
        "outputId": "9a640e65-7e5c-4ff1-dbc8-1d0e02fe5256",
        "colab": {
          "base_uri": "https://localhost:8080/",
          "height": 35
        }
      },
      "source": [
        "# the square of the sum of two numbers.\n",
        "def nsquare(x, y):\n",
        "    return (x*x + 2*x*y + y*y)\n",
        "\n",
        "# call the function    \n",
        "print(\"The square of the sum of 2 and 3 is : \", nsquare(2, 3))\n"
      ],
      "execution_count": 0,
      "outputs": [
        {
          "output_type": "stream",
          "text": [
            "The square of the sum of 2 and 3 is :  25\n"
          ],
          "name": "stdout"
        }
      ]
    },
    {
      "cell_type": "markdown",
      "metadata": {
        "id": "RKI1BBwLJn-D",
        "colab_type": "text"
      },
      "source": [
        "Function with Default Argument Values"
      ]
    },
    {
      "cell_type": "code",
      "metadata": {
        "id": "eqVFADPbJEYj",
        "colab_type": "code",
        "outputId": "a8cd2d70-7bd6-4a81-dfd5-664b66dc829e",
        "colab": {
          "base_uri": "https://localhost:8080/",
          "height": 52
        }
      },
      "source": [
        "# the square of the sum of two numbers.\n",
        "def nsquare(x, y=2):\n",
        "    return (x*x + 2*x*y + y*y)\n",
        "\n",
        "# call the function    \n",
        "print(\"The square of the sum of 2 and 3 is : \", nsquare(2))\n",
        "print(\"The square of the sum of 2 and 3 is : \", nsquare(2,4))\n"
      ],
      "execution_count": 0,
      "outputs": [
        {
          "output_type": "stream",
          "text": [
            "The square of the sum of 2 and 3 is :  16\n",
            "The square of the sum of 2 and 3 is :  36\n"
          ],
          "name": "stdout"
        }
      ]
    },
    {
      "cell_type": "markdown",
      "metadata": {
        "id": "YMrFARIqLjUI",
        "colab_type": "text"
      },
      "source": [
        "###**Arbitrary Argument Lists**\n",
        "\n",
        "The 'arbitrary argument' list is an another way to pass arguments to a function. In the function body, these arguments will be wrapped in a tuple and it can be defined with *args construct. Before this variable, you can define a number of arguments or no argument.\n",
        "\n",
        "**Syntax:**\n",
        "\n",
        "```\n",
        "def function_name(.., *args) :\n",
        "    statement_1\n",
        "    statement_n\n",
        "    return expression\n",
        "```"
      ]
    },
    {
      "cell_type": "code",
      "metadata": {
        "id": "Ab0TPc5YJ2np",
        "colab_type": "code",
        "outputId": "a313edf8-16b5-43d4-b4e5-d5c70c699e74",
        "colab": {
          "base_uri": "https://localhost:8080/",
          "height": 35
        }
      },
      "source": [
        "def addmultiply(*numbers):\n",
        "  add = 0\n",
        "  multiply = 1\n",
        "  for num in numbers:\n",
        "    add += num\n",
        "    multiply *= num\n",
        "  return add,multiply\n",
        "\n",
        "print(addmultiply(123,321))\n"
      ],
      "execution_count": 0,
      "outputs": [
        {
          "output_type": "stream",
          "text": [
            "(444, 39483)\n"
          ],
          "name": "stdout"
        }
      ]
    },
    {
      "cell_type": "markdown",
      "metadata": {
        "id": "4pUu9guNjCL8",
        "colab_type": "text"
      },
      "source": [
        "###**Python docstrings**\n",
        "\n",
        "Python docstrings are strings used right after the definition of a function, method, class, or module. They are used to document our code.\n",
        "\n",
        "We can access these docstrings using the `__doc__` attribute"
      ]
    },
    {
      "cell_type": "code",
      "metadata": {
        "id": "Tolki7stjXjs",
        "colab_type": "code",
        "outputId": "f6e1ed9a-5184-4327-ef8e-bc26004e0e05",
        "colab": {
          "base_uri": "https://localhost:8080/",
          "height": 35
        }
      },
      "source": [
        "def addmultiply(*numbers):\n",
        "  'Takes in numbers , returns sum and multiplication'\n",
        "  add = 0\n",
        "  multiply = 1\n",
        "  for num in numbers:\n",
        "    add += num\n",
        "    multiply *= num\n",
        "  return add,multiply\n",
        "\n",
        "print(addmultiply(123,321))"
      ],
      "execution_count": 0,
      "outputs": [
        {
          "output_type": "stream",
          "text": [
            "(444, 39483)\n"
          ],
          "name": "stdout"
        }
      ]
    },
    {
      "cell_type": "code",
      "metadata": {
        "id": "YTwaMcdqjt-B",
        "colab_type": "code",
        "outputId": "693c3400-e5f6-4268-f36d-af661742a2b4",
        "colab": {
          "base_uri": "https://localhost:8080/",
          "height": 35
        }
      },
      "source": [
        "addmultiply.__doc__"
      ],
      "execution_count": 0,
      "outputs": [
        {
          "output_type": "execute_result",
          "data": {
            "text/plain": [
              "'Takes in numbers , returns sum and multiplication'"
            ]
          },
          "metadata": {
            "tags": []
          },
          "execution_count": 19
        }
      ]
    },
    {
      "cell_type": "markdown",
      "metadata": {
        "id": "FSZY_mxNRwUI",
        "colab_type": "text"
      },
      "source": [
        "###**Python Module**\n",
        "\n",
        "Modules are a simple way to organize a program which contains program code, variables etc.. All these definitions and statements are contained in a single Python file. The name of the module is the name of the file name with .py extension. Modules are not loaded unless we execute in Python interpreter or call within a program. In Python, there are modules in a standard library, current directory or directories containing .py files (in fact each file with .py extension is a module). "
      ]
    },
    {
      "cell_type": "code",
      "metadata": {
        "id": "eFZxmeu7Mmb6",
        "colab_type": "code",
        "colab": {}
      },
      "source": [
        "# factorial.py\n",
        "def factcal(n): # Create the factorial of a positive integer    \n",
        "    fact = 1\n",
        "    while n>0:\n",
        "          fact *= n\n",
        "          n=n-1\n",
        "          if(n<=1):\n",
        "            break\n",
        "    else: # Display the message if n is not a positive integer.        \n",
        "          print('Input a correct number....') \n",
        "          return\n",
        "    return fact \n",
        "    \n",
        "\n",
        "def factdata(n): # return the numbers of factorial x\n",
        "    result = []\n",
        "    while n>0:\n",
        "       result.append(n)\n",
        "       n = n - 1\n",
        "       if(n==0):\n",
        "        break\n",
        "    else: # Display the message if n is not a positive integer.        \n",
        "       print('Input a correct number....') \n",
        "       return\n",
        "    return result\n"
      ],
      "execution_count": 0,
      "outputs": []
    },
    {
      "cell_type": "markdown",
      "metadata": {
        "id": "ZDTbnWhtS_Qh",
        "colab_type": "text"
      },
      "source": [
        "Importing a module:"
      ]
    },
    {
      "cell_type": "code",
      "metadata": {
        "id": "b8RaU8e1Se9F",
        "colab_type": "code",
        "colab": {}
      },
      "source": [
        "import factorial "
      ],
      "execution_count": 0,
      "outputs": []
    },
    {
      "cell_type": "code",
      "metadata": {
        "id": "wGozBoU0TOgn",
        "colab_type": "code",
        "outputId": "5584de3b-ce53-441e-eeb9-82678db9a25a",
        "colab": {
          "base_uri": "https://localhost:8080/",
          "height": 35
        }
      },
      "source": [
        "factorial.factcal(9)"
      ],
      "execution_count": 0,
      "outputs": [
        {
          "output_type": "execute_result",
          "data": {
            "text/plain": [
              "362880"
            ]
          },
          "metadata": {
            "tags": []
          },
          "execution_count": 15
        }
      ]
    },
    {
      "cell_type": "code",
      "metadata": {
        "id": "evZeg7c-UAok",
        "colab_type": "code",
        "outputId": "4e3e9aae-efb4-4503-8096-d45e04c62dad",
        "colab": {
          "base_uri": "https://localhost:8080/",
          "height": 35
        }
      },
      "source": [
        "factorial.factdata(9)"
      ],
      "execution_count": 0,
      "outputs": [
        {
          "output_type": "execute_result",
          "data": {
            "text/plain": [
              "[9, 8, 7, 6, 5, 4, 3, 2, 1]"
            ]
          },
          "metadata": {
            "tags": []
          },
          "execution_count": 14
        }
      ]
    },
    {
      "cell_type": "markdown",
      "metadata": {
        "id": "IgWdd-Nthm8n",
        "colab_type": "text"
      },
      "source": [
        "Executing modules as scripts:\n",
        "\n",
        "To run a Python module as a script use the following syntax.\n",
        "\n",
        "python filename <arguments>\n",
        "The program code in the module will be executed with the __name__ set to \"__main__\" which means adding some additional code at the end of the module. "
      ]
    },
    {
      "cell_type": "code",
      "metadata": {
        "id": "m_7GgAhFUFlQ",
        "colab_type": "code",
        "colab": {}
      },
      "source": [
        "def factcal(n):\n",
        "# Create the factorial of a positive integer    \n",
        "    fact = 1\n",
        "    while n>0:\n",
        "          fact *= n\n",
        "          n=n-1\n",
        "          if(n<=1):\n",
        "            break\n",
        "    else:\n",
        "# Display the message if n is not a positive integer.        \n",
        "          print('Input a correct number....') \n",
        "          return\n",
        "    print(fact)\n",
        "def factdata(n): # return the numbers of factorial x\n",
        "    result = []\n",
        "    while n>0:\n",
        "       result.append(n)\n",
        "       n = n - 1\n",
        "       if(n==0):\n",
        "        break\n",
        "    else:\n",
        "# Display the message if n is not a positive integer.        \n",
        "       print('Input a correct number....') \n",
        "       return\n",
        "    print(result)\n",
        "\n",
        "if __name__ == \"__main__\":\n",
        "    import sys\n",
        "    factcal(int(sys.argv[1]))\n",
        "    factdata(int(sys.argv[2]))"
      ],
      "execution_count": 0,
      "outputs": []
    }
  ]
}