{
  "nbformat": 4,
  "nbformat_minor": 0,
  "metadata": {
    "colab": {
      "name": "08-Pandas Exercises.ipynb",
      "provenance": [],
      "collapsed_sections": [],
      "authorship_tag": "ABX9TyMRaeloLFb08SV5OebWBABB",
      "include_colab_link": true
    },
    "kernelspec": {
      "name": "python3",
      "display_name": "Python 3"
    }
  },
  "cells": [
    {
      "cell_type": "markdown",
      "metadata": {
        "id": "view-in-github",
        "colab_type": "text"
      },
      "source": [
        "<a href=\"https://colab.research.google.com/github/mikislin/summer20-Intro-python/blob/master/08_Pandas_Exercises.ipynb\" target=\"_parent\"><img src=\"https://colab.research.google.com/assets/colab-badge.svg\" alt=\"Open In Colab\"/></a>"
      ]
    },
    {
      "cell_type": "markdown",
      "metadata": {
        "id": "WIF08rY6H9DA",
        "colab_type": "text"
      },
      "source": [
        "Perform exploratory data analysis with Pandas on electrophysiological measurements data set\n",
        "(https://neuroelectro.org/)\n",
        "\n",
        "use this link to download working file\n",
        "https://drive.google.com/file/d/1O5wxJweXHO1AK7u91ipLC95_1mZIEG6b/view?usp=sharing"
      ]
    },
    {
      "cell_type": "code",
      "metadata": {
        "id": "ptPU-TH5HuxR",
        "colab_type": "code",
        "colab": {}
      },
      "source": [
        "import matplotlib.pyplot as plt\n",
        "import pandas as pd\n",
        "import numpy as np\n"
      ],
      "execution_count": null,
      "outputs": []
    },
    {
      "cell_type": "markdown",
      "metadata": {
        "id": "V8NCAhppvng-",
        "colab_type": "text"
      },
      "source": [
        "**(a)** Load excel-file into DataFrame and getting to know the data set, look at data dimensionality, feature names, and feature types "
      ]
    },
    {
      "cell_type": "code",
      "metadata": {
        "id": "AXffNebHgmyX",
        "colab_type": "code",
        "colab": {}
      },
      "source": [
        ""
      ],
      "execution_count": null,
      "outputs": []
    },
    {
      "cell_type": "markdown",
      "metadata": {
        "id": "HiJy5NXyx2lh",
        "colab_type": "text"
      },
      "source": [
        "**(b)** Select top 5 electrophysiological measurements by non-null counts and create a new dataframe with those measurements accompained with metadata: Species, NeuronType.\n",
        "* see if there are clear clusters in data with `scatter_matrix() `\n",
        "* inspect how measurements correlate with each other"
      ]
    },
    {
      "cell_type": "code",
      "metadata": {
        "id": "xj6w7l4-rGJM",
        "colab_type": "code",
        "colab": {}
      },
      "source": [
        " "
      ],
      "execution_count": null,
      "outputs": []
    },
    {
      "cell_type": "code",
      "metadata": {
        "id": "cjXdKx3s7mnN",
        "colab_type": "code",
        "colab": {}
      },
      "source": [
        ""
      ],
      "execution_count": null,
      "outputs": []
    },
    {
      "cell_type": "code",
      "metadata": {
        "id": "AtqJHAN_8jD3",
        "colab_type": "code",
        "colab": {}
      },
      "source": [
        ""
      ],
      "execution_count": null,
      "outputs": []
    },
    {
      "cell_type": "markdown",
      "metadata": {
        "id": "8EfgDnB19S6l",
        "colab_type": "text"
      },
      "source": [
        "**(c)** Select neurons that have at least 9 recodrings. Print basic statistical characteristics of each numerical feature per neuron type. Make a box plots for each feature cross selected above neuron types"
      ]
    },
    {
      "cell_type": "code",
      "metadata": {
        "id": "Nec2AEMbgqkM",
        "colab_type": "code",
        "colab": {}
      },
      "source": [
        ""
      ],
      "execution_count": null,
      "outputs": []
    },
    {
      "cell_type": "code",
      "metadata": {
        "id": "MnVqBZ8C0FZ4",
        "colab_type": "code",
        "colab": {}
      },
      "source": [
        ""
      ],
      "execution_count": null,
      "outputs": []
    },
    {
      "cell_type": "code",
      "metadata": {
        "id": "LVhNEq7x-fqI",
        "colab_type": "code",
        "colab": {}
      },
      "source": [
        ""
      ],
      "execution_count": null,
      "outputs": []
    },
    {
      "cell_type": "code",
      "metadata": {
        "id": "6Sm2Wqx7B2VI",
        "colab_type": "code",
        "colab": {}
      },
      "source": [
        ""
      ],
      "execution_count": null,
      "outputs": []
    }
  ]
}