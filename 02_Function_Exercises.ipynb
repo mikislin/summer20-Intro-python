{
  "nbformat": 4,
  "nbformat_minor": 0,
  "metadata": {
    "colab": {
      "name": "02-Function-Exercises.ipynb",
      "provenance": [],
      "collapsed_sections": [],
      "authorship_tag": "ABX9TyPlUPjFkaPsubn/Ag0hAbTa",
      "include_colab_link": true
    },
    "kernelspec": {
      "name": "python3",
      "display_name": "Python 3"
    }
  },
  "cells": [
    {
      "cell_type": "markdown",
      "metadata": {
        "id": "view-in-github",
        "colab_type": "text"
      },
      "source": [
        "<a href=\"https://colab.research.google.com/github/mikislin/summer20-Intro-python/blob/master/02_Function_Exercises.ipynb\" target=\"_parent\"><img src=\"https://colab.research.google.com/assets/colab-badge.svg\" alt=\"Open In Colab\"/></a>"
      ]
    },
    {
      "cell_type": "markdown",
      "metadata": {
        "id": "aXXqH0xLlAdW",
        "colab_type": "text"
      },
      "source": [
        "Save as py file and execute in cmd"
      ]
    },
    {
      "cell_type": "code",
      "metadata": {
        "id": "Hzd6q0eaVceN",
        "colab_type": "code",
        "colab": {}
      },
      "source": [
        ""
      ],
      "execution_count": 0,
      "outputs": []
    },
    {
      "cell_type": "code",
      "metadata": {
        "id": "3XEkJfgiZ8DY",
        "colab_type": "code",
        "colab": {}
      },
      "source": [
        ""
      ],
      "execution_count": 0,
      "outputs": []
    },
    {
      "cell_type": "code",
      "metadata": {
        "id": "Arx5OTfMltyS",
        "colab_type": "code",
        "colab": {}
      },
      "source": [
        ""
      ],
      "execution_count": 0,
      "outputs": []
    },
    {
      "cell_type": "code",
      "metadata": {
        "id": "f8yw3O0plu6Z",
        "colab_type": "code",
        "colab": {}
      },
      "source": [
        ""
      ],
      "execution_count": 0,
      "outputs": []
    },
    {
      "cell_type": "markdown",
      "metadata": {
        "id": "IVFitq-xlvzy",
        "colab_type": "text"
      },
      "source": [
        "##**Problem 1:**\n",
        "**Functions**\n",
        "\n",
        "**(a)** Write a function with 2 parameters a and b, and returns a+b.\n",
        "\n",
        "Test your function to ensure that it works: run the function, supplying arguments for a and b, and storing the result in a new variable c. Then print out c."
      ]
    },
    {
      "cell_type": "code",
      "metadata": {
        "id": "otYLZxEkmI3R",
        "colab_type": "code",
        "colab": {}
      },
      "source": [
        ""
      ],
      "execution_count": 0,
      "outputs": []
    },
    {
      "cell_type": "markdown",
      "metadata": {
        "id": "4DfJjaj9mgwj",
        "colab_type": "text"
      },
      "source": [
        "**(b)** Write another function similar to the ones in a, except where argument b is an optional parameter that defaults to None.\n",
        "\n",
        "When the function is used, if an argument is supplied for b then it should be as in the previous questions. However, if no value is supplied for b, the function should print a warning and return None."
      ]
    },
    {
      "cell_type": "code",
      "metadata": {
        "id": "1ZID29aUm2_d",
        "colab_type": "code",
        "colab": {}
      },
      "source": [
        ""
      ],
      "execution_count": 0,
      "outputs": []
    },
    {
      "cell_type": "markdown",
      "metadata": {
        "id": "mRTJD1BEnLwN",
        "colab_type": "text"
      },
      "source": [
        "**(c)** Write a function that accepts 1 argument, a string, and returns whether or not the string is a valid file name.\n",
        "\n",
        "For our purposes, a valid file name is one that contains exactly one period."
      ]
    },
    {
      "cell_type": "code",
      "metadata": {
        "id": "fRXNpGZim-hw",
        "colab_type": "code",
        "colab": {}
      },
      "source": [
        ""
      ],
      "execution_count": 0,
      "outputs": []
    },
    {
      "cell_type": "markdown",
      "metadata": {
        "id": "ogBrnp5KnZZA",
        "colab_type": "text"
      },
      "source": [
        "**(d)** Write a new function that accepts 1 argument, a file name string, and returns the extension (ex. .png) of the file.\n",
        "\n",
        "If the file is not a valid file name (use your previous function to determine this!), then print a warning and return None."
      ]
    },
    {
      "cell_type": "code",
      "metadata": {
        "id": "TIoMh5PAnTKL",
        "colab_type": "code",
        "colab": {}
      },
      "source": [
        ""
      ],
      "execution_count": 0,
      "outputs": []
    },
    {
      "cell_type": "markdown",
      "metadata": {
        "id": "I256OyitoLiq",
        "colab_type": "text"
      },
      "source": [
        "(e) Write a function that accepts a list of numbers, and does the following:\n",
        "\n",
        "(i) Checks whether every item in the list is an integer, and returns None if any non-integer is found\n",
        "\n",
        "(ii) Finds the largest value in the list\n",
        "\n",
        "(iii) Finds the index of the largest value in the list\n",
        "\n",
        "(iv) Returns a dictionary with 2 keys: max_value and max_idx, with the corresponding values from ii and iii\n",
        "\n",
        "Test your function to make sure it works with different inputs!\n",
        "\n",
        "Hint: the function type() returns the type of a variable. For example, type(3) returns int."
      ]
    },
    {
      "cell_type": "code",
      "metadata": {
        "id": "mi6lheKznoXj",
        "colab_type": "code",
        "colab": {}
      },
      "source": [
        ""
      ],
      "execution_count": 0,
      "outputs": []
    },
    {
      "cell_type": "code",
      "metadata": {
        "id": "ON_t6T7Xocdl",
        "colab_type": "code",
        "colab": {}
      },
      "source": [
        ""
      ],
      "execution_count": 0,
      "outputs": []
    }
  ]
}