{
  "nbformat": 4,
  "nbformat_minor": 0,
  "metadata": {
    "colab": {
      "name": "01 - Flow control_Solutions.ipynb",
      "provenance": [],
      "collapsed_sections": [],
      "authorship_tag": "ABX9TyM+fhapTr+2rzGqjy0s/w69",
      "include_colab_link": true
    },
    "kernelspec": {
      "name": "python3",
      "display_name": "Python 3"
    }
  },
  "cells": [
    {
      "cell_type": "markdown",
      "metadata": {
        "id": "view-in-github",
        "colab_type": "text"
      },
      "source": [
        "<a href=\"https://colab.research.google.com/github/mikislin/summer20-Intro-python/blob/master/01_Flow_control_Solutions.ipynb\" target=\"_parent\"><img src=\"https://colab.research.google.com/assets/colab-badge.svg\" alt=\"Open In Colab\"/></a>"
      ]
    },
    {
      "cell_type": "markdown",
      "metadata": {
        "id": "xDAzwwIQ05qA",
        "colab_type": "text"
      },
      "source": [
        "## **Problem 1:**\n",
        "List"
      ]
    },
    {
      "cell_type": "markdown",
      "metadata": {
        "id": "ilLng2HA5_rm",
        "colab_type": "text"
      },
      "source": [
        "(a) Creat two lists from the following data: one with animals, and second with number of neurons in the nervous system. Keep the same order\n",
        "\n",
        "Sponge: 0 \n",
        "\n",
        "Ciona: 231\n",
        "\n",
        "C.elegans: 302\n",
        "\n",
        "Wasp: 7400\n",
        "\n",
        "Snail: 11000\n",
        "\n",
        "Zebrafish: 100000\n",
        "\n",
        "Ant: 250000\n",
        "\n",
        "Mouse: 71000000\n",
        "\n",
        "Cat: 760000000\n",
        "\n",
        "Lemur: 254710000\n"
      ]
    },
    {
      "cell_type": "code",
      "metadata": {
        "id": "05ngnOGq09ix",
        "colab_type": "code",
        "colab": {}
      },
      "source": [
        "# creat the lists\n",
        "animals = ['Sponge', 'Ciona', 'C.elegans', 'Wasp', 'Snail', 'Zebrafish',\n",
        "           'Ant', 'Mouse','Cat','Lemur']\n",
        "\n",
        "num_neurons = [0, 231, 302, 7400, 11000, 100000,\n",
        "               250000, 71000000, 760000000,254710000]"
      ],
      "execution_count": 0,
      "outputs": []
    },
    {
      "cell_type": "code",
      "metadata": {
        "id": "BFcVuqZwLS3d",
        "colab_type": "code",
        "outputId": "acc3f79d-9476-4149-d45a-72b988e10aa7",
        "colab": {
          "base_uri": "https://localhost:8080/",
          "height": 87
        }
      },
      "source": [
        "whos"
      ],
      "execution_count": 0,
      "outputs": [
        {
          "output_type": "stream",
          "text": [
            "Variable      Type    Data/Info\n",
            "-------------------------------\n",
            "animals       list    n=10\n",
            "num_neurons   list    n=10\n"
          ],
          "name": "stdout"
        }
      ]
    },
    {
      "cell_type": "markdown",
      "metadata": {
        "id": "VnYRSOFl8DTH",
        "colab_type": "text"
      },
      "source": [
        "**(b)** Create a program that asks the user to enter an integer variable from 0 to number of animals in the list, printout a sentence indicating animal and number of neurons"
      ]
    },
    {
      "cell_type": "code",
      "metadata": {
        "id": "Jg1OZ5tZ8-Sy",
        "colab_type": "code",
        "outputId": "c7d02117-40db-4647-d6b0-87ec1becdc26",
        "colab": {
          "base_uri": "https://localhost:8080/",
          "height": 52
        }
      },
      "source": [
        "var=len(animals)\n",
        "animal_number = input(f\"What animal rank from 0 to {var:d}: \")\n",
        "i=int(animal_number)\n",
        "print('Rank', i, animals[i],'has', num_neurons[i], 'neurons')"
      ],
      "execution_count": 0,
      "outputs": [
        {
          "output_type": "stream",
          "text": [
            "What animal rank from 0 to 10: 2\n",
            "Rank 2 C.elegans has 302 neurons\n"
          ],
          "name": "stdout"
        }
      ]
    },
    {
      "cell_type": "markdown",
      "metadata": {
        "id": "Ln2572Y3_6bn",
        "colab_type": "text"
      },
      "source": [
        "**(c)** add new data to the lists, keeping ascending order\n",
        "\n",
        "Jellyfish: 5600\n",
        "\n",
        "Ferret: 404000000\n",
        "\n",
        "Octopus: 500000000\n",
        "\n",
        "\n"
      ]
    },
    {
      "cell_type": "code",
      "metadata": {
        "id": "N6dxQ91h_37V",
        "colab_type": "code",
        "colab": {}
      },
      "source": [
        "animals.insert(3, 'Jellyfish')\n",
        "num_neurons.insert(3, 5600)\n",
        "\n",
        "animals.extend(('Ferret', 'Octopus'))\n",
        "num_neurons.extend((404000000,500000000))"
      ],
      "execution_count": 0,
      "outputs": []
    },
    {
      "cell_type": "markdown",
      "metadata": {
        "id": "QRCWkG4EF3mn",
        "colab_type": "text"
      },
      "source": [
        "**(d)** group animals into invertebrate and vertebrate and print out average number of neurons per group  "
      ]
    },
    {
      "cell_type": "code",
      "metadata": {
        "id": "0fnFBfL2HRS3",
        "colab_type": "code",
        "outputId": "350ef334-1100-4ff8-920b-b6aba7e18f79",
        "colab": {
          "base_uri": "https://localhost:8080/",
          "height": 52
        }
      },
      "source": [
        "invertebrates=animals[0:6]+[animals[8]]+[animals[12]]\n",
        "num_for_invertebrates = num_neurons[0:6]+[num_neurons[8]]+[num_neurons[12]]\n",
        "\n",
        "vertebrates=animals[9:11]+[animals[7]]\n",
        "num_for_vertebrates = num_neurons[9:11]+[num_neurons[7]]\n",
        "\n",
        "print('Average number of neurons in invertebrate group: %d' %int(sum(num_for_invertebrates)/len(num_for_invertebrates)))\n",
        "print('Average number of neurons in vertebrate group: %d' %int(sum(num_for_vertebrates)/len(num_for_vertebrates)))"
      ],
      "execution_count": 0,
      "outputs": [
        {
          "output_type": "stream",
          "text": [
            "Average number of neurons in invertebrate group: 71378066\n",
            "Average number of neurons in vertebrate group: 338320000\n"
          ],
          "name": "stdout"
        }
      ]
    },
    {
      "cell_type": "markdown",
      "metadata": {
        "id": "3sAikCdm1HJe",
        "colab_type": "text"
      },
      "source": [
        "## **Problem 2:**\n",
        "if statement"
      ]
    },
    {
      "cell_type": "markdown",
      "metadata": {
        "id": "QPAzXwOfNRFV",
        "colab_type": "text"
      },
      "source": [
        "**(a)** Ask the user for a number. Depending on whether the number is even or odd, print out an appropriate message to the user"
      ]
    },
    {
      "cell_type": "code",
      "metadata": {
        "id": "jCTogQzHJyHX",
        "colab_type": "code",
        "outputId": "fd6b3161-0bf9-4ab4-96df-0ec02e15bc99",
        "colab": {
          "base_uri": "https://localhost:8080/",
          "height": 52
        }
      },
      "source": [
        "num = input(\"Enter a number: \")\n",
        "mod = int(num)% 2\n",
        "if mod > 0:\n",
        "    print(\"You picked an odd number.\")\n",
        "else:\n",
        "    print(\"You picked an even number.\")"
      ],
      "execution_count": 0,
      "outputs": [
        {
          "output_type": "stream",
          "text": [
            "Enter a number: 1\n",
            "You picked an odd number.\n"
          ],
          "name": "stdout"
        }
      ]
    },
    {
      "cell_type": "markdown",
      "metadata": {
        "id": "Khk--U_mONba",
        "colab_type": "text"
      },
      "source": [
        "(b) Ask the user for index of three animals to compare. Print animal with higher number of neurons  "
      ]
    },
    {
      "cell_type": "code",
      "metadata": {
        "id": "8yZaC76-NEQ3",
        "colab_type": "code",
        "outputId": "aac2bd42-8765-4ea8-b7c8-c0b1551be55d",
        "colab": {
          "base_uri": "https://localhost:8080/",
          "height": 87
        }
      },
      "source": [
        "num = input(\"Enter list of three numbers with no gaps: \")\n",
        "\n",
        "print('from', animals[int(num[0])],animals[int(num[1])],animals[int(num[2])])\n",
        "\n",
        "if num_neurons[int(num[0])] >= num_neurons[int(num[1])] and \\\n",
        "num_neurons[int(num[0])] >= num_neurons[int(num[2])]:\n",
        "  print(animals[int(num[0])])\n",
        "elif  num_neurons[int(num[1])] >= num_neurons[int(num[0])] and \\\n",
        "num_neurons[int(num[1])] >= num_neurons[int(num[2])]:\n",
        "  print(animals[int(num[1])])\n",
        "else:\n",
        "  print(animals[int(num[2])])\n",
        "print('has max neurons')\n"
      ],
      "execution_count": 0,
      "outputs": [
        {
          "output_type": "stream",
          "text": [
            "Enter list of three numbers with no gaps: 135\n",
            "from Ciona Wasp Zebrafish\n",
            "Zebrafish\n",
            "has max neurons\n"
          ],
          "name": "stdout"
        }
      ]
    },
    {
      "cell_type": "markdown",
      "metadata": {
        "id": "SGrvmI1NTcEL",
        "colab_type": "text"
      },
      "source": [
        "##**Problem 3**\n",
        "\n",
        "while loop"
      ]
    },
    {
      "cell_type": "markdown",
      "metadata": {
        "id": "pQmPhBHcUN-Y",
        "colab_type": "text"
      },
      "source": [
        "**(a)** print out two list with while loop to replicate input list of animals ordered by number of neurons "
      ]
    },
    {
      "cell_type": "code",
      "metadata": {
        "id": "8O3L4CnHROTQ",
        "colab_type": "code",
        "outputId": "d9bfd86e-1fd3-4296-e693-2445e44abef7",
        "colab": {
          "base_uri": "https://localhost:8080/",
          "height": 70
        }
      },
      "source": [
        "x= 0\n",
        "while x<3:\n",
        "  animal = animals[x]\n",
        "  num = num_neurons[x]\n",
        "  print(animal, num)\n",
        "  x+=1"
      ],
      "execution_count": 0,
      "outputs": [
        {
          "output_type": "stream",
          "text": [
            "Sponge 0\n",
            "Ciona 231\n",
            "C.elegans 302\n"
          ],
          "name": "stdout"
        }
      ]
    },
    {
      "cell_type": "markdown",
      "metadata": {
        "id": "4fINq24RX-y6",
        "colab_type": "text"
      },
      "source": [
        "**(b)** print out animals with number of neurons smaller than group average"
      ]
    },
    {
      "cell_type": "code",
      "metadata": {
        "id": "KFGm65uXUJhD",
        "colab_type": "code",
        "colab": {}
      },
      "source": [
        ""
      ],
      "execution_count": 0,
      "outputs": []
    },
    {
      "cell_type": "markdown",
      "metadata": {
        "id": "upTpCmfGYZga",
        "colab_type": "text"
      },
      "source": [
        "## **Problem 4:**\n",
        "for loop"
      ]
    },
    {
      "cell_type": "markdown",
      "metadata": {
        "id": "RcSyItcfGdw5",
        "colab_type": "text"
      },
      "source": [
        "(a) Let's assume that the neurons in every animal are \"fully connected\" – this means that any given neuron makes a synaptic connection with every other neuron.\n",
        "\n",
        "Furthermore, let's assume that each of these connections consists of exactly one synapse.\n",
        "\n",
        "For example, if a brain has 500 neurons, then each neuron makes 499 connections.\n",
        "\n",
        "For every animal from the list, calculate the total number of synapses in a brain. Store the results in a new list called synapse_counts, with the same length as your other 2 lists."
      ]
    },
    {
      "cell_type": "code",
      "metadata": {
        "id": "x6NHjcUQHLRu",
        "colab_type": "code",
        "outputId": "f8f6624a-f2cb-40e2-e265-911480296b2d",
        "colab": {
          "base_uri": "https://localhost:8080/",
          "height": 55
        }
      },
      "source": [
        "# for each region, each neuron connects to every other one\n",
        "# so naively it would be n * (n - 1)\n",
        "# however, this counts each synapse twice, so let's divide by two: \n",
        "\n",
        "synapse_counts = []\n",
        "\n",
        "for counts in num_neurons:\n",
        "    synapse_counts.append(counts * (counts - 1) / 2)\n",
        "    \n",
        "print(synapse_counts)\n"
      ],
      "execution_count": 0,
      "outputs": [
        {
          "output_type": "stream",
          "text": [
            "[0.0, 26565.0, 45451.0, 27376300.0, 60494500.0, 4999950000.0, 31249875000.0, 2520499964500000.0, 2.8879999962e+17, 3.2438591922645e+16]\n"
          ],
          "name": "stdout"
        }
      ]
    },
    {
      "cell_type": "markdown",
      "metadata": {
        "id": "T7rh1jvmPRdG",
        "colab_type": "text"
      },
      "source": [
        "(b) Find out and print which animal has more synapses then another animal has neurons "
      ]
    },
    {
      "cell_type": "code",
      "metadata": {
        "id": "uooI7uxHHqkl",
        "colab_type": "code",
        "colab": {}
      },
      "source": [
        ""
      ],
      "execution_count": 0,
      "outputs": []
    },
    {
      "cell_type": "code",
      "metadata": {
        "id": "FAU5yQFPPprY",
        "colab_type": "code",
        "colab": {}
      },
      "source": [
        ""
      ],
      "execution_count": 0,
      "outputs": []
    },
    {
      "cell_type": "markdown",
      "metadata": {
        "id": "jNAIkahKPsVy",
        "colab_type": "text"
      },
      "source": [
        "creat a dictionary with key = animals and value = num_neurons"
      ]
    },
    {
      "cell_type": "code",
      "metadata": {
        "id": "mDP-1dKGpXF3",
        "colab_type": "code",
        "outputId": "bfaf9f16-a8d6-45f5-f176-0d6b5d8b407b",
        "colab": {
          "base_uri": "https://localhost:8080/",
          "height": 35
        }
      },
      "source": [
        "y= [{animals[i]:num_neurons[i]} for i in range(len(animals))]\n",
        "print(y)"
      ],
      "execution_count": 0,
      "outputs": [
        {
          "output_type": "stream",
          "text": [
            "{'Sponge': 0}\n"
          ],
          "name": "stdout"
        }
      ]
    }
  ]
}