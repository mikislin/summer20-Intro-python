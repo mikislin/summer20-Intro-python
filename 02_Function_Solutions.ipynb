{
  "nbformat": 4,
  "nbformat_minor": 0,
  "metadata": {
    "colab": {
      "name": "02-Function-Solutions.ipynb",
      "provenance": [],
      "collapsed_sections": [],
      "authorship_tag": "ABX9TyN6P9ZJszxxC80yfQeGe8eg",
      "include_colab_link": true
    },
    "kernelspec": {
      "name": "python3",
      "display_name": "Python 3"
    }
  },
  "cells": [
    {
      "cell_type": "markdown",
      "metadata": {
        "id": "view-in-github",
        "colab_type": "text"
      },
      "source": [
        "<a href=\"https://colab.research.google.com/github/mikislin/summer20-Intro-python/blob/master/02_Function_Solutions.ipynb\" target=\"_parent\"><img src=\"https://colab.research.google.com/assets/colab-badge.svg\" alt=\"Open In Colab\"/></a>"
      ]
    },
    {
      "cell_type": "markdown",
      "metadata": {
        "id": "aXXqH0xLlAdW",
        "colab_type": "text"
      },
      "source": [
        "Save as py file and execute in cmd"
      ]
    },
    {
      "cell_type": "code",
      "metadata": {
        "id": "Hzd6q0eaVceN",
        "colab_type": "code",
        "colab": {}
      },
      "source": [
        "def greet_user(first_name, last_name):\n",
        "  print(f'Hi {first_name} {last_name}!')\n",
        "  print('Welcome aboard')"
      ],
      "execution_count": 0,
      "outputs": []
    },
    {
      "cell_type": "code",
      "metadata": {
        "id": "3XEkJfgiZ8DY",
        "colab_type": "code",
        "outputId": "1e8c575b-5372-418d-def7-f153ab39784d",
        "colab": {
          "base_uri": "https://localhost:8080/",
          "height": 35
        }
      },
      "source": [
        "print(\"hello world\")"
      ],
      "execution_count": 0,
      "outputs": [
        {
          "output_type": "stream",
          "text": [
            "hello world\n"
          ],
          "name": "stdout"
        }
      ]
    },
    {
      "cell_type": "code",
      "metadata": {
        "id": "Arx5OTfMltyS",
        "colab_type": "code",
        "colab": {}
      },
      "source": [
        ""
      ],
      "execution_count": 0,
      "outputs": []
    },
    {
      "cell_type": "code",
      "metadata": {
        "id": "f8yw3O0plu6Z",
        "colab_type": "code",
        "colab": {}
      },
      "source": [
        ""
      ],
      "execution_count": 0,
      "outputs": []
    },
    {
      "cell_type": "markdown",
      "metadata": {
        "id": "IVFitq-xlvzy",
        "colab_type": "text"
      },
      "source": [
        "##**Problem 1:**\n",
        "**Functions**\n",
        "\n",
        "**(a)** Write a function with 2 parameters a and b, and returns a+b.\n",
        "\n",
        "Test your function to ensure that it works: run the function, supplying arguments for a and b, and storing the result in a new variable c. Then print out c."
      ]
    },
    {
      "cell_type": "code",
      "metadata": {
        "id": "otYLZxEkmI3R",
        "colab_type": "code",
        "colab": {}
      },
      "source": [
        "def add(a, b):\n",
        "    return a + b\n",
        "\n",
        "c = add(3, 7)\n",
        "print(c)"
      ],
      "execution_count": 0,
      "outputs": []
    },
    {
      "cell_type": "markdown",
      "metadata": {
        "id": "4DfJjaj9mgwj",
        "colab_type": "text"
      },
      "source": [
        "**(b)** Write another function similar to the ones in a, except where argument b is an optional parameter that defaults to None.\n",
        "\n",
        "When the function is used, if an argument is supplied for b then it should be as in the previous questions. However, if no value is supplied for b, the function should print a warning and return None."
      ]
    },
    {
      "cell_type": "code",
      "metadata": {
        "id": "1ZID29aUm2_d",
        "colab_type": "code",
        "outputId": "34180555-d867-4266-8909-d738d82ad9d2",
        "colab": {
          "base_uri": "https://localhost:8080/",
          "height": 70
        }
      },
      "source": [
        "def add_with_warning(a, b=None):\n",
        "    if b is None:\n",
        "        print('Warning: b is None')\n",
        "        # don't need to explicitly return None, since that's the defauly\n",
        "    else:\n",
        "        return a + b\n",
        "\n",
        "print(add_with_warning(1, 2))\n",
        "print(add_with_warning(1))"
      ],
      "execution_count": 0,
      "outputs": [
        {
          "output_type": "stream",
          "text": [
            "3\n",
            "Warning: b is None\n",
            "None\n"
          ],
          "name": "stdout"
        }
      ]
    },
    {
      "cell_type": "markdown",
      "metadata": {
        "id": "mRTJD1BEnLwN",
        "colab_type": "text"
      },
      "source": [
        "**(c)** Write a function that accepts 1 argument, a string, and returns whether or not the string is a valid file name.\n",
        "\n",
        "For our purposes, a valid file name is one that contains exactly one period."
      ]
    },
    {
      "cell_type": "code",
      "metadata": {
        "id": "fRXNpGZim-hw",
        "colab_type": "code",
        "outputId": "9bd8aa32-8ec8-4540-f845-82f40135775e",
        "colab": {
          "base_uri": "https://localhost:8080/",
          "height": 105
        }
      },
      "source": [
        "def is_valid_file_name(file_name):\n",
        "    return file_name.count('.') == 1\n",
        "\n",
        "print(is_valid_file_name('my_fake_file'))\n",
        "print()\n",
        "print(is_valid_file_name('my_real_file.txt'))\n",
        "print()\n",
        "print(is_valid_file_name('another.fake.file'))"
      ],
      "execution_count": 0,
      "outputs": [
        {
          "output_type": "stream",
          "text": [
            "False\n",
            "\n",
            "True\n",
            "\n",
            "False\n"
          ],
          "name": "stdout"
        }
      ]
    },
    {
      "cell_type": "markdown",
      "metadata": {
        "id": "ogBrnp5KnZZA",
        "colab_type": "text"
      },
      "source": [
        "**(d)** Write a new function that accepts 1 argument, a file name string, and returns the extension (ex. .png) of the file.\n",
        "\n",
        "If the file is not a valid file name (use your previous function to determine this!), then print a warning and return None."
      ]
    },
    {
      "cell_type": "code",
      "metadata": {
        "id": "TIoMh5PAnTKL",
        "colab_type": "code",
        "outputId": "20b93033-d2c7-4bec-aa18-14a084815aaa",
        "colab": {
          "base_uri": "https://localhost:8080/",
          "height": 140
        }
      },
      "source": [
        "def split_extension(file_name):\n",
        "    if is_valid_file_name(file_name):\n",
        "        period_index = file_name.index('.')\n",
        "        return file_name[period_index:]\n",
        "    \n",
        "    # I don't need an else here, since I return from the if\n",
        "    # This code is only executed when the if doesn't happen\n",
        "    print('This is not a valid file name, cannot split extension')\n",
        "    # I don't need to return None since that's the default return value\n",
        "    \n",
        "print(split_extension('my_fake_file'))\n",
        "print()\n",
        "print(split_extension('my_real_file.txt'))\n",
        "print()\n",
        "print(split_extension('another.fake.file'))"
      ],
      "execution_count": 0,
      "outputs": [
        {
          "output_type": "stream",
          "text": [
            "This is not a valid file name, cannot split extension\n",
            "None\n",
            "\n",
            ".txt\n",
            "\n",
            "This is not a valid file name, cannot split extension\n",
            "None\n"
          ],
          "name": "stdout"
        }
      ]
    },
    {
      "cell_type": "markdown",
      "metadata": {
        "id": "I256OyitoLiq",
        "colab_type": "text"
      },
      "source": [
        "(e) Write a function that accepts a list of numbers, and does the following:\n",
        "\n",
        "(i) Checks whether every item in the list is an integer, and returns None if any non-integer is found\n",
        "\n",
        "(ii) Finds the largest value in the list\n",
        "\n",
        "(iii) Finds the index of the largest value in the list\n",
        "\n",
        "(iv) Returns a dictionary with 2 keys: max_value and max_idx, with the corresponding values from ii and iii\n",
        "\n",
        "Test your function to make sure it works with different inputs!\n",
        "\n",
        "Hint: the function type() returns the type of a variable. For example, type(3) returns int."
      ]
    },
    {
      "cell_type": "code",
      "metadata": {
        "id": "mi6lheKznoXj",
        "colab_type": "code",
        "outputId": "6c79d6a1-0161-4997-b39f-b965e50a119c",
        "colab": {
          "base_uri": "https://localhost:8080/",
          "height": 87
        }
      },
      "source": [
        "def custom_function(int_list):\n",
        "    # Check that all items are integers \n",
        "    for item in int_list:\n",
        "        if type(item) != int:\n",
        "            print(f'Found a non-integer item: {item}, aborting')\n",
        "            return\n",
        "        \n",
        "    # Find the largest value and index\n",
        "    largest_value = 0\n",
        "    largest_index = 0\n",
        "    for i in range(len(int_list)):\n",
        "        if int_list[i] > largest_value:\n",
        "            largest_value = int_list[i]\n",
        "            largest_index = i\n",
        "            \n",
        "    # return a dictionary as requested\n",
        "    # the dict function syntax is equivalent to:\n",
        "    # {'max_value': largest_value, 'max_idx': largest_index}\n",
        "    return dict(max_value=largest_value, max_idx=largest_index)\n",
        "\n",
        "# Test with a version that should work and a version that should fail\n",
        "print(custom_function([1, 2, 5, 3, 4]))\n",
        "print()\n",
        "print(custom_function([1, 2, 'test', 3, 4]))"
      ],
      "execution_count": 0,
      "outputs": [
        {
          "output_type": "stream",
          "text": [
            "{'max_value': 5, 'max_idx': 2}\n",
            "\n",
            "Found a non-integer item: test, aborting\n",
            "None\n"
          ],
          "name": "stdout"
        }
      ]
    },
    {
      "cell_type": "code",
      "metadata": {
        "id": "ON_t6T7Xocdl",
        "colab_type": "code",
        "colab": {}
      },
      "source": [
        ""
      ],
      "execution_count": 0,
      "outputs": []
    }
  ]
}