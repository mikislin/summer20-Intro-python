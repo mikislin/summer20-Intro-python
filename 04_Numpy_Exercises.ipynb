{
  "nbformat": 4,
  "nbformat_minor": 0,
  "metadata": {
    "colab": {
      "name": "04-Numpy-Exercises.ipynb",
      "provenance": [],
      "collapsed_sections": [],
      "authorship_tag": "ABX9TyM600DLF+hVihkLpIASSjpz",
      "include_colab_link": true
    },
    "kernelspec": {
      "name": "python3",
      "display_name": "Python 3"
    }
  },
  "cells": [
    {
      "cell_type": "markdown",
      "metadata": {
        "id": "view-in-github",
        "colab_type": "text"
      },
      "source": [
        "<a href=\"https://colab.research.google.com/github/mikislin/summer20-Intro-python/blob/master/04_Numpy_Exercises.ipynb\" target=\"_parent\"><img src=\"https://colab.research.google.com/assets/colab-badge.svg\" alt=\"Open In Colab\"/></a>"
      ]
    },
    {
      "cell_type": "markdown",
      "metadata": {
        "id": "FaBJTVAWONEh",
        "colab_type": "text"
      },
      "source": [
        "Download files and add them to working dir \n",
        "\n",
        "https://drive.google.com/file/d/18rWavJe9XuxOq0izLC-FJCXz3Aebfg_j/view?usp=sharing, https://drive.google.com/file/d/1Ew-s6pnZU8DMKK8UKEcWwhJUQqj2Rf5J/view?usp=sharing, https://drive.google.com/file/d/1ZnzkRrxcKdV__0lfTlaMMopPcvdq-dST/view?usp=sharing"
      ]
    },
    {
      "cell_type": "markdown",
      "metadata": {
        "id": "kJTnIxOUOnOg",
        "colab_type": "text"
      },
      "source": [
        "volumes.npy - contains the volume in milliliters of various samples found in the laboratory."
      ]
    },
    {
      "cell_type": "markdown",
      "metadata": {
        "id": "6diPTdlPOwFo",
        "colab_type": "text"
      },
      "source": [
        "**(a)** load volumes.npy and check how many samples were found?"
      ]
    },
    {
      "cell_type": "code",
      "metadata": {
        "id": "HhR0uIPbOY3g",
        "colab_type": "code",
        "colab": {}
      },
      "source": [
        "import numpy as np\n",
        "# using python's built-in length\n",
        "\n",
        "\n",
        "# using numpy's size attribute of a numpy-array\n",
        "\n",
        "# using numpy's size function\n",
        "\n"
      ],
      "execution_count": 0,
      "outputs": []
    },
    {
      "cell_type": "markdown",
      "metadata": {
        "id": "jOrem-0QTWdZ",
        "colab_type": "text"
      },
      "source": [
        "**(b)** What is the average volume of your samples?"
      ]
    },
    {
      "cell_type": "code",
      "metadata": {
        "id": "tbBcy2DcTakE",
        "colab_type": "code",
        "colab": {}
      },
      "source": [
        "# starting naively, with a for loop\n",
        "\n",
        "\n",
        "# using numpy's sum\n",
        "\n",
        "\n",
        "# using numpy's average directly\n"
      ],
      "execution_count": 0,
      "outputs": []
    },
    {
      "cell_type": "markdown",
      "metadata": {
        "id": "frc2zQ9WTlHU",
        "colab_type": "text"
      },
      "source": [
        "**(c)** What are the volumes of the smallest and largest sample?"
      ]
    },
    {
      "cell_type": "code",
      "metadata": {
        "id": "niPciaQZTp5Z",
        "colab_type": "code",
        "colab": {}
      },
      "source": [
        ""
      ],
      "execution_count": 0,
      "outputs": []
    },
    {
      "cell_type": "markdown",
      "metadata": {
        "id": "o2LBq-D4T5ld",
        "colab_type": "text"
      },
      "source": [
        "**(d)** You want to determine whether you can transfer each of your samples completely into a 5-mL tube without the 5-mL tube overflowing.\n",
        "\n",
        "Print out a single statement indicating whether or not you can do this."
      ]
    },
    {
      "cell_type": "code",
      "metadata": {
        "id": "N3iKgC91UFcl",
        "colab_type": "code",
        "colab": {}
      },
      "source": [
        ""
      ],
      "execution_count": 0,
      "outputs": []
    },
    {
      "cell_type": "markdown",
      "metadata": {
        "id": "lS1Mhek7UYp1",
        "colab_type": "text"
      },
      "source": [
        "**(e)** Load in a second array of the tube sizes that currently contain our samples. The tube size data are stored in a file called 'tube_sizes.npy'. Are all the tubes the same size? Print out your answer."
      ]
    },
    {
      "cell_type": "code",
      "metadata": {
        "id": "-gzymnizPOxR",
        "colab_type": "code",
        "colab": {}
      },
      "source": [
        ""
      ],
      "execution_count": 0,
      "outputs": []
    },
    {
      "cell_type": "markdown",
      "metadata": {
        "id": "ialVkDZZU-Kc",
        "colab_type": "text"
      },
      "source": [
        "**(f)** If they are all the same size, print the size. If they are not all the same size, print out the number of distinct tube sizes in our collection."
      ]
    },
    {
      "cell_type": "code",
      "metadata": {
        "id": "qbisIKmqRoSm",
        "colab_type": "code",
        "colab": {}
      },
      "source": [
        ""
      ],
      "execution_count": 0,
      "outputs": []
    },
    {
      "cell_type": "markdown",
      "metadata": {
        "id": "09YBXYcOVKks",
        "colab_type": "text"
      },
      "source": [
        "**(g)** Load in a third array from the file 'volumes_to_add.npy'.\n",
        "\n",
        "This array consists of volumes of a chemical we want to add to the current tubes. For instance, the first item in this array is the volume we want to add to the first tube.\n",
        "\n",
        "Determine whether any tubes will overflow if we add the desired volume."
      ]
    },
    {
      "cell_type": "code",
      "metadata": {
        "id": "PCbGadPrVHA6",
        "colab_type": "code",
        "colab": {}
      },
      "source": [
        ""
      ],
      "execution_count": 0,
      "outputs": []
    },
    {
      "cell_type": "markdown",
      "metadata": {
        "id": "NJPLV8VVV1Ec",
        "colab_type": "text"
      },
      "source": [
        "**(h)** If any tubes will overflow, determine the total amount of overflow fluid after transferring all chemicals into their tubes."
      ]
    },
    {
      "cell_type": "code",
      "metadata": {
        "id": "yQpqDieOVlY2",
        "colab_type": "code",
        "colab": {}
      },
      "source": [
        ""
      ],
      "execution_count": 0,
      "outputs": []
    }
  ]
}