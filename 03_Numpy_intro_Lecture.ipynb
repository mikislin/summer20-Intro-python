{
  "nbformat": 4,
  "nbformat_minor": 0,
  "metadata": {
    "colab": {
      "name": "03-Numpy-intro Lecture.ipynb",
      "provenance": [],
      "collapsed_sections": [],
      "authorship_tag": "ABX9TyPFcHDx0CKOZN6LTtnrrhtx",
      "include_colab_link": true
    },
    "kernelspec": {
      "name": "python3",
      "display_name": "Python 3"
    }
  },
  "cells": [
    {
      "cell_type": "markdown",
      "metadata": {
        "id": "view-in-github",
        "colab_type": "text"
      },
      "source": [
        "<a href=\"https://colab.research.google.com/github/mikislin/summer20-Intro-python/blob/master/03_Numpy_intro_Lecture.ipynb\" target=\"_parent\"><img src=\"https://colab.research.google.com/assets/colab-badge.svg\" alt=\"Open In Colab\"/></a>"
      ]
    },
    {
      "cell_type": "markdown",
      "metadata": {
        "id": "zRE0Q9PWrdlw",
        "colab_type": "text"
      },
      "source": [
        "##**Package:**\n",
        "\n",
        "A special type of module (object) that contains submodules and/or subpackages, providing a hierarchical organization for modules. Packages, just like modules, are loaded using the import statement.\n",
        "\n",
        "A container of one or more related Python modules that can be installed together (for example, **numerical python** or **numpy** is a package containing many submodules. It can be downloaded, installed, and imported.) The name \"library\" is sometimes used interchangeably with package.\n",
        "\n",
        "Let's start by importing numpy. This is one of the most important libraries in the scientific Python stack; we will explore it in detail in the next section."
      ]
    },
    {
      "cell_type": "code",
      "metadata": {
        "id": "tFfNLCcWr2HU",
        "colab_type": "code",
        "colab": {}
      },
      "source": [
        "import numpy"
      ],
      "execution_count": 0,
      "outputs": []
    },
    {
      "cell_type": "markdown",
      "metadata": {
        "id": "NOYDshXlsj1t",
        "colab_type": "text"
      },
      "source": [
        "running cell with `import numpy `\n",
        "two things happen:\n",
        "1. a new module object is created by loading the \"numpy\" module\n",
        "2. the name \"numpy\" is assigned to this new object"
      ]
    },
    {
      "cell_type": "code",
      "metadata": {
        "id": "4ShlRGPrsfck",
        "colab_type": "code",
        "colab": {}
      },
      "source": [
        "numpy"
      ],
      "execution_count": 0,
      "outputs": []
    },
    {
      "cell_type": "markdown",
      "metadata": {
        "id": "C8YNWr16tapd",
        "colab_type": "text"
      },
      "source": [
        "Numpy is a large library. Let's use the dir function, which you learned earlier, to view all of the available methods."
      ]
    },
    {
      "cell_type": "code",
      "metadata": {
        "id": "bq7AV6oRtR8l",
        "colab_type": "code",
        "colab": {}
      },
      "source": [
        " # with len to check how many"
      ],
      "execution_count": 0,
      "outputs": []
    },
    {
      "cell_type": "markdown",
      "metadata": {
        "id": "UR5R3zMrt-ki",
        "colab_type": "text"
      },
      "source": [
        "###**Importing specific functions from a module**\n"
      ]
    },
    {
      "cell_type": "markdown",
      "metadata": {
        "id": "q1g_RQkzuPoy",
        "colab_type": "text"
      },
      "source": [
        "Note that, if we now look at the global namespace using dir, the two names that we've just imported are now visible, which means that they're globally accessible."
      ]
    },
    {
      "cell_type": "code",
      "metadata": {
        "id": "588RWgmbtD0A",
        "colab_type": "code",
        "colab": {}
      },
      "source": [
        ""
      ],
      "execution_count": 0,
      "outputs": []
    },
    {
      "cell_type": "markdown",
      "metadata": {
        "id": "24WimbM4uwPd",
        "colab_type": "text"
      },
      "source": [
        "###**Importing all attributes into the global namespace**\n"
      ]
    },
    {
      "cell_type": "markdown",
      "metadata": {
        "id": "GjDmPNLmu-2U",
        "colab_type": "text"
      },
      "source": [
        "It is possible to import all objects from a module:\n",
        "` from numpy import *`\n",
        "\n",
        "THIS IS GENERALLY DISCOURAGED."
      ]
    },
    {
      "cell_type": "code",
      "metadata": {
        "id": "dv_utz6Wt3k8",
        "colab_type": "code",
        "colab": {}
      },
      "source": [
        ""
      ],
      "execution_count": 0,
      "outputs": []
    },
    {
      "cell_type": "markdown",
      "metadata": {
        "id": "0s2L16zCvIwH",
        "colab_type": "text"
      },
      "source": [
        "It makes a mess of your namespace, it makes it difficult to tell where any given name was defined, and it increases the likelihood of name conflicts. In addition, against intuitive interpretation, it does not \"import everything\". The behavior of this command is defined by the implementation of the module, so it can be difficult to predict what you will get."
      ]
    },
    {
      "cell_type": "markdown",
      "metadata": {
        "id": "-VJSnLAOvZeh",
        "colab_type": "text"
      },
      "source": [
        "###**Common way to import**\n"
      ]
    },
    {
      "cell_type": "code",
      "metadata": {
        "id": "YJtXae8mvZFo",
        "colab_type": "code",
        "colab": {}
      },
      "source": [
        " # immediately renames numpy to np"
      ],
      "execution_count": 0,
      "outputs": []
    },
    {
      "cell_type": "code",
      "metadata": {
        "id": "CniRmViOuWcu",
        "colab_type": "code",
        "colab": {}
      },
      "source": [
        ""
      ],
      "execution_count": 0,
      "outputs": []
    },
    {
      "cell_type": "code",
      "metadata": {
        "id": "4vrKMdOALmdw",
        "colab_type": "code",
        "colab": {}
      },
      "source": [
        ""
      ],
      "execution_count": 0,
      "outputs": []
    },
    {
      "cell_type": "markdown",
      "metadata": {
        "id": "WQgOOBs6wSNj",
        "colab_type": "text"
      },
      "source": [
        "##**NumPy** \n",
        "https://numpy.org/\n",
        "\n",
        "Python library that provides efficient implementations of many functions commonly used in scientific programming.\n",
        "Using NumPy in Python gives functionality comparable to MATLAB. NumPy is probably the most widely used library in the scientific Python stack because it provides one crucial data type--multi-dimensional arrays--that allow us to efficiently manipulate large datasets. NumPy arrays are used and supported by nearly every Python analysis and visualization library, making it the de-facto standard for binding these tools together."
      ]
    },
    {
      "cell_type": "markdown",
      "metadata": {
        "id": "JzucJH0yyUFh",
        "colab_type": "text"
      },
      "source": [
        "**What is an array?**\n",
        "**Why are arrays useful?** \n",
        "\n",
        "Arrays  - containers that hold many items, all of the same type.\n",
        "\n",
        "Represented by a rectangular structure. Arrays may have any number of dimensions, but each dimension (axis) of the array has a fixed length.\n",
        "\n",
        "*   They are fast\n",
        "*   They use memory efficiently\n",
        "*   Used correctly, they can make your code more concise\n",
        "\n",
        "\n",
        "\n",
        "\n"
      ]
    },
    {
      "cell_type": "markdown",
      "metadata": {
        "id": "SH1r-wKHzYUC",
        "colab_type": "text"
      },
      "source": [
        "Let's create multi-dimensional array-like structures by nesting Python lists together"
      ]
    },
    {
      "cell_type": "code",
      "metadata": {
        "id": "BNIQjL5ivvfG",
        "colab_type": "code",
        "colab": {}
      },
      "source": [
        ""
      ],
      "execution_count": 0,
      "outputs": []
    },
    {
      "cell_type": "markdown",
      "metadata": {
        "id": "-B3IvzIXz_bh",
        "colab_type": "text"
      },
      "source": [
        "Let's calculate the mean value of every column:"
      ]
    },
    {
      "cell_type": "code",
      "metadata": {
        "id": "JgRPHlKuz0n6",
        "colab_type": "code",
        "colab": {}
      },
      "source": [
        ""
      ],
      "execution_count": 0,
      "outputs": []
    },
    {
      "cell_type": "markdown",
      "metadata": {
        "id": "NjM_I_480-pL",
        "colab_type": "text"
      },
      "source": [
        "2d array with Numpy"
      ]
    },
    {
      "cell_type": "code",
      "metadata": {
        "id": "RnUa95LD0HJw",
        "colab_type": "code",
        "colab": {}
      },
      "source": [
        ""
      ],
      "execution_count": 0,
      "outputs": []
    },
    {
      "cell_type": "markdown",
      "metadata": {
        "id": "irB2pHuZ1NP-",
        "colab_type": "text"
      },
      "source": [
        "Let's explore the array object :"
      ]
    },
    {
      "cell_type": "code",
      "metadata": {
        "id": "g4oRUrWJ0vaj",
        "colab_type": "code",
        "colab": {}
      },
      "source": [
        "# numpy arrays have a set number of dimensions:\n"
      ],
      "execution_count": 0,
      "outputs": []
    },
    {
      "cell_type": "code",
      "metadata": {
        "id": "y2gi-zsM1R8t",
        "colab_type": "code",
        "colab": {}
      },
      "source": [
        "# each dimension has a specific length\n"
      ],
      "execution_count": 0,
      "outputs": []
    },
    {
      "cell_type": "code",
      "metadata": {
        "id": "Um3fr-Qk1VHF",
        "colab_type": "code",
        "colab": {}
      },
      "source": [
        "# The total number of items in this array (d1 * d2) is given by the size attribute\n"
      ],
      "execution_count": 0,
      "outputs": []
    },
    {
      "cell_type": "code",
      "metadata": {
        "id": "FqF2tKdM1dAB",
        "colab_type": "code",
        "colab": {}
      },
      "source": [
        "# The array's memory usage is the number of items * the number of bytes used by each item\n"
      ],
      "execution_count": 0,
      "outputs": []
    },
    {
      "cell_type": "code",
      "metadata": {
        "id": "m0nYiN8v1k3p",
        "colab_type": "code",
        "colab": {}
      },
      "source": [
        "# all items in the array share the same data type\n"
      ],
      "execution_count": 0,
      "outputs": []
    },
    {
      "cell_type": "code",
      "metadata": {
        "id": "BKhZVwG01uJg",
        "colab_type": "code",
        "colab": {}
      },
      "source": [
        "# convert an array to a different dtype by using the astype() method\n"
      ],
      "execution_count": 0,
      "outputs": []
    },
    {
      "cell_type": "code",
      "metadata": {
        "id": "v5eKhvS6RW8e",
        "colab_type": "code",
        "colab": {}
      },
      "source": [
        "# convert numpy dtypes to native python types\n"
      ],
      "execution_count": 0,
      "outputs": []
    },
    {
      "cell_type": "markdown",
      "metadata": {
        "id": "ExDk6y0e4pDT",
        "colab_type": "text"
      },
      "source": [
        "###**Creating new arrays**\n"
      ]
    },
    {
      "cell_type": "code",
      "metadata": {
        "id": "RLUR54yQ8QTO",
        "colab_type": "code",
        "colab": {}
      },
      "source": [
        "# 1d\n"
      ],
      "execution_count": 0,
      "outputs": []
    },
    {
      "cell_type": "code",
      "metadata": {
        "id": "y06FLeDA2TPi",
        "colab_type": "code",
        "colab": {}
      },
      "source": [
        "# from nested list \n"
      ],
      "execution_count": 0,
      "outputs": []
    },
    {
      "cell_type": "code",
      "metadata": {
        "id": "bkOv02p07bsI",
        "colab_type": "code",
        "colab": {}
      },
      "source": [
        " # with specified data type\n",
        " "
      ],
      "execution_count": 0,
      "outputs": []
    },
    {
      "cell_type": "code",
      "metadata": {
        "id": "cqFoo3Wo7fge",
        "colab_type": "code",
        "colab": {}
      },
      "source": [
        " # 3d array\n",
        " "
      ],
      "execution_count": 0,
      "outputs": []
    },
    {
      "cell_type": "markdown",
      "metadata": {
        "id": "YNqQIjoH874D",
        "colab_type": "text"
      },
      "source": [
        "**Initial Placeholders**"
      ]
    },
    {
      "cell_type": "code",
      "metadata": {
        "id": "Jy3mjIVf9DsC",
        "colab_type": "code",
        "colab": {}
      },
      "source": [
        "# Create an array of a certain shape and dtype, filled with zeros\n"
      ],
      "execution_count": 0,
      "outputs": []
    },
    {
      "cell_type": "code",
      "metadata": {
        "id": "Updl-Be09OBG",
        "colab_type": "code",
        "colab": {}
      },
      "source": [
        "# Create an array of ones\n"
      ],
      "execution_count": 0,
      "outputs": []
    },
    {
      "cell_type": "code",
      "metadata": {
        "id": "AjrUMY899yyv",
        "colab_type": "code",
        "colab": {}
      },
      "source": [
        " # Create an array of evenly spaced values (step value)\n",
        "\n",
        " "
      ],
      "execution_count": 0,
      "outputs": []
    },
    {
      "cell_type": "code",
      "metadata": {
        "id": "54x2SKkX99vU",
        "colab_type": "code",
        "colab": {}
      },
      "source": [
        "# Create an array of evenly spaced values (number of samples)\n",
        "\n"
      ],
      "execution_count": 0,
      "outputs": []
    },
    {
      "cell_type": "code",
      "metadata": {
        "id": "3c1QfB3a-R3t",
        "colab_type": "code",
        "colab": {}
      },
      "source": [
        "# Create a constant array\n",
        "\n"
      ],
      "execution_count": 0,
      "outputs": []
    },
    {
      "cell_type": "code",
      "metadata": {
        "id": "omMTb2QX-cUV",
        "colab_type": "code",
        "colab": {}
      },
      "source": [
        "# Create a 2X2 identity matrix\n",
        "\n"
      ],
      "execution_count": 0,
      "outputs": []
    },
    {
      "cell_type": "code",
      "metadata": {
        "id": "nb3NpNex-r5J",
        "colab_type": "code",
        "colab": {}
      },
      "source": [
        "# Create an array with random values from a normal (Gaussian) distribution\n",
        "\n"
      ],
      "execution_count": 0,
      "outputs": []
    },
    {
      "cell_type": "code",
      "metadata": {
        "id": "PQ96Rc83_erJ",
        "colab_type": "code",
        "colab": {}
      },
      "source": [
        "# Create an empty array\n",
        "\n",
        "#does not set the array values to zero, and may therefore be marginally faster.\n",
        "# On the other hand, it requires the user to manually set all the values in the array, \n",
        "# and should be used with caution.\n",
        "\n"
      ],
      "execution_count": 0,
      "outputs": []
    },
    {
      "cell_type": "markdown",
      "metadata": {
        "id": "QzCPD-aFAyZT",
        "colab_type": "text"
      },
      "source": [
        "order : {'C', 'F'}, optional, default: 'C''\n",
        "Whether to store multi-dimensional data in row-major (C-style) or column-major (Fortran-style) order in memory.\n",
        "\n",
        "![image.png](data:image/png;base64,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)\n"
      ]
    },
    {
      "cell_type": "markdown",
      "metadata": {
        "id": "3o7RuZE9Bj5w",
        "colab_type": "text"
      },
      "source": [
        "###**Subsetting, Slicing, Indexing**"
      ]
    },
    {
      "cell_type": "code",
      "metadata": {
        "id": "6VBOXsNvBqd_",
        "colab_type": "code",
        "colab": {}
      },
      "source": [
        "# Create small array for indexing\n"
      ],
      "execution_count": 0,
      "outputs": []
    },
    {
      "cell_type": "code",
      "metadata": {
        "id": "9FHZwUwoC2kU",
        "colab_type": "code",
        "colab": {}
      },
      "source": [
        "# subsetting\n"
      ],
      "execution_count": 0,
      "outputs": []
    },
    {
      "cell_type": "code",
      "metadata": {
        "id": "5QEypVuHFP1K",
        "colab_type": "code",
        "colab": {}
      },
      "source": [
        "# slicing\n"
      ],
      "execution_count": 0,
      "outputs": []
    },
    {
      "cell_type": "code",
      "metadata": {
        "id": "2NQsfA8fGFPa",
        "colab_type": "code",
        "colab": {}
      },
      "source": [
        "# boolean indexing\n"
      ],
      "execution_count": 0,
      "outputs": []
    },
    {
      "cell_type": "code",
      "metadata": {
        "id": "dDpmbyoXGWU7",
        "colab_type": "code",
        "colab": {}
      },
      "source": [
        "# select a sublet of the matrix \n",
        "\n"
      ],
      "execution_count": 0,
      "outputs": []
    },
    {
      "cell_type": "code",
      "metadata": {
        "id": "V1MlVRbNXjNa",
        "colab_type": "code",
        "colab": {}
      },
      "source": [
        "# copying arrays\n",
        "# Create a view of the array with the same data\n"
      ],
      "execution_count": 0,
      "outputs": []
    },
    {
      "cell_type": "markdown",
      "metadata": {
        "id": "79BWt4qv4CHH",
        "colab_type": "text"
      },
      "source": [
        "###**Saving & Loading On Disk**\n"
      ]
    },
    {
      "cell_type": "code",
      "metadata": {
        "id": "4Nc9T_ZL4DQ9",
        "colab_type": "code",
        "colab": {}
      },
      "source": [
        " # save npy\n"
      ],
      "execution_count": 0,
      "outputs": []
    },
    {
      "cell_type": "code",
      "metadata": {
        "id": "zcCS2cSC4EQ6",
        "colab_type": "code",
        "colab": {}
      },
      "source": [
        "\n"
      ],
      "execution_count": 0,
      "outputs": []
    },
    {
      "cell_type": "code",
      "metadata": {
        "id": "YtRsi3qDHlth",
        "colab_type": "code",
        "colab": {}
      },
      "source": [
        "# The .npz file format is a zipped archive of files named\n",
        "# after the variables they contain. The archive is not compressed\n",
        "# and each file in the archive contains one variable in .npy format.\n",
        "\n"
      ],
      "execution_count": 0,
      "outputs": []
    },
    {
      "cell_type": "code",
      "metadata": {
        "id": "CUVHVV-pHpuh",
        "colab_type": "code",
        "colab": {}
      },
      "source": [
        ""
      ],
      "execution_count": 0,
      "outputs": []
    },
    {
      "cell_type": "markdown",
      "metadata": {
        "id": "svCKjgzFay96",
        "colab_type": "text"
      },
      "source": [
        "##**Array Mathematics**\n"
      ]
    },
    {
      "cell_type": "code",
      "metadata": {
        "id": "E5vLDc8ta23j",
        "colab_type": "code",
        "colab": {}
      },
      "source": [
        "# Subtraction\n",
        "\n"
      ],
      "execution_count": 0,
      "outputs": []
    },
    {
      "cell_type": "code",
      "metadata": {
        "id": "z15aP5vubGB9",
        "colab_type": "code",
        "colab": {}
      },
      "source": [
        "# addition\n",
        "\n"
      ],
      "execution_count": 0,
      "outputs": []
    },
    {
      "cell_type": "code",
      "metadata": {
        "id": "w3S3uZK2fEoV",
        "colab_type": "code",
        "colab": {}
      },
      "source": [
        "# division\n"
      ],
      "execution_count": 0,
      "outputs": []
    },
    {
      "cell_type": "code",
      "metadata": {
        "id": "kt9D3u3Yfk7L",
        "colab_type": "code",
        "colab": {}
      },
      "source": [
        "# multiplication\n"
      ],
      "execution_count": 0,
      "outputs": []
    },
    {
      "cell_type": "code",
      "metadata": {
        "id": "QHqsF8EbfzgM",
        "colab_type": "code",
        "colab": {}
      },
      "source": [
        "# Element-wise natural logarithm \n"
      ],
      "execution_count": 0,
      "outputs": []
    },
    {
      "cell_type": "code",
      "metadata": {
        "id": "Wz4GG-srf_Tr",
        "colab_type": "code",
        "colab": {}
      },
      "source": [
        "# Exponentiation\n"
      ],
      "execution_count": 0,
      "outputs": []
    },
    {
      "cell_type": "code",
      "metadata": {
        "id": "lYhQRrH_gFO9",
        "colab_type": "code",
        "colab": {}
      },
      "source": [
        "# print element-wise cosine\n"
      ],
      "execution_count": 0,
      "outputs": []
    },
    {
      "cell_type": "code",
      "metadata": {
        "id": "a0hycDYkgJzm",
        "colab_type": "code",
        "colab": {}
      },
      "source": [
        "# sum\n"
      ],
      "execution_count": 0,
      "outputs": []
    },
    {
      "cell_type": "code",
      "metadata": {
        "id": "P9ldZF5cgZII",
        "colab_type": "code",
        "colab": {}
      },
      "source": [
        "# min, max , mean, median, std, cumsum\n",
        "\n"
      ],
      "execution_count": 0,
      "outputs": []
    },
    {
      "cell_type": "markdown",
      "metadata": {
        "id": "DZ4p1SA5haOb",
        "colab_type": "text"
      },
      "source": [
        "##**Array Manipulation**\n"
      ]
    },
    {
      "cell_type": "code",
      "metadata": {
        "id": "tEfQaXYZgrdz",
        "colab_type": "code",
        "colab": {}
      },
      "source": [
        "# transposing \n"
      ],
      "execution_count": 0,
      "outputs": []
    },
    {
      "cell_type": "code",
      "metadata": {
        "id": "qP7M6v-LhnZz",
        "colab_type": "code",
        "colab": {}
      },
      "source": [
        "# changing array shape\n"
      ],
      "execution_count": 0,
      "outputs": []
    },
    {
      "cell_type": "code",
      "metadata": {
        "id": "rUlp7LSvh8I8",
        "colab_type": "code",
        "colab": {}
      },
      "source": [
        ""
      ],
      "execution_count": 0,
      "outputs": []
    }
  ]
}