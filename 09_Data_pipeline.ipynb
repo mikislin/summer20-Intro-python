{
  "nbformat": 4,
  "nbformat_minor": 0,
  "metadata": {
    "colab": {
      "name": "09-Data pipeline.ipynb",
      "provenance": [],
      "authorship_tag": "ABX9TyMTqL5+Fh204oXz98DOam0y",
      "include_colab_link": true
    },
    "kernelspec": {
      "name": "python3",
      "display_name": "Python 3"
    }
  },
  "cells": [
    {
      "cell_type": "markdown",
      "metadata": {
        "id": "view-in-github",
        "colab_type": "text"
      },
      "source": [
        "<a href=\"https://colab.research.google.com/github/mikislin/summer20-Intro-python/blob/master/09_Data_pipeline.ipynb\" target=\"_parent\"><img src=\"https://colab.research.google.com/assets/colab-badge.svg\" alt=\"Open In Colab\"/></a>"
      ]
    },
    {
      "cell_type": "markdown",
      "metadata": {
        "id": "Fnan-NDlwGm0",
        "colab_type": "text"
      },
      "source": [
        "please download and add to working folder the following files \n",
        "https://drive.google.com/file/d/1ZIeLfx5oSxTBEVxguS7EQCYsSFTa0e5m/view?usp=sharing, https://drive.google.com/file/d/1gzpncY8IWrSRtpSW5TqwhusyERZefLbc/view?usp=sharing, https://drive.google.com/file/d/1sC9dmCFjEZWo4-Zos0MJGXisfFe5QIEK/view?usp=sharing"
      ]
    },
    {
      "cell_type": "code",
      "metadata": {
        "id": "uD_t3oVnwoac",
        "colab_type": "code",
        "colab": {}
      },
      "source": [
        ""
      ],
      "execution_count": null,
      "outputs": []
    }
  ]
}