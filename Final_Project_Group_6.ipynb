{
  "nbformat": 4,
  "nbformat_minor": 0,
  "metadata": {
    "colab": {
      "name": "Final Project - Group 6.ipynb",
      "provenance": [],
      "collapsed_sections": []
    },
    "kernelspec": {
      "name": "python3",
      "display_name": "Python 3"
    }
  },
  "cells": [
    {
      "cell_type": "code",
      "metadata": {
        "id": "mnB0uFMzIakX",
        "colab_type": "code",
        "colab": {}
      },
      "source": [
        "import numpy as np\n",
        "import matplotlib.pyplot as plt\n",
        "import pandas as pd\n",
        "from scipy.io import loadmat\n",
        "from scipy import stats"
      ],
      "execution_count": null,
      "outputs": []
    },
    {
      "cell_type": "code",
      "metadata": {
        "id": "LWWcvjtiDpe7",
        "colab_type": "code",
        "colab": {
          "base_uri": "https://localhost:8080/",
          "height": 54
        },
        "outputId": "4c0cc8b0-4359-498d-adbc-c40e78952c8f"
      },
      "source": [
        "from google.colab import drive\n",
        "drive.mount('/content/drive')"
      ],
      "execution_count": null,
      "outputs": [
        {
          "output_type": "stream",
          "text": [
            "Drive already mounted at /content/drive; to attempt to forcibly remount, call drive.mount(\"/content/drive\", force_remount=True).\n"
          ],
          "name": "stdout"
        }
      ]
    },
    {
      "cell_type": "markdown",
      "metadata": {
        "id": "Q8l-zYONvJRW",
        "colab_type": "text"
      },
      "source": [
        "IMPORT DATA"
      ]
    },
    {
      "cell_type": "code",
      "metadata": {
        "id": "WXB0wD6AIglz",
        "colab_type": "code",
        "colab": {}
      },
      "source": [
        "ephys_data = loadmat(\"singleunit.mat\")"
      ],
      "execution_count": null,
      "outputs": []
    },
    {
      "cell_type": "markdown",
      "metadata": {
        "id": "2sW3a5L5vRq_",
        "colab_type": "text"
      },
      "source": [
        "BASIC DESCRIPTION OF DATA"
      ]
    },
    {
      "cell_type": "code",
      "metadata": {
        "id": "bD3Pu7Y1I-tz",
        "colab_type": "code",
        "colab": {
          "base_uri": "https://localhost:8080/",
          "height": 34
        },
        "outputId": "b39bf837-853f-4f18-f2b7-cc6ab4e20e1a"
      },
      "source": [
        "type(ephys_data)"
      ],
      "execution_count": null,
      "outputs": [
        {
          "output_type": "execute_result",
          "data": {
            "text/plain": [
              "dict"
            ]
          },
          "metadata": {
            "tags": []
          },
          "execution_count": 9
        }
      ]
    },
    {
      "cell_type": "code",
      "metadata": {
        "id": "wZcZ67o-LK4w",
        "colab_type": "code",
        "colab": {
          "base_uri": "https://localhost:8080/",
          "height": 34
        },
        "outputId": "b2abd7f2-1a66-4271-e8bd-d95a0f53596e"
      },
      "source": [
        "ephys_data.keys()"
      ],
      "execution_count": null,
      "outputs": [
        {
          "output_type": "execute_result",
          "data": {
            "text/plain": [
              "dict_keys(['__header__', '__version__', '__globals__', 'singleunit'])"
            ]
          },
          "metadata": {
            "tags": []
          },
          "execution_count": 10
        }
      ]
    },
    {
      "cell_type": "code",
      "metadata": {
        "id": "PadaFj5l-a1a",
        "colab_type": "code",
        "colab": {
          "base_uri": "https://localhost:8080/",
          "height": 1000
        },
        "outputId": "3e5c3ed1-2cbe-46e2-93dd-d813ee12c247"
      },
      "source": [
        "ephys_data.items()"
      ],
      "execution_count": null,
      "outputs": [
        {
          "output_type": "execute_result",
          "data": {
            "text/plain": [
              "dict_items([('__header__', b'MATLAB 5.0 MAT-file, Platform: PCWIN64, Created on: Tue Jun 16 10:20:29 2020'), ('__version__', '1.0'), ('__globals__', []), ('singleunit', array([[(array(['PN'], dtype='<U2'), array([[10000]], dtype=uint16), array(['seconds'], dtype='<U7'), array([[0]], dtype=uint8), array([[120.5248]]), array([[0.12817383],\n",
              "       [0.08239746],\n",
              "       [0.11901855],\n",
              "       ...,\n",
              "       [0.06713867],\n",
              "       [0.07324219],\n",
              "       [0.07629394]]), array([[-0.0088501 ],\n",
              "       [-0.00823975],\n",
              "       [-0.0088501 ],\n",
              "       ...,\n",
              "       [-0.0088501 ],\n",
              "       [-0.00976562],\n",
              "       [-0.0088501 ]])),\n",
              "        (array(['PN'], dtype='<U2'), array([[10000]], dtype=uint16), array(['seconds'], dtype='<U7'), array([[0]], dtype=uint8), array([[105]], dtype=uint8), array([[0.03356934],\n",
              "       [0.03051758],\n",
              "       [0.09155273],\n",
              "       ...,\n",
              "       [0.08850098],\n",
              "       [0.08544922],\n",
              "       [0.08850098]]), array([[-0.00823975],\n",
              "       [-0.0088501 ],\n",
              "       [-0.0088501 ],\n",
              "       ...,\n",
              "       [-0.00915527],\n",
              "       [-0.00915527],\n",
              "       [-0.00823975]])),\n",
              "        (array(['PN'], dtype='<U2'), array([[10000]], dtype=uint16), array(['seconds'], dtype='<U7'), array([[0]], dtype=uint8), array([[105]], dtype=uint8), array([[-0.05493164],\n",
              "       [-0.05187988],\n",
              "       [-0.08850098],\n",
              "       ...,\n",
              "       [ 0.00305176],\n",
              "       [ 0.08850098],\n",
              "       [ 0.10070801]]), array([[-0.0088501 ],\n",
              "       [-0.00915527],\n",
              "       [-0.0088501 ],\n",
              "       ...,\n",
              "       [-0.00915527],\n",
              "       [-0.00823975],\n",
              "       [-0.00946045]])),\n",
              "        (array(['PN'], dtype='<U2'), array([[10000]], dtype=uint16), array(['seconds'], dtype='<U7'), array([[0]], dtype=uint8), array([[120.4224]]), array([[0.10375976],\n",
              "       [0.10070801],\n",
              "       [0.18920898],\n",
              "       ...,\n",
              "       [0.17089843],\n",
              "       [0.15258789],\n",
              "       [0.2166748 ]]), array([[-0.0088501 ],\n",
              "       [-0.00915527],\n",
              "       [-0.00823975],\n",
              "       ...,\n",
              "       [-0.0088501 ],\n",
              "       [-0.00946045],\n",
              "       [-0.0088501 ]])),\n",
              "        (array(['PN'], dtype='<U2'), array([[10000]], dtype=uint16), array(['seconds'], dtype='<U7'), array([[0]], dtype=uint8), array([[131.1744]]), array([[0.13122558],\n",
              "       [0.15258789],\n",
              "       [0.06713867],\n",
              "       ...,\n",
              "       [0.09765625],\n",
              "       [0.0793457 ],\n",
              "       [0.12817383]]), array([[-0.00854492],\n",
              "       [-0.0088501 ],\n",
              "       [-0.0088501 ],\n",
              "       ...,\n",
              "       [-0.0088501 ],\n",
              "       [-0.00793457],\n",
              "       [-0.00915527]])),\n",
              "        (array(['PN'], dtype='<U2'), array([[10000]], dtype=uint16), array(['seconds'], dtype='<U7'), array([[0]], dtype=uint8), array([[165.4784]]), array([[-0.02441406],\n",
              "       [ 0.04577637],\n",
              "       [ 0.0213623 ],\n",
              "       ...,\n",
              "       [ 0.0213623 ],\n",
              "       [ 0.0213623 ],\n",
              "       [ 0.0579834 ]]), array([[-0.00946045],\n",
              "       [-0.00854492],\n",
              "       [-0.0088501 ],\n",
              "       ...,\n",
              "       [-0.0088501 ],\n",
              "       [-0.00946045],\n",
              "       [-0.0088501 ]])),\n",
              "        (array(['PN'], dtype='<U2'), array([[10000]], dtype=uint16), array(['seconds'], dtype='<U7'), array([[0]], dtype=uint8), array([[124.1088]]), array([[-0.01831055],\n",
              "       [-0.00305176],\n",
              "       [ 0.0579834 ],\n",
              "       ...,\n",
              "       [ 0.0579834 ],\n",
              "       [ 0.09155273],\n",
              "       [ 0.04882812]]), array([[-0.00915527],\n",
              "       [-0.0088501 ],\n",
              "       [-0.00915527],\n",
              "       ...,\n",
              "       [-0.00854492],\n",
              "       [-0.00823975],\n",
              "       [-0.0088501 ]])),\n",
              "        (array(['PN'], dtype='<U2'), array([[10000]], dtype=uint16), array(['seconds'], dtype='<U7'), array([[0]], dtype=uint8), array([[163.1232]]), array([[-0.06408691],\n",
              "       [-0.04882812],\n",
              "       [-0.07019043],\n",
              "       ...,\n",
              "       [-0.02441406],\n",
              "       [-0.01525879],\n",
              "       [-0.03967285]]), array([[-0.0088501 ],\n",
              "       [-0.0088501 ],\n",
              "       [-0.00915527],\n",
              "       ...,\n",
              "       [-0.00915527],\n",
              "       [-0.00854492],\n",
              "       [-0.00915527]])),\n",
              "        (array(['PN'], dtype='<U2'), array([[10000]], dtype=uint16), array(['seconds'], dtype='<U7'), array([[0]], dtype=uint8), array([[125.5424]]), array([[ 0.02746582],\n",
              "       [ 0.01220703],\n",
              "       [-0.01220703],\n",
              "       ...,\n",
              "       [-0.16479492],\n",
              "       [-0.34790039],\n",
              "       [-0.27770996]]), array([[-0.00915527],\n",
              "       [-0.00823975],\n",
              "       [-0.00915527],\n",
              "       ...,\n",
              "       [-0.0088501 ],\n",
              "       [-0.0088501 ],\n",
              "       [-0.00915527]])),\n",
              "        (array(['PN'], dtype='<U2'), array([[10000]], dtype=uint16), array(['seconds'], dtype='<U7'), array([[0]], dtype=uint8), array([[110]], dtype=uint8), array([[ 0.10986328],\n",
              "       [ 0.1159668 ],\n",
              "       [ 0.06713867],\n",
              "       ...,\n",
              "       [-0.01831055],\n",
              "       [-0.03662109],\n",
              "       [ 0.02746582]]), array([[-0.0088501 ],\n",
              "       [-0.00854492],\n",
              "       [-0.0088501 ],\n",
              "       ...,\n",
              "       [-0.00915527],\n",
              "       [-0.00854492],\n",
              "       [-0.00946045]])),\n",
              "        (array(['PN'], dtype='<U2'), array([[10000]], dtype=uint16), array(['seconds'], dtype='<U7'), array([[0]], dtype=uint8), array([[117.8624]]), array([[0.17089843],\n",
              "       [0.14038086],\n",
              "       [0.05493164],\n",
              "       ...,\n",
              "       [0.1159668 ],\n",
              "       [0.13427734],\n",
              "       [0.07019043]]), array([[-0.0088501 ],\n",
              "       [-0.00915527],\n",
              "       [-0.00854492],\n",
              "       ...,\n",
              "       [-0.00915527],\n",
              "       [-0.00946045],\n",
              "       [-0.00946045]])),\n",
              "        (array(['PN'], dtype='<U2'), array([[10000]], dtype=uint16), array(['seconds'], dtype='<U7'), array([[0]], dtype=uint8), array([[130.304]]), array([[-0.13122558],\n",
              "       [-0.03967285],\n",
              "       [ 0.00305176],\n",
              "       ...,\n",
              "       [ 0.11291504],\n",
              "       [ 0.17700195],\n",
              "       [ 0.10070801]]), array([[-0.00823975],\n",
              "       [-0.00915527],\n",
              "       [-0.00854492],\n",
              "       ...,\n",
              "       [-0.0088501 ],\n",
              "       [-0.00854492],\n",
              "       [-0.00793457]])),\n",
              "        (array(['PN'], dtype='<U2'), array([[10000]], dtype=uint16), array(['seconds'], dtype='<U7'), array([[0]], dtype=uint8), array([[121.1904]]), array([[ 0.00305176],\n",
              "       [ 0.00610352],\n",
              "       [ 0.0579834 ],\n",
              "       ...,\n",
              "       [-0.07629394],\n",
              "       [-0.05187988],\n",
              "       [-0.06103516]]), array([[-0.00946045],\n",
              "       [-0.0088501 ],\n",
              "       [-0.00946045],\n",
              "       ...,\n",
              "       [-0.00915527],\n",
              "       [-0.00915527],\n",
              "       [-0.0088501 ]])),\n",
              "        (array(['PN'], dtype='<U2'), array([[10000]], dtype=uint16), array(['seconds'], dtype='<U7'), array([[0]], dtype=uint8), array([[110]], dtype=uint8), array([[-0.09155273],\n",
              "       [-0.14953613],\n",
              "       [-0.17089843],\n",
              "       ...,\n",
              "       [ 0.08544922],\n",
              "       [ 0.0579834 ],\n",
              "       [ 0.09155273]]), array([[-0.00854492],\n",
              "       [-0.0088501 ],\n",
              "       [-0.00854492],\n",
              "       ...,\n",
              "       [-0.00915527],\n",
              "       [-0.0088501 ],\n",
              "       [-0.00976562]])),\n",
              "        (array(['PN'], dtype='<U2'), array([[10000]], dtype=uint16), array(['seconds'], dtype='<U7'), array([[0]], dtype=uint8), array([[110]], dtype=uint8), array([[ 0.12817383],\n",
              "       [ 0.04577637],\n",
              "       [ 0.01525879],\n",
              "       ...,\n",
              "       [-0.00610352],\n",
              "       [-0.02441406],\n",
              "       [ 0.01831055]]), array([[-0.00946045],\n",
              "       [-0.00823975],\n",
              "       [-0.00976562],\n",
              "       ...,\n",
              "       [-0.00854492],\n",
              "       [-0.00946045],\n",
              "       [-0.00823975]])),\n",
              "        (array(['PN'], dtype='<U2'), array([[10000]], dtype=uint16), array(['seconds'], dtype='<U7'), array([[0]], dtype=uint8), array([[110]], dtype=uint8), array([[-0.13122558],\n",
              "       [-0.09155273],\n",
              "       [-0.06408691],\n",
              "       ...,\n",
              "       [ 0.02441406],\n",
              "       [ 0.03051758],\n",
              "       [ 0.00610352]]), array([[-0.00915527],\n",
              "       [-0.00854492],\n",
              "       [-0.00946045],\n",
              "       ...,\n",
              "       [-0.0088501 ],\n",
              "       [-0.00854492],\n",
              "       [-0.00854492]])),\n",
              "        (array(['PN'], dtype='<U2'), array([[10000]], dtype=uint16), array(['seconds'], dtype='<U7'), array([[0]], dtype=uint8), array([[120.6784]]), array([[-0.08239746],\n",
              "       [-0.10375976],\n",
              "       [ 0.00610352],\n",
              "       ...,\n",
              "       [ 0.11901855],\n",
              "       [ 0.17089843],\n",
              "       [ 0.23193359]]), array([[-0.0088501 ],\n",
              "       [-0.00946045],\n",
              "       [-0.00854492],\n",
              "       ...,\n",
              "       [-0.00854492],\n",
              "       [-0.00915527],\n",
              "       [-0.00823975]])),\n",
              "        (array(['PN'], dtype='<U2'), array([[10000]], dtype=uint16), array(['seconds'], dtype='<U7'), array([[0]], dtype=uint8), array([[121.344]]), array([[-0.03356934],\n",
              "       [-0.06408691],\n",
              "       [-0.03356934],\n",
              "       ...,\n",
              "       [ 0.20751953],\n",
              "       [ 0.23193359],\n",
              "       [ 0.20141601]]), array([[-0.00946045],\n",
              "       [-0.00854492],\n",
              "       [-0.00854492],\n",
              "       ...,\n",
              "       [-0.00823975],\n",
              "       [-0.00915527],\n",
              "       [-0.00915527]])),\n",
              "        (array(['PN'], dtype='<U2'), array([[10000]], dtype=uint16), array(['seconds'], dtype='<U7'), array([[0]], dtype=uint8), array([[121.0368]]), array([[0.06103516],\n",
              "       [0.04882812],\n",
              "       [0.06713867],\n",
              "       ...,\n",
              "       [0.0579834 ],\n",
              "       [0.04272461],\n",
              "       [0.08544922]]), array([[-0.0088501 ],\n",
              "       [-0.00915527],\n",
              "       [-0.00793457],\n",
              "       ...,\n",
              "       [-0.00946045],\n",
              "       [-0.00854492],\n",
              "       [-0.00946045]])),\n",
              "        (array(['PN'], dtype='<U2'), array([[10000]], dtype=uint16), array(['seconds'], dtype='<U7'), array([[0]], dtype=uint8), array([[120.6272]]), array([[ 0.03967285],\n",
              "       [ 0.06408691],\n",
              "       [ 0.00610352],\n",
              "       ...,\n",
              "       [-0.11291504],\n",
              "       [-0.06713867],\n",
              "       [-0.06713867]]), array([[-0.00854492],\n",
              "       [-0.00915527],\n",
              "       [-0.00823975],\n",
              "       ...,\n",
              "       [-0.0088501 ],\n",
              "       [-0.00946045],\n",
              "       [-0.00854492]])),\n",
              "        (array(['DCN'], dtype='<U3'), array([[10000]], dtype=uint16), array(['seconds'], dtype='<U7'), array([[0]], dtype=uint8), array([[120.4736]]), array([[ 0.14648437],\n",
              "       [ 0.17700195],\n",
              "       [ 0.16174316],\n",
              "       ...,\n",
              "       [-0.07324219],\n",
              "       [-0.04882812],\n",
              "       [ 0.03967285]]), array([[-0.00946045],\n",
              "       [-0.00915527],\n",
              "       [-0.0088501 ],\n",
              "       ...,\n",
              "       [-0.00854492],\n",
              "       [-0.00946045],\n",
              "       [-0.00915527]])),\n",
              "        (array(['DCN'], dtype='<U3'), array([[10000]], dtype=uint16), array(['seconds'], dtype='<U7'), array([[0]], dtype=uint8), array([[124.16]]), array([[-0.06408691],\n",
              "       [-0.03662109],\n",
              "       [-0.05187988],\n",
              "       ...,\n",
              "       [ 0.11291504],\n",
              "       [ 0.14953613],\n",
              "       [ 0.15258789]]), array([[-0.00946045],\n",
              "       [-0.0088501 ],\n",
              "       [-0.00915527],\n",
              "       ...,\n",
              "       [-0.0088501 ],\n",
              "       [-0.00854492],\n",
              "       [-0.00823975]])),\n",
              "        (array(['DCN'], dtype='<U3'), array([[10000]], dtype=uint16), array(['seconds'], dtype='<U7'), array([[0]], dtype=uint8), array([[120.4736]]), array([[0.07324219],\n",
              "       [0.10375976],\n",
              "       [0.10070801],\n",
              "       ...,\n",
              "       [0.03051758],\n",
              "       [0.02746582],\n",
              "       [0.04577637]]), array([[-0.0088501 ],\n",
              "       [-0.00854492],\n",
              "       [-0.00946045],\n",
              "       ...,\n",
              "       [-0.0088501 ],\n",
              "       [-0.00854492],\n",
              "       [-0.00915527]])),\n",
              "        (array(['DCN'], dtype='<U3'), array([[10000]], dtype=uint16), array(['seconds'], dtype='<U7'), array([[0]], dtype=uint8), array([[120.576]]), array([[0.03051758],\n",
              "       [0.07324219],\n",
              "       [0.06408691],\n",
              "       ...,\n",
              "       [0.0579834 ],\n",
              "       [0.17395019],\n",
              "       [0.23498535]]), array([[-0.00854492],\n",
              "       [-0.00823975],\n",
              "       [-0.00823975],\n",
              "       ...,\n",
              "       [-0.0088501 ],\n",
              "       [-0.0088501 ],\n",
              "       [-0.0088501 ]])),\n",
              "        (array(['DCN'], dtype='<U3'), array([[10000]], dtype=uint16), array(['seconds'], dtype='<U7'), array([[0]], dtype=uint8), array([[165.7344]]), array([[0.10375976],\n",
              "       [0.13427734],\n",
              "       [0.09460449],\n",
              "       ...,\n",
              "       [0.6072998 ],\n",
              "       [2.22778317],\n",
              "       [3.7506103 ]]), array([[-0.00854492],\n",
              "       [-0.00915527],\n",
              "       [-0.0088501 ],\n",
              "       ...,\n",
              "       [-0.00823975],\n",
              "       [-0.00823975],\n",
              "       [-0.0088501 ]])),\n",
              "        (array(['DCN'], dtype='<U3'), array([[10000]], dtype=uint16), array(['seconds'], dtype='<U7'), array([[0]], dtype=uint8), array([[120.4736]]), array([[ 3.28979487],\n",
              "       [ 0.65612792],\n",
              "       [-1.11083983],\n",
              "       ...,\n",
              "       [-0.01220703],\n",
              "       [ 0.04882812],\n",
              "       [ 0.01220703]]), array([[-0.0088501 ],\n",
              "       [-0.00915527],\n",
              "       [-0.0088501 ],\n",
              "       ...,\n",
              "       [-0.0088501 ],\n",
              "       [-0.00854492],\n",
              "       [-0.00915527]])),\n",
              "        (array(['DCN'], dtype='<U3'), array([[10000]], dtype=uint16), array(['seconds'], dtype='<U7'), array([[0]], dtype=uint8), array([[129.1264]]), array([[-0.88500975],\n",
              "       [-0.52185058],\n",
              "       [-0.34484863],\n",
              "       ...,\n",
              "       [ 0.10681152],\n",
              "       [ 0.10986328],\n",
              "       [ 0.15258789]]), array([[-0.0088501 ],\n",
              "       [-0.00823975],\n",
              "       [-0.0088501 ],\n",
              "       ...,\n",
              "       [-0.00823975],\n",
              "       [-0.0088501 ],\n",
              "       [-0.00793457]])),\n",
              "        (array(['DCN'], dtype='<U3'), array([[10000]], dtype=uint16), array(['seconds'], dtype='<U7'), array([[0]], dtype=uint8), array([[121.4976]]), array([[ 0.00610352],\n",
              "       [ 0.06408691],\n",
              "       [ 0.06408691],\n",
              "       ...,\n",
              "       [-0.02441406],\n",
              "       [-0.05187988],\n",
              "       [-0.01220703]]), array([[-0.00854492],\n",
              "       [-0.0088501 ],\n",
              "       [-0.00823975],\n",
              "       ...,\n",
              "       [-0.0088501 ],\n",
              "       [-0.0088501 ],\n",
              "       [-0.0088501 ]])),\n",
              "        (array(['DCN'], dtype='<U3'), array([[10000]], dtype=uint16), array(['seconds'], dtype='<U7'), array([[0]], dtype=uint8), array([[121.4464]]), array([[0.10070801],\n",
              "       [0.10070801],\n",
              "       [0.04272461],\n",
              "       ...,\n",
              "       [0.00305176],\n",
              "       [0.00305176],\n",
              "       [0.06103516]]), array([[-0.0088501 ],\n",
              "       [-0.0088501 ],\n",
              "       [-0.00915527],\n",
              "       ...,\n",
              "       [-0.0088501 ],\n",
              "       [-0.00823975],\n",
              "       [-0.00854492]])),\n",
              "        (array(['DCN'], dtype='<U3'), array([[10000]], dtype=uint16), array(['seconds'], dtype='<U7'), array([[0]], dtype=uint8), array([[135.3728]]), array([[ 0.18615722],\n",
              "       [ 0.28076171],\n",
              "       [ 0.22277832],\n",
              "       ...,\n",
              "       [ 0.00305176],\n",
              "       [-0.01220703],\n",
              "       [-0.03051758]]), array([[-0.00823975],\n",
              "       [-0.00823975],\n",
              "       [-0.00854492],\n",
              "       ...,\n",
              "       [-0.0088501 ],\n",
              "       [-0.00915527],\n",
              "       [-0.00946045]])),\n",
              "        (array(['DCN'], dtype='<U3'), array([[10000]], dtype=uint16), array(['seconds'], dtype='<U7'), array([[0]], dtype=uint8), array([[215.808]]), array([[ 0.09460449],\n",
              "       [ 0.10070801],\n",
              "       [-0.03356934],\n",
              "       ...,\n",
              "       [ 0.05493164],\n",
              "       [-0.07324219],\n",
              "       [-0.07629394]]), array([[-0.00854492],\n",
              "       [-0.00915527],\n",
              "       [-0.00946045],\n",
              "       ...,\n",
              "       [-0.00915527],\n",
              "       [-0.00915527],\n",
              "       [-0.00915527]])),\n",
              "        (array(['DCN'], dtype='<U3'), array([[10000]], dtype=uint16), array(['seconds'], dtype='<U7'), array([[0]], dtype=uint8), array([[133.888]]), array([[-0.07629394],\n",
              "       [-0.0213623 ],\n",
              "       [ 0.01525879],\n",
              "       ...,\n",
              "       [ 0.03051758],\n",
              "       [ 0.06408691],\n",
              "       [ 0.05187988]]), array([[-0.0088501 ],\n",
              "       [-0.00793457],\n",
              "       [-0.0088501 ],\n",
              "       ...,\n",
              "       [-0.0088501 ],\n",
              "       [-0.0088501 ],\n",
              "       [-0.00854492]])),\n",
              "        (array(['DCN'], dtype='<U3'), array([[10000]], dtype=uint16), array(['seconds'], dtype='<U7'), array([[0]], dtype=uint8), array([[180.7872]]), array([[-0.06408691],\n",
              "       [-0.05493164],\n",
              "       [-0.07324219],\n",
              "       ...,\n",
              "       [ 0.14343262],\n",
              "       [ 0.20141601],\n",
              "       [ 0.18005371]]), array([[-0.0088501 ],\n",
              "       [-0.00915527],\n",
              "       [-0.00854492],\n",
              "       ...,\n",
              "       [-0.0088501 ],\n",
              "       [-0.00915527],\n",
              "       [-0.0088501 ]]))]],\n",
              "      dtype=[('NType', 'O'), ('fs', 'O'), ('timeUnit', 'O'), ('recstart', 'O'), ('recstop', 'O'), ('recording', 'O'), ('TTLch', 'O')]))])"
            ]
          },
          "metadata": {
            "tags": []
          },
          "execution_count": 11
        }
      ]
    },
    {
      "cell_type": "code",
      "metadata": {
        "id": "7q7HbVTcmejM",
        "colab_type": "code",
        "colab": {}
      },
      "source": [
        "dat = ephys_data['singleunit']"
      ],
      "execution_count": null,
      "outputs": []
    },
    {
      "cell_type": "code",
      "metadata": {
        "id": "q7UlMg_JdmDY",
        "colab_type": "code",
        "colab": {
          "base_uri": "https://localhost:8080/",
          "height": 34
        },
        "outputId": "efc44d37-d5a3-4163-c658-3bc84bffeae5"
      },
      "source": [
        "type(dat), dat.shape"
      ],
      "execution_count": null,
      "outputs": [
        {
          "output_type": "execute_result",
          "data": {
            "text/plain": [
              "(numpy.ndarray, (1, 33))"
            ]
          },
          "metadata": {
            "tags": []
          },
          "execution_count": 6
        }
      ]
    },
    {
      "cell_type": "code",
      "metadata": {
        "id": "n1DiZPkodmMR",
        "colab_type": "code",
        "colab": {
          "base_uri": "https://localhost:8080/",
          "height": 34
        },
        "outputId": "3440eee1-a09e-474f-ab8b-5ae071618619"
      },
      "source": [
        "# When we use dat[x][y], x is always 0 (not sure why, maybe 1st dimension?), and y is the neuron. Here, this is neuron 1:\n",
        "type(dat[0][0]), dat[0][0].shape"
      ],
      "execution_count": null,
      "outputs": [
        {
          "output_type": "execute_result",
          "data": {
            "text/plain": [
              "(numpy.void, ())"
            ]
          },
          "metadata": {
            "tags": []
          },
          "execution_count": 7
        }
      ]
    },
    {
      "cell_type": "code",
      "metadata": {
        "id": "-QHcwXHJjRZA",
        "colab_type": "code",
        "colab": {
          "base_uri": "https://localhost:8080/",
          "height": 258
        },
        "outputId": "f5d5b048-41cf-43ac-f978-195cf17f6efd"
      },
      "source": [
        "print(dat[0][0])"
      ],
      "execution_count": null,
      "outputs": [
        {
          "output_type": "stream",
          "text": [
            "(array(['PN'], dtype='<U2'), array([[10000]], dtype=uint16), array(['seconds'], dtype='<U7'), array([[0]], dtype=uint8), array([[120.5248]]), array([[0.12817383],\n",
            "       [0.08239746],\n",
            "       [0.11901855],\n",
            "       ...,\n",
            "       [0.06713867],\n",
            "       [0.07324219],\n",
            "       [0.07629394]]), array([[-0.0088501 ],\n",
            "       [-0.00823975],\n",
            "       [-0.0088501 ],\n",
            "       ...,\n",
            "       [-0.0088501 ],\n",
            "       [-0.00976562],\n",
            "       [-0.0088501 ]]))\n"
          ],
          "name": "stdout"
        }
      ]
    },
    {
      "cell_type": "code",
      "metadata": {
        "id": "pI3HQY3PjRdL",
        "colab_type": "code",
        "colab": {
          "base_uri": "https://localhost:8080/",
          "height": 34
        },
        "outputId": "5702a7df-1f27-4e37-ef23-e62dfded7819"
      },
      "source": [
        "dat[0][0]['NType']"
      ],
      "execution_count": null,
      "outputs": [
        {
          "output_type": "execute_result",
          "data": {
            "text/plain": [
              "array(['PN'], dtype='<U2')"
            ]
          },
          "metadata": {
            "tags": []
          },
          "execution_count": 9
        }
      ]
    },
    {
      "cell_type": "code",
      "metadata": {
        "id": "2ZGihVzUjRf9",
        "colab_type": "code",
        "colab": {
          "base_uri": "https://localhost:8080/",
          "height": 34
        },
        "outputId": "11627f74-0615-49da-b447-f89c077541e8"
      },
      "source": [
        "dat[0][0]['recording'].shape"
      ],
      "execution_count": null,
      "outputs": [
        {
          "output_type": "execute_result",
          "data": {
            "text/plain": [
              "(1205248, 1)"
            ]
          },
          "metadata": {
            "tags": []
          },
          "execution_count": 10
        }
      ]
    },
    {
      "cell_type": "markdown",
      "metadata": {
        "id": "FOvv7irOvheA",
        "colab_type": "text"
      },
      "source": [
        "VISUALIZING SAMPLES OF DATA"
      ]
    },
    {
      "cell_type": "code",
      "metadata": {
        "id": "MDht5e5tL3AC",
        "colab_type": "code",
        "colab": {
          "base_uri": "https://localhost:8080/",
          "height": 295
        },
        "outputId": "822edd12-4f3b-4b9f-ee6b-7226777328f9"
      },
      "source": [
        "# 'recording' has the individual spiking patterns for each of the 33 neurons\n",
        "# dat[0][0]['recording'] is for neuron 1, shows all data for neuron 1\n",
        "\n",
        "plt.plot(dat[0][0]['recording'])"
      ],
      "execution_count": null,
      "outputs": [
        {
          "output_type": "execute_result",
          "data": {
            "text/plain": [
              "[<matplotlib.lines.Line2D at 0x7f2cf997cc18>]"
            ]
          },
          "metadata": {
            "tags": []
          },
          "execution_count": 11
        },
        {
          "output_type": "display_data",
          "data": {
            "image/png": "[encoded data removed]",
            "text/plain": [
              "<Figure size 432x288 with 1 Axes>"
            ]
          },
          "metadata": {
            "tags": [],
            "needs_background": "light"
          }
        }
      ]
    },
    {
      "cell_type": "code",
      "metadata": {
        "id": "TuIlza3kShfi",
        "colab_type": "code",
        "colab": {
          "base_uri": "https://localhost:8080/",
          "height": 282
        },
        "outputId": "04481b59-2166-488a-8562-4377ddf88547"
      },
      "source": [
        "# the individual spiking pattern for neuron (zoomed in by going by 100s)\n",
        "\n",
        "plt.plot(dat[0][0]['recording'][0:-1:100])"
      ],
      "execution_count": null,
      "outputs": [
        {
          "output_type": "execute_result",
          "data": {
            "text/plain": [
              "[<matplotlib.lines.Line2D at 0x7fb3b4fce1d0>]"
            ]
          },
          "metadata": {
            "tags": []
          },
          "execution_count": 19
        },
        {
          "output_type": "display_data",
          "data": {
            "image/png": "[encoded data removed]",
            "text/plain": [
              "<Figure size 432x288 with 1 Axes>"
            ]
          },
          "metadata": {
            "tags": [],
            "needs_background": "light"
          }
        }
      ]
    },
    {
      "cell_type": "code",
      "metadata": {
        "id": "3LNi78g3SzX9",
        "colab_type": "code",
        "colab": {
          "base_uri": "https://localhost:8080/",
          "height": 282
        },
        "outputId": "a1aebf4b-439d-4cb6-854c-ba1f717ba4e3"
      },
      "source": [
        "# the individual spiking pattern for neuron 1 (first 10,000 timepoints)\n",
        "\n",
        "plt.plot(dat[0][0]['recording'][0:10000:10])"
      ],
      "execution_count": null,
      "outputs": [
        {
          "output_type": "execute_result",
          "data": {
            "text/plain": [
              "[<matplotlib.lines.Line2D at 0x7fb3b4f2eda0>]"
            ]
          },
          "metadata": {
            "tags": []
          },
          "execution_count": 20
        },
        {
          "output_type": "display_data",
          "data": {
            "image/png": "[encoded data removed]",
            "text/plain": [
              "<Figure size 432x288 with 1 Axes>"
            ]
          },
          "metadata": {
            "tags": [],
            "needs_background": "light"
          }
        }
      ]
    },
    {
      "cell_type": "code",
      "metadata": {
        "id": "lPnNr4-HTE3-",
        "colab_type": "code",
        "colab": {
          "base_uri": "https://localhost:8080/",
          "height": 282
        },
        "outputId": "03f156f4-0450-4d97-9817-6de26c4caf9d"
      },
      "source": [
        "# 'TTLch' shows the optogenetic stimulation patterns for all 33 neurons\n",
        "# dat[0][0]['TTLch'] is for neuron 1\n",
        "\n",
        "plt.plot(dat[0][0]['TTLch'][0:-1:100])"
      ],
      "execution_count": null,
      "outputs": [
        {
          "output_type": "execute_result",
          "data": {
            "text/plain": [
              "[<matplotlib.lines.Line2D at 0x7fb3b4f0ceb8>]"
            ]
          },
          "metadata": {
            "tags": []
          },
          "execution_count": 21
        },
        {
          "output_type": "display_data",
          "data": {
            "image/png": "[encoded data removed]",
            "text/plain": [
              "<Figure size 432x288 with 1 Axes>"
            ]
          },
          "metadata": {
            "tags": [],
            "needs_background": "light"
          }
        }
      ]
    },
    {
      "cell_type": "code",
      "metadata": {
        "id": "CUOAFmbKnbtL",
        "colab_type": "code",
        "colab": {
          "base_uri": "https://localhost:8080/",
          "height": 34
        },
        "outputId": "ce771a6d-1964-4039-9a53-fbfb9df54565"
      },
      "source": [
        "dat[0][0]['TTLch'][17974]"
      ],
      "execution_count": null,
      "outputs": [
        {
          "output_type": "execute_result",
          "data": {
            "text/plain": [
              "array([4.45739746])"
            ]
          },
          "metadata": {
            "tags": []
          },
          "execution_count": 22
        }
      ]
    },
    {
      "cell_type": "code",
      "metadata": {
        "id": "0Shz1LyW9WSM",
        "colab_type": "code",
        "colab": {
          "base_uri": "https://localhost:8080/",
          "height": 282
        },
        "outputId": "123c6e8d-305b-4294-e857-347f42ae144f"
      },
      "source": [
        "# dat[0][0]['recording'] is for neuron 26\n",
        "\n",
        "plt.plot(dat[0][25]['recording'][0:-1:100])"
      ],
      "execution_count": null,
      "outputs": [
        {
          "output_type": "execute_result",
          "data": {
            "text/plain": [
              "[<matplotlib.lines.Line2D at 0x7fb3b4fa66a0>]"
            ]
          },
          "metadata": {
            "tags": []
          },
          "execution_count": 23
        },
        {
          "output_type": "display_data",
          "data": {
            "image/png": "[encoded data removed]",
            "text/plain": [
              "<Figure size 432x288 with 1 Axes>"
            ]
          },
          "metadata": {
            "tags": [],
            "needs_background": "light"
          }
        }
      ]
    },
    {
      "cell_type": "code",
      "metadata": {
        "id": "VEyYIo1P8G4H",
        "colab_type": "code",
        "colab": {
          "base_uri": "https://localhost:8080/",
          "height": 283
        },
        "outputId": "bdbe5362-4521-4c77-86d0-ef77b16d33d9"
      },
      "source": [
        "# dat[0][25]['TTLch'] is for neuron 26 - can see minimum is 3.5 units, so this will be our threshold\n",
        "\n",
        "plt.plot(dat[0][25]['TTLch'][0:-1:100])\n"
      ],
      "execution_count": null,
      "outputs": [
        {
          "output_type": "execute_result",
          "data": {
            "text/plain": [
              "[<matplotlib.lines.Line2D at 0x7fb3b4ed8ac8>]"
            ]
          },
          "metadata": {
            "tags": []
          },
          "execution_count": 24
        },
        {
          "output_type": "display_data",
          "data": {
            "image/png": "[encoded data removed]",
            "text/plain": [
              "<Figure size 432x288 with 1 Axes>"
            ]
          },
          "metadata": {
            "tags": [],
            "needs_background": "light"
          }
        }
      ]
    },
    {
      "cell_type": "markdown",
      "metadata": {
        "id": "3mNF2TDiw5OJ",
        "colab_type": "text"
      },
      "source": [
        "DATA ANALYSIS: DETERMINING FIRING RATES "
      ]
    },
    {
      "cell_type": "code",
      "metadata": {
        "id": "Tl9swnB0-JmM",
        "colab_type": "code",
        "colab": {}
      },
      "source": [
        "# GOALS OF THE PROJECT\n",
        "  # - find the avg firing rates for each neuron during stimulation vs. no stim\n",
        "  # - compare the effects of the optogenetic stimulation on firing rates for\n",
        "  #   different types of neuron, either PN or DCN "
      ],
      "execution_count": null,
      "outputs": []
    },
    {
      "cell_type": "code",
      "metadata": {
        "id": "3-oH-ja28hEN",
        "colab_type": "code",
        "colab": {}
      },
      "source": [
        "## create empty lists for the four variables of interest\n",
        "\n",
        "# avg firing rates for Purkinje Neurons during optogenetic stimulation\n",
        "PN_firing_stim = []\n",
        "# avg firing rates for Purkinje Neurons without optogenetic stimulation\n",
        "PN_firing_no_stim = [] \n",
        "\n",
        "# avg firing rates for Deep Cerebellar Nuclei neurons during optogenetic stimulation\n",
        "DCN_firing_stim = [] \n",
        "# avg firing rates for Deep Cerebellar Nuclei neurons without optogenetic stimulation\n",
        "DCN_firing_no_stim = [] "
      ],
      "execution_count": null,
      "outputs": []
    },
    {
      "cell_type": "code",
      "metadata": {
        "id": "LSMxvGs99jiH",
        "colab_type": "code",
        "colab": {
          "base_uri": "https://localhost:8080/",
          "height": 578
        },
        "outputId": "cc8441ab-06b5-4d78-b234-e7840b98f75e"
      },
      "source": [
        "# sorting neurons by type\n",
        "# first 20 are purkinje neurons, last 13 are DCN neurons\n",
        "for i in range(0, 33):\n",
        "  print(i + 1, dat[0][i]['NType'])"
      ],
      "execution_count": null,
      "outputs": [
        {
          "output_type": "stream",
          "text": [
            "1 ['PN']\n",
            "2 ['PN']\n",
            "3 ['PN']\n",
            "4 ['PN']\n",
            "5 ['PN']\n",
            "6 ['PN']\n",
            "7 ['PN']\n",
            "8 ['PN']\n",
            "9 ['PN']\n",
            "10 ['PN']\n",
            "11 ['PN']\n",
            "12 ['PN']\n",
            "13 ['PN']\n",
            "14 ['PN']\n",
            "15 ['PN']\n",
            "16 ['PN']\n",
            "17 ['PN']\n",
            "18 ['PN']\n",
            "19 ['PN']\n",
            "20 ['PN']\n",
            "21 ['DCN']\n",
            "22 ['DCN']\n",
            "23 ['DCN']\n",
            "24 ['DCN']\n",
            "25 ['DCN']\n",
            "26 ['DCN']\n",
            "27 ['DCN']\n",
            "28 ['DCN']\n",
            "29 ['DCN']\n",
            "30 ['DCN']\n",
            "31 ['DCN']\n",
            "32 ['DCN']\n",
            "33 ['DCN']\n"
          ],
          "name": "stdout"
        }
      ]
    },
    {
      "cell_type": "code",
      "metadata": {
        "id": "HwlANJRbApGF",
        "colab_type": "code",
        "colab": {}
      },
      "source": [
        "# Using loops to find when neurons fire, if they are \"significant\" fires, their averages, etc.\n",
        "\n",
        "# neurons 1 to 20 are Purkinje Neurons\n",
        "\n",
        "for i in range(0, 20):\n",
        "\n",
        "  # create empty lists for times when optogenetic stimulation is on & not on \n",
        "  # these lists get reset for each new neuron\n",
        "  TTLch_stim = []\n",
        "  TTLch_no_stim = []\n",
        "\n",
        "  # create empty lists for electrical recording values during & without stimulation\n",
        "  # these lists get reset for each new neuron\n",
        "  recording_stim = []\n",
        "  recording_no_stim = []\n",
        "    \n",
        "  # go through all 'TTLch' values for the neuron\n",
        "  for j in range(len(dat[0][i]['TTLch'])):\n",
        "\n",
        "    # for all times that the optogenetic stimulation is ON ('TTLch' val > 3.5),\n",
        "    # store the time index and 'recording' value at that time \n",
        "    if dat[0][i]['TTLch'][j] > 3.5:\n",
        "      TTLch_stim.append(j)\n",
        "      recording_stim.append(dat[0][i]['recording'][j])\n",
        "\n",
        "    # for all times that optogenetic stimulation is NOT ON ('TTLch' val < 3.5),\n",
        "    # store the time index and 'recording' value at that time \n",
        "    else:\n",
        "      TTLch_no_stim.append(j)\n",
        "      recording_no_stim.append(dat[0][i]['recording'][j])\n",
        "\n",
        "  # find the average & standard deviation for the stored 'recording' values\n",
        "  avg_recording_stim = np.mean(recording_stim)\n",
        "  std_recording_stim = np.std(recording_stim)\n",
        "  avg_recording_no_stim = np.mean(recording_no_stim)\n",
        "  std_recording_no_stim = np.std(recording_no_stim)\n",
        "\n",
        "  # considered neuron firing if the 'recording' val is more than two \n",
        "  # standard deviations below average\n",
        "  count_stim = 0\n",
        "  count_no_stim = 0\n",
        "\n",
        "  for k in range(len(recording_stim)): # find spike count for stim  \n",
        "    if recording_stim[k] < (avg_recording_stim - (2 * std_recording_stim)):\n",
        "      count_stim += 1\n",
        "      \n",
        "  for l in range(len(recording_no_stim)): # find spike count for no stim\n",
        "    if recording_no_stim[l] < (avg_recording_no_stim - (2 * std_recording_no_stim)):\n",
        "      count_no_stim += 1\n",
        "    \n",
        "  # calculate avg firing for stim & no stim and store in proper list\n",
        "  avg_firing_stim = count_stim / len(recording_stim)\n",
        "  PN_firing_stim.append(avg_firing_stim)\n",
        "  avg_firing_no_stim = count_no_stim / len(recording_no_stim)\n",
        "  PN_firing_no_stim.append(avg_firing_no_stim)\n"
      ],
      "execution_count": null,
      "outputs": []
    },
    {
      "cell_type": "code",
      "metadata": {
        "id": "zrSp2k5fQJhV",
        "colab_type": "code",
        "colab": {
          "base_uri": "https://localhost:8080/",
          "height": 105
        },
        "outputId": "883be7a9-d021-4425-aaa7-5007bb66dd61"
      },
      "source": [
        "# Print the data from the previous chunk: should have 20 entries (20 neurons)\n",
        "print(PN_firing_stim)\n",
        "print(PN_firing_no_stim)\n",
        "print(len(PN_firing_no_stim))\n",
        "print(len(PN_firing_stim))"
      ],
      "execution_count": null,
      "outputs": [
        {
          "output_type": "stream",
          "text": [
            "[0.027677496991576414, 0.03115522801289899, 0.02846832397754611, 0.029835802963556268, 0.033342673017652, 0.03303056978233035, 0.028760396833350035, 0.0315877972615902, 0.031269380814244276, 0.028406703982139785, 0.026268297573691597, 0.028960817717206135, 0.030265422955282437, 0.029048714614384314, 0.025821990701842826, 0.0530445185063675, 0.043613956466069144, 0.03474640726952484, 0.02845691382765531, 0.026474127557160047]\n",
            "[0.013651186157688905, 0.0104629914331211, 0.012851527063804052, 0.013319812834314156, 0.01326586677712489, 0.012438127727010785, 0.012804715098338165, 0.012460046792101373, 0.012467826499367347, 0.009813436479114979, 0.011980706129748806, 0.012890343146997706, 0.012265307412010026, 0.010660680179594612, 0.008778224544678128, 0.013634347733510263, 0.013627377992367296, 0.013555368759040069, 0.013553950889212489, 0.01239088776527821]\n",
            "20\n",
            "20\n"
          ],
          "name": "stdout"
        }
      ]
    },
    {
      "cell_type": "code",
      "metadata": {
        "id": "n4g26XTUI-kB",
        "colab_type": "code",
        "colab": {
          "base_uri": "https://localhost:8080/",
          "height": 34
        },
        "outputId": "37677ef1-b57b-475b-d7c1-57e9e15e82ad"
      },
      "source": [
        "#len(recording_stim)"
      ],
      "execution_count": null,
      "outputs": [
        {
          "output_type": "execute_result",
          "data": {
            "text/plain": [
              "4986"
            ]
          },
          "metadata": {
            "tags": []
          },
          "execution_count": 18
        }
      ]
    },
    {
      "cell_type": "code",
      "metadata": {
        "id": "qbBw7kBTJNSE",
        "colab_type": "code",
        "colab": {
          "base_uri": "https://localhost:8080/",
          "height": 34
        },
        "outputId": "59d81fc3-a7e7-42f6-f54e-f354875e590e"
      },
      "source": [
        "#avg_recording_stim"
      ],
      "execution_count": null,
      "outputs": [
        {
          "output_type": "execute_result",
          "data": {
            "text/plain": [
              "-0.04491170180472183"
            ]
          },
          "metadata": {
            "tags": []
          },
          "execution_count": 19
        }
      ]
    },
    {
      "cell_type": "code",
      "metadata": {
        "id": "GageTl23JNZb",
        "colab_type": "code",
        "colab": {
          "base_uri": "https://localhost:8080/",
          "height": 34
        },
        "outputId": "28b19418-5548-4943-f623-eaa6f0d51b70"
      },
      "source": [
        "#count_stim"
      ],
      "execution_count": null,
      "outputs": [
        {
          "output_type": "execute_result",
          "data": {
            "text/plain": [
              "132"
            ]
          },
          "metadata": {
            "tags": []
          },
          "execution_count": 21
        }
      ]
    },
    {
      "cell_type": "code",
      "metadata": {
        "id": "_vr546FPBOKa",
        "colab_type": "code",
        "colab": {}
      },
      "source": [
        "# Same thing for DCN neurons\n",
        "\n",
        "# neurons 21 to 33 are DCN Neurons\n",
        "\n",
        "for i in range(20, 33):\n",
        "  # create empty lists for times when optogenetic stimulation is on & not on \n",
        "  # these lists get reset for each new neuron\n",
        "  TTLch_stim = []\n",
        "  TTLch_no_stim = []\n",
        "\n",
        "  # create empty lists for electrical recording values during & without stimulation\n",
        "  # these lists get reset for each new neuron\n",
        "  recording_stim = []\n",
        "  recording_no_stim = []\n",
        "    \n",
        "  # go through all 'TTLch' values for the neuron\n",
        "  for j in range(len(dat[0][i]['TTLch'])):\n",
        "\n",
        "    # for all times that the optogenetic stimulation is ON ('TTLch' val > 3.5),\n",
        "    # store the time index and 'recording' value at that time \n",
        "    if dat[0][i]['TTLch'][j] > 3.5:\n",
        "      TTLch_stim.append(j)\n",
        "      recording_stim.append(dat[0][i]['recording'][j])\n",
        "\n",
        "    # for all times that optogenetic stimulation is NOT ON ('TTLch' val < 3.5),\n",
        "    # store the time index and 'recording' value at that time \n",
        "    else:\n",
        "      TTLch_no_stim.append(j)\n",
        "      recording_no_stim.append(dat[0][i]['recording'][j])\n",
        "\n",
        "  # find the average & standard deviation for the stored 'recording' values\n",
        "  avg_recording_stim = np.mean(recording_stim)\n",
        "  std_recording_stim = np.std(recording_stim)\n",
        "  avg_recording_no_stim = np.mean(recording_no_stim)\n",
        "  std_recording_no_stim = np.std(recording_no_stim)\n",
        "\n",
        "  # considered neuron firing if the 'recording' val is more than two \n",
        "  # standard deviations below average\n",
        "  count_stim = 0\n",
        "  count_no_stim = 0\n",
        "\n",
        "  for k in range(len(recording_stim)): # find spike count for stim  \n",
        "    if recording_stim[k] < (avg_recording_stim - (2 * std_recording_stim)):\n",
        "      count_stim += 1\n",
        "      \n",
        "  for l in range(len(recording_no_stim)): # find spike count for no stim\n",
        "    if recording_no_stim[l] < (avg_recording_no_stim - (2 * std_recording_no_stim)):\n",
        "      count_no_stim += 1\n",
        "    \n",
        "  # calculate avg firing for stim & no stim and store in proper list\n",
        "  avg_firing_stim = count_stim / len(recording_stim)\n",
        "  DCN_firing_stim.append(avg_firing_stim)\n",
        "  avg_firing_no_stim = count_no_stim / len(recording_no_stim)\n",
        "  DCN_firing_no_stim.append(avg_firing_no_stim)\n"
      ],
      "execution_count": null,
      "outputs": []
    },
    {
      "cell_type": "code",
      "metadata": {
        "id": "9OgNgCT8BOr4",
        "colab_type": "code",
        "colab": {
          "base_uri": "https://localhost:8080/",
          "height": 105
        },
        "outputId": "c08954ce-22f7-4947-a3b2-5261a7738f90"
      },
      "source": [
        "# Print the data from the previous chunk: should have 13 entries (13 neurons)\n",
        "print(DCN_firing_stim)\n",
        "print(DCN_firing_no_stim)\n",
        "print(len(DCN_firing_no_stim))\n",
        "print(len(DCN_firing_stim))"
      ],
      "execution_count": null,
      "outputs": [
        {
          "output_type": "stream",
          "text": [
            "[0.02891566265060241, 0.033891507069086536, 0.01990069672459358, 0.00850323122786659, 0.0192650089023146, 0.031921300943585626, 0.03358732705033086, 0.022385071279833413, 0.014264992747461612, 0.0020814153624464636, 0.008020854220974533, 0.0036075759094097606, 0.0014004061177741545]\n",
            "[0.025952777064669818, 0.03605068742403341, 0.02685202608661747, 0.02065024534318203, 0.022433421983233018, 0.02809490270930315, 0.029613904736632612, 0.03015452048900676, 0.02334771049592687, 0.013983871999518343, 0.014693280782576507, 0.014149285763198311, 0.01758649945166611]\n",
            "13\n",
            "13\n"
          ],
          "name": "stdout"
        }
      ]
    },
    {
      "cell_type": "markdown",
      "metadata": {
        "id": "SsgWe67GRnAB",
        "colab_type": "text"
      },
      "source": [
        "DISPLAYING THE RESULTS"
      ]
    },
    {
      "cell_type": "code",
      "metadata": {
        "id": "aeVQomY-t2zi",
        "colab_type": "code",
        "colab": {
          "base_uri": "https://localhost:8080/",
          "height": 153
        },
        "outputId": "197b0fbf-2bdf-481d-ca44-5c581001de7f"
      },
      "source": [
        "# independent t-test \n",
        "print(stats.ttest_ind(PN_firing_stim, PN_firing_no_stim)) \n",
        "print(stats.ttest_ind(DCN_firing_stim, DCN_firing_no_stim))\n",
        "\n",
        "# group means\n",
        "print('\\nmean firing rate for all purkinje neurons with stim:   ', np.mean(PN_firing_stim))\n",
        "print('mean firing rate for all purkinje neurons without stim:', np.mean(PN_firing_no_stim))\n",
        "print('\\nmean firing rate for all DCN neurons with stim:   ', np.mean(DCN_firing_stim))\n",
        "print('mean firing rate for all DCN neurons without stim:', np.mean(DCN_firing_no_stim))"
      ],
      "execution_count": null,
      "outputs": [
        {
          "output_type": "stream",
          "text": [
            "Ttest_indResult(statistic=13.086056261255763, pvalue=1.1851635981935246e-15)\n",
            "Ttest_indResult(statistic=-1.5036854751196223, pvalue=0.14570877340200009)\n",
            "\n",
            "mean firing rate for all purkinje neurons with stim:    0.03151177704130343\n",
            "mean firing rate for all purkinje neurons without stim: 0.012343636570721168\n",
            "\n",
            "mean firing rate for all DCN neurons with stim:    0.017518850015867702\n",
            "mean firing rate for all DCN neurons without stim: 0.023351010333043414\n"
          ],
          "name": "stdout"
        }
      ]
    },
    {
      "cell_type": "code",
      "metadata": {
        "id": "HBQvvPBwNpHK",
        "colab_type": "code",
        "colab": {}
      },
      "source": [
        "data_to_plot = [PN_firing_stim, PN_firing_no_stim, DCN_firing_stim, DCN_firing_no_stim]"
      ],
      "execution_count": null,
      "outputs": []
    },
    {
      "cell_type": "code",
      "metadata": {
        "id": "59-SI74_NpNW",
        "colab_type": "code",
        "colab": {
          "base_uri": "https://localhost:8080/",
          "height": 626
        },
        "outputId": "95b03b3f-ac49-414a-c7f2-a7bb891194bf"
      },
      "source": [
        "# Create a figure \n",
        "fig = plt.figure(1, figsize = (14, 10))\n",
        "ax = fig.add_subplot(111)\n",
        "\n",
        "# Create the boxplot & set colors\n",
        "bp = ax.boxplot(data_to_plot, patch_artist=True,\n",
        "                boxprops=dict(facecolor = 'darkorange', color = 'k', lw = 1.5),\n",
        "                capprops=dict(lw = 1.5), whiskerprops=dict(lw = 1.5),\n",
        "                medianprops=dict(color = 'k', lw = 1.5))\n",
        "\n",
        "# Add horizontal axis labels\n",
        "plt.xticks([1, 2, 3, 4], ['Purkinje Neurons with Stimulation', 'Purkinje Neurons without Stimulation', \n",
        "                          'DCN Neurons with Stimulation', 'DCN Neurons without Stimulation'])\n",
        "# Set y-axis limits\n",
        "plt.ylim(0, 0.065)\n",
        "\n",
        "# Add title and y-axis labels\n",
        "ax.set_title('Neuronal Firing Rates with and without Optogenetic Stimulation', fontsize = 16)\n",
        "ax.set_ylabel('Firing Rate', fontsize = 14)\n",
        "\n",
        "# Add significance marks for PN stim vs. no stim\n",
        "plt.plot([1, 1, 2, 2], [0.056, 0.06, 0.06, 0.056], lw = 1.5, c = 'k')\n",
        "plt.text(1.5, .06, \"***\", ha = 'center', va = 'bottom', color = 'k', fontsize = 16)\n"
      ],
      "execution_count": null,
      "outputs": [
        {
          "output_type": "execute_result",
          "data": {
            "text/plain": [
              "Text(1.5, 0.06, '***')"
            ]
          },
          "metadata": {
            "tags": []
          },
          "execution_count": 23
        },
        {
          "output_type": "display_data",
          "data": {
            "image/png": "[encoded data removed]",
            "text/plain": [
              "<Figure size 1008x720 with 1 Axes>"
            ]
          },
          "metadata": {
            "tags": [],
            "needs_background": "light"
          }
        }
      ]
    }
  ]
}