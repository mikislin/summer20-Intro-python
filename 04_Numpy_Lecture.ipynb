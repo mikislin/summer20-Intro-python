{
  "nbformat": 4,
  "nbformat_minor": 0,
  "metadata": {
    "colab": {
      "name": "04-Numpy Lecture.ipynb",
      "provenance": [],
      "collapsed_sections": [],
      "authorship_tag": "ABX9TyNl1LzsL2EvxgWVYCP7QXo7",
      "include_colab_link": true
    },
    "kernelspec": {
      "name": "python3",
      "display_name": "Python 3"
    }
  },
  "cells": [
    {
      "cell_type": "markdown",
      "metadata": {
        "id": "view-in-github",
        "colab_type": "text"
      },
      "source": [
        "<a href=\"https://colab.research.google.com/github/mikislin/summer20-Intro-python/blob/master/04_Numpy_Lecture.ipynb\" target=\"_parent\"><img src=\"https://colab.research.google.com/assets/colab-badge.svg\" alt=\"Open In Colab\"/></a>"
      ]
    },
    {
      "cell_type": "markdown",
      "metadata": {
        "id": "hjMkcX0DHIdG",
        "colab_type": "text"
      },
      "source": [
        "###**Import csv-file as np.array and data description**\n"
      ]
    },
    {
      "cell_type": "markdown",
      "metadata": {
        "id": "vF0MS19iDC9Q",
        "colab_type": "text"
      },
      "source": [
        "download and add to working directory patch-clamp_sweeps.csv\n",
        "\n",
        "https://drive.google.com/file/d/14BjA02ttm3WIvs3Q-iGwgo1uB5rLnoG-/view?usp=sharing\n",
        "\n",
        "The data array contains 11 columns. The first column contains time values, and the rest contain electrode data recorded from 10 consecutive trials."
      ]
    },
    {
      "cell_type": "markdown",
      "metadata": {
        "id": "pHGS9-uIDYvR",
        "colab_type": "text"
      },
      "source": [
        "It’s possible to use NumPy to directly read csv or other files into arrays. We can do this using the **numpy.genfromtxt** or **np.loadtxt** functions. We can use it to read in our initial data"
      ]
    },
    {
      "cell_type": "markdown",
      "metadata": {
        "id": "aRfv0XrOFN1j",
        "colab_type": "text"
      },
      "source": [
        "Using `np.genfromtxt` gives you some options like the parameters `missing_values`, `filling_values` that can help you dealing with an incomplete csv. Or if you want to have a structured array with fields, as it allows you to say `names=True` and the field names will be automatically generated from the first line of the file\n",
        "\n",
        "`np.loadtxt ` has a useful parameter unpack  when you want to put each column of the text file in a different variable. Example:\n",
        "\n",
        "`x, y, z = np.loadtxt(filename, unpack=True)`"
      ]
    },
    {
      "cell_type": "code",
      "metadata": {
        "id": "wvzEB2vsHHYS",
        "colab_type": "code",
        "colab": {}
      },
      "source": [
        "# load and check shape\n"
      ],
      "execution_count": 0,
      "outputs": []
    },
    {
      "cell_type": "code",
      "metadata": {
        "id": "D9CsthcBHdPH",
        "colab_type": "code",
        "colab": {}
      },
      "source": [
        "# Separate time values from the rest of the data\n"
      ],
      "execution_count": 0,
      "outputs": []
    },
    {
      "cell_type": "markdown",
      "metadata": {
        "id": "3pozihW_6QpV",
        "colab_type": "text"
      },
      "source": [
        "if any of this is confusing, just ignore it for now:\n",
        "\n",
        "`import matplotlib`\n",
        "\n",
        "not needed right now the line below with pyplot is sufficient\n",
        "\n",
        "`import matplotlib.pyplot as pl`\n",
        "\n",
        "this is the important line for giving us the module and code we need today for plotting\n",
        "\n",
        "a lot of people use `plt` instead of `pl`\n",
        "\n",
        "\n"
      ]
    },
    {
      "cell_type": "code",
      "metadata": {
        "id": "rQ-SLqfoG8Wc",
        "colab_type": "code",
        "colab": {}
      },
      "source": [
        "# Plot all sweeps overlaid\n"
      ],
      "execution_count": 0,
      "outputs": []
    },
    {
      "cell_type": "code",
      "metadata": {
        "id": "q2oRwIcX1HRF",
        "colab_type": "code",
        "colab": {}
      },
      "source": [
        "# Print some statistics on the entire dataset \n"
      ],
      "execution_count": 0,
      "outputs": []
    },
    {
      "cell_type": "code",
      "metadata": {
        "id": "RiUvVTqJ1eDW",
        "colab_type": "code",
        "colab": {}
      },
      "source": [
        "# Compute the mean value from each recording\n",
        "# (average all values along axis 0)\n",
        "\n"
      ],
      "execution_count": 0,
      "outputs": []
    },
    {
      "cell_type": "code",
      "metadata": {
        "id": "8qSZfSMQ1hN_",
        "colab_type": "code",
        "colab": {}
      },
      "source": [
        "# For each time point, compute (and plot) the average values across all recordings\n",
        "# (mean of all values along axis 1)\n",
        "\n"
      ],
      "execution_count": 0,
      "outputs": []
    },
    {
      "cell_type": "code",
      "metadata": {
        "id": "uw_HD9ItIINy",
        "colab_type": "code",
        "colab": {}
      },
      "source": [
        "# Median value of all samples at 100ms\n"
      ],
      "execution_count": 0,
      "outputs": []
    },
    {
      "cell_type": "code",
      "metadata": {
        "id": "eWnN3UJaJABa",
        "colab_type": "code",
        "colab": {}
      },
      "source": [
        "# Sum (area under curve) for each recording:\n"
      ],
      "execution_count": 0,
      "outputs": []
    },
    {
      "cell_type": "code",
      "metadata": {
        "id": "RaS5mTFwJfW8",
        "colab_type": "code",
        "colab": {}
      },
      "source": [
        "# Minimum (peak) value of each recording occurs at indices\n",
        "\n"
      ],
      "execution_count": 0,
      "outputs": []
    },
    {
      "cell_type": "code",
      "metadata": {
        "id": "42HRqZRGK5Or",
        "colab_type": "code",
        "colab": {}
      },
      "source": [
        "# Minimum (peak) value of average recording occurs at t =\n",
        "\n"
      ],
      "execution_count": 0,
      "outputs": []
    },
    {
      "cell_type": "code",
      "metadata": {
        "id": "DIcNrnuJLFSE",
        "colab_type": "code",
        "colab": {}
      },
      "source": [
        "# save  npz\n"
      ],
      "execution_count": 0,
      "outputs": []
    },
    {
      "cell_type": "code",
      "metadata": {
        "id": "YTkeyRusMc9C",
        "colab_type": "code",
        "colab": {}
      },
      "source": [
        "# load back and verified\n"
      ],
      "execution_count": 0,
      "outputs": []
    }
  ]
}