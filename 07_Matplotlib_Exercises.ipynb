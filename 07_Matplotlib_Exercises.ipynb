{
  "nbformat": 4,
  "nbformat_minor": 0,
  "metadata": {
    "colab": {
      "name": "07-Matplotlib Exercises.ipynb",
      "provenance": [],
      "collapsed_sections": [],
      "authorship_tag": "ABX9TyPet9cBVFPYLqyBE7tC+wG6",
      "include_colab_link": true
    },
    "kernelspec": {
      "name": "python3",
      "display_name": "Python 3"
    }
  },
  "cells": [
    {
      "cell_type": "markdown",
      "metadata": {
        "id": "view-in-github",
        "colab_type": "text"
      },
      "source": [
        "<a href=\"https://colab.research.google.com/github/mikislin/summer20-Intro-python/blob/master/07_Matplotlib_Exercises.ipynb\" target=\"_parent\"><img src=\"https://colab.research.google.com/assets/colab-badge.svg\" alt=\"Open In Colab\"/></a>"
      ]
    },
    {
      "cell_type": "markdown",
      "metadata": {
        "id": "Z0mlh0-dvtfV",
        "colab_type": "text"
      },
      "source": [
        "**(a)** Write a Python program to draw a scatter plot using random distributions to generate drops of different sizes and colors"
      ]
    },
    {
      "cell_type": "code",
      "metadata": {
        "id": "mSL6ifjPvkzT",
        "colab_type": "code",
        "colab": {}
      },
      "source": [
        ""
      ],
      "execution_count": null,
      "outputs": []
    },
    {
      "cell_type": "markdown",
      "metadata": {
        "id": "z1wsW5QeNzHX",
        "colab_type": "text"
      },
      "source": [
        "**(b)** creat a random grayscale image (5,5) and apply apply the following interpolations with imshow()\n",
        "\n",
        "[None, 'none', 'nearest', 'bilinear','bicubic', 'spline16',           'spline36', 'hanning', 'hamming','hermite', 'kaiser', 'quadric',           'catrom', 'gaussian', 'bessel', 'mitchell', 'sinc', 'lanczos']\n",
        "\n",
        "show results side-by-side\n",
        "hint: use `subplot_kw={'xticks': [], 'yticks': []}` when defining the fig and axs to remove x,y ticks"
      ]
    },
    {
      "cell_type": "code",
      "metadata": {
        "id": "ejzYpqU31lTy",
        "colab_type": "code",
        "colab": {}
      },
      "source": [
        ""
      ],
      "execution_count": null,
      "outputs": []
    },
    {
      "cell_type": "markdown",
      "metadata": {
        "id": "jH1HeMbcOqoL",
        "colab_type": "text"
      },
      "source": [
        "**(c)** Make two 50 sec signals with 10ms time resolution and consist of a coherent part (cos(pi * 2 * freq *x) at 5Hz  and a random part (white noise). Plot coherence and cross-correlation of two signals with ax.cohere() and ax.xcorr(). Add autocorrelations with ax.acorr() and maxlags=50 "
      ]
    },
    {
      "cell_type": "code",
      "metadata": {
        "id": "Xvi1rJhmNVWF",
        "colab_type": "code",
        "colab": {}
      },
      "source": [
        ""
      ],
      "execution_count": null,
      "outputs": []
    }
  ]
}