{
  "nbformat": 4,
  "nbformat_minor": 0,
  "metadata": {
    "colab": {
      "name": "01-Flow control Lecture.ipynb",
      "provenance": [],
      "collapsed_sections": [],
      "authorship_tag": "ABX9TyP+SmrzOZBa/YZ+0yzOKBDJ",
      "include_colab_link": true
    },
    "kernelspec": {
      "name": "python3",
      "display_name": "Python 3"
    }
  },
  "cells": [
    {
      "cell_type": "markdown",
      "metadata": {
        "id": "view-in-github",
        "colab_type": "text"
      },
      "source": [
        "<a href=\"https://colab.research.google.com/github/mikislin/summer20-Intro-python/blob/master/01_Flow_control_Lecture.ipynb\" target=\"_parent\"><img src=\"https://colab.research.google.com/assets/colab-badge.svg\" alt=\"Open In Colab\"/></a>"
      ]
    },
    {
      "cell_type": "markdown",
      "metadata": {
        "id": "6Njd-IXfA0Iq",
        "colab_type": "text"
      },
      "source": [
        "##**Python List**"
      ]
    },
    {
      "cell_type": "markdown",
      "metadata": {
        "id": "NoPV-1p-A-60",
        "colab_type": "text"
      },
      "source": [
        "A list is a container which holds comma-separated values (items or elements) between square brackets where items or elements need not all have the same type."
      ]
    },
    {
      "cell_type": "markdown",
      "metadata": {
        "id": "FRULHk5uBLHC",
        "colab_type": "text"
      },
      "source": [
        "Examples of lists:\n",
        "\n",
        "numbers = [1, 2, 3, 4, 5]\n",
        "\n",
        "names = [\"Sara\", \"David\", \"Warner\", \"Sandy\"]\n",
        "\n",
        "student_info = [\"Sara\", 1, \"Chemistry\"]"
      ]
    },
    {
      "cell_type": "code",
      "metadata": {
        "id": "wda3oJptA4HH",
        "colab_type": "code",
        "outputId": "20d7cd14-0d97-46a2-f1b5-c8546aca9cbf",
        "colab": {
          "base_uri": "https://localhost:8080/",
          "height": 35
        }
      },
      "source": [
        "# a simple list (not a numpy array!)\n",
        "\n",
        "my_list = [1, 2, 3]\n",
        "my_list2 = ['hello', f'text {my_list[0] }', True, None]\n",
        "print(my_list,my_list2)"
      ],
      "execution_count": 0,
      "outputs": [
        {
          "output_type": "stream",
          "text": [
            "[1, 2, 3] ['hello', 'text 1', True, None]\n"
          ],
          "name": "stdout"
        }
      ]
    },
    {
      "cell_type": "code",
      "metadata": {
        "id": "RSIjUPOc2AN_",
        "colab_type": "code",
        "outputId": "472f7d44-45dd-41b5-8a5e-315491fc6c93",
        "colab": {
          "base_uri": "https://localhost:8080/",
          "height": 35
        }
      },
      "source": [
        "# indexing: single item\n",
        "first_element = my_list[0]\n",
        "print(first_element)"
      ],
      "execution_count": 0,
      "outputs": [
        {
          "output_type": "stream",
          "text": [
            "1\n"
          ],
          "name": "stdout"
        }
      ]
    },
    {
      "cell_type": "code",
      "metadata": {
        "id": "uXUPYoo1B0kw",
        "colab_type": "code",
        "outputId": "e7da6df7-8017-470d-f033-59c30661f4c9",
        "colab": {
          "base_uri": "https://localhost:8080/",
          "height": 35
        }
      },
      "source": [
        "# indexing: range\n",
        "my_list[0::2]\n",
        "my_list[::-1]"
      ],
      "execution_count": 0,
      "outputs": [
        {
          "output_type": "execute_result",
          "data": {
            "text/plain": [
              "[3, 2, 1]"
            ]
          },
          "metadata": {
            "tags": []
          },
          "execution_count": 3
        }
      ]
    },
    {
      "cell_type": "code",
      "metadata": {
        "id": "TlydxXdFB2ci",
        "colab_type": "code",
        "colab": {}
      },
      "source": [
        "# indexing: backwards"
      ],
      "execution_count": 0,
      "outputs": []
    },
    {
      "cell_type": "code",
      "metadata": {
        "id": "cptBNA2RB40m",
        "colab_type": "code",
        "outputId": "502383fb-bce5-48d8-d7da-4e3d35ebdac5",
        "colab": {
          "base_uri": "https://localhost:8080/",
          "height": 35
        }
      },
      "source": [
        "# indexing: setting a range\n",
        "\n",
        "my_list = ['a','b', 'c', 'd', 'e']\n",
        "\n",
        "my_list[4] = my_list[4].upper()\n",
        "print(my_list)\n",
        "\n",
        "my_list\n",
        "#if statment to check the ranges matches \n",
        "a=[1,2,3]\n",
        "b=[2,3,4,]\n",
        "\n",
        "# The assert keyword is used when debugging code.\n",
        "# The assert keyword lets you test if a condition in your code returns True,\n",
        "# if not, the program will raise an AssertionError.\n",
        "# You can write a message to be written if the code returns False, check the example below.\n",
        "\n",
        "assert len(a) == len(b), 'The list lenghts did not match'"
      ],
      "execution_count": 0,
      "outputs": [
        {
          "output_type": "stream",
          "text": [
            "['a', 'b', 'c', 'd', 'E']\n"
          ],
          "name": "stdout"
        }
      ]
    },
    {
      "cell_type": "code",
      "metadata": {
        "id": "OfYxj9a-CI3b",
        "colab_type": "code",
        "outputId": "ac6273d8-a08c-4b00-b305-972b84a59fe6",
        "colab": {
          "base_uri": "https://localhost:8080/",
          "height": 52
        }
      },
      "source": [
        "# adding lists to each other\n",
        "my_list1 = [1,2,3]\n",
        "my_list2 = [7,8,9]\n",
        "print(my_list1+my_list2) # concatenation\n",
        "print(my_list1 *3) # numpy array would not do this!"
      ],
      "execution_count": 0,
      "outputs": [
        {
          "output_type": "stream",
          "text": [
            "[1, 2, 3, 7, 8, 9]\n",
            "[1, 2, 3, 1, 2, 3, 1, 2, 3]\n"
          ],
          "name": "stdout"
        }
      ]
    },
    {
      "cell_type": "code",
      "metadata": {
        "id": "yO3p2aYUCUcZ",
        "colab_type": "code",
        "outputId": "596018f9-d9cf-4cfb-9632-8bbe3c1407c9",
        "colab": {
          "base_uri": "https://localhost:8080/",
          "height": 35
        }
      },
      "source": [
        "# list methods: append, insert, index\n",
        "my_list.index('a')\n",
        "my_list\n",
        "\n",
        "my_list[:] = ['a','b','c','d']\n",
        "my_list + ['d']\n",
        "#my_list +'d' #does not work\n",
        "my_list.append('d')\n",
        "print(my_list)"
      ],
      "execution_count": 0,
      "outputs": [
        {
          "output_type": "stream",
          "text": [
            "['a', 'b', 'c', 'd', 'd']\n"
          ],
          "name": "stdout"
        }
      ]
    },
    {
      "cell_type": "code",
      "metadata": {
        "id": "ybrlNeSpC8ng",
        "colab_type": "code",
        "outputId": "619af597-ba15-430b-f922-5ee43bff47d9",
        "colab": {
          "base_uri": "https://localhost:8080/",
          "height": 52
        }
      },
      "source": [
        "# common ERROR does not return \n",
        "# my_list = my_list.append('d') # wrong way\n",
        "my_list.append('d')\n",
        "print(my_list)\n",
        "\n",
        "my_list.append\n",
        "# Docstring: L.append(object) -> None -- append object to end\n",
        "# Type:      builtin_function_or_method"
      ],
      "execution_count": 0,
      "outputs": [
        {
          "output_type": "stream",
          "text": [
            "['a', 'b', 'c', 'd', 'd', 'd', 'd', 'd']\n"
          ],
          "name": "stdout"
        },
        {
          "output_type": "execute_result",
          "data": {
            "text/plain": [
              "<function list.append>"
            ]
          },
          "metadata": {
            "tags": []
          },
          "execution_count": 12
        }
      ]
    },
    {
      "cell_type": "code",
      "metadata": {
        "id": "ncANvJqODMQR",
        "colab_type": "code",
        "outputId": "2f220ac5-c101-40f7-fad5-aaa2b62bcd17",
        "colab": {
          "base_uri": "https://localhost:8080/",
          "height": 52
        }
      },
      "source": [
        "# insert element to the list\n",
        "color_list=[\"Red\", \"Blue\", \"Green\", \"Purple\"]\n",
        "print(color_list)\n",
        "color_list.insert(2, \"Orange\")\n",
        "print(color_list)"
      ],
      "execution_count": 0,
      "outputs": [
        {
          "output_type": "stream",
          "text": [
            "['Red', 'Blue', 'Green', 'Black']\n",
            "['Red', 'Blue', 'White', 'Green', 'Black']\n"
          ],
          "name": "stdout"
        }
      ]
    },
    {
      "cell_type": "code",
      "metadata": {
        "id": "x5VFMHW0D9FA",
        "colab_type": "code",
        "outputId": "a559b0ca-14e3-4ad1-d09d-71dc90fafa3b",
        "colab": {
          "base_uri": "https://localhost:8080/",
          "height": 35
        }
      },
      "source": [
        "# Modify an element by using the index of the element\n",
        "color_list[2] = 'Yellow'\n",
        "print(color_list)"
      ],
      "execution_count": 0,
      "outputs": [
        {
          "output_type": "stream",
          "text": [
            "['Red', 'Blue', 'Yellow', 'Green', 'Black']\n"
          ],
          "name": "stdout"
        }
      ]
    },
    {
      "cell_type": "code",
      "metadata": {
        "id": "BhDKaRKTEMJz",
        "colab_type": "code",
        "outputId": "5e147880-cada-4676-cabc-416a1d220329",
        "colab": {
          "base_uri": "https://localhost:8080/",
          "height": 35
        }
      },
      "source": [
        "# Remove an item from the list\n",
        "color_list.remove('Green')\n",
        "print(color_list)"
      ],
      "execution_count": 0,
      "outputs": [
        {
          "output_type": "stream",
          "text": [
            "['Red', 'Blue', 'Yellow', 'Green']\n"
          ],
          "name": "stdout"
        }
      ]
    },
    {
      "cell_type": "code",
      "metadata": {
        "id": "kUrc2osUEecu",
        "colab_type": "code",
        "outputId": "d2042a4f-12ac-44b3-9124-b787f76ba510",
        "colab": {
          "base_uri": "https://localhost:8080/",
          "height": 35
        }
      },
      "source": [
        "# Remove all items from the list\n",
        "color_list.clear()\n",
        "print(color_list)"
      ],
      "execution_count": 0,
      "outputs": [
        {
          "output_type": "stream",
          "text": [
            "[]\n"
          ],
          "name": "stdout"
        }
      ]
    },
    {
      "cell_type": "code",
      "metadata": {
        "id": "ukayO6_2FPy4",
        "colab_type": "code",
        "outputId": "ab72027b-2183-4f6e-f42f-686b12d507d7",
        "colab": {
          "base_uri": "https://localhost:8080/",
          "height": 35
        }
      },
      "source": [
        "# Sort the items of the list in place\n",
        "color_list=[\"Red\", \"Blue\", \"Green\", \"Purple\"]\n",
        "color_list.sort(key=None, reverse=False)\n",
        "print(color_list)"
      ],
      "execution_count": 0,
      "outputs": [
        {
          "output_type": "stream",
          "text": [
            "['Black', 'Blue', 'Green', 'Red']\n"
          ],
          "name": "stdout"
        }
      ]
    },
    {
      "cell_type": "code",
      "metadata": {
        "id": "s-Zz8JUHF1XB",
        "colab_type": "code",
        "outputId": "8d4cbf14-626f-4bad-9a9a-c43568307764",
        "colab": {
          "base_uri": "https://localhost:8080/",
          "height": 52
        }
      },
      "source": [
        "# Find the largest and the smallest item in a list\n",
        "print(max(my_list2))\n",
        "print(min(my_list2))"
      ],
      "execution_count": 0,
      "outputs": [
        {
          "output_type": "stream",
          "text": [
            "9\n",
            "7\n"
          ],
          "name": "stdout"
        }
      ]
    },
    {
      "cell_type": "code",
      "metadata": {
        "id": "qD7iwf_bGWRq",
        "colab_type": "code",
        "outputId": "815b3a70-8641-4e66-a125-e3f78b63cd9e",
        "colab": {
          "base_uri": "https://localhost:8080/",
          "height": 52
        }
      },
      "source": [
        "# Compare two lists in Python\n",
        "listx1, listx2=[9, 7, 5, 3], [3, 5, 7, 9]\n",
        "print(listx1 == listx2)\n",
        "print(listx1.sort() == listx2.sort())"
      ],
      "execution_count": 0,
      "outputs": [
        {
          "output_type": "stream",
          "text": [
            "False\n",
            "True\n"
          ],
          "name": "stdout"
        }
      ]
    },
    {
      "cell_type": "code",
      "metadata": {
        "id": "1aVfQvl9G1yO",
        "colab_type": "code",
        "outputId": "f7fa01e0-2366-4b2e-e2d1-7116f10c0d82",
        "colab": {
          "base_uri": "https://localhost:8080/",
          "height": 52
        }
      },
      "source": [
        "# Nested lists in Python\n",
        "listnest = [['a', 'b', 'c', 'd', 'e'],[0,1,2,3,4,5]]\n",
        "print(listnest[0][1])\n",
        "print(listnest[1][3])"
      ],
      "execution_count": 0,
      "outputs": [
        {
          "output_type": "stream",
          "text": [
            "b\n",
            "3\n"
          ],
          "name": "stdout"
        }
      ]
    },
    {
      "cell_type": "code",
      "metadata": {
        "id": "ApHqWybdHWxx",
        "colab_type": "code",
        "outputId": "7c2b14d0-fd79-4970-c574-5e1e8dae7393",
        "colab": {
          "base_uri": "https://localhost:8080/",
          "height": 35
        }
      },
      "source": [
        "#add new items to nested list\n",
        "listnest.append([True, False])\n",
        "print(listnest)"
      ],
      "execution_count": 0,
      "outputs": [
        {
          "output_type": "stream",
          "text": [
            "[['a', 'b', 'c', 'd', 'e'], [0, 1, 2, 3, 4, 5], [True, False], [True, False]]\n"
          ],
          "name": "stdout"
        }
      ]
    },
    {
      "cell_type": "code",
      "metadata": {
        "id": "sZdkBe4FH1gK",
        "colab_type": "code",
        "outputId": "e7484f1a-0f68-4cd2-819f-ae9607ef3e69",
        "colab": {
          "base_uri": "https://localhost:8080/",
          "height": 35
        }
      },
      "source": [
        "# get the index of an element contained in the list\n",
        "index = listnest[1].index(4, 1 , 5)\n",
        "print(index)"
      ],
      "execution_count": 0,
      "outputs": [
        {
          "output_type": "stream",
          "text": [
            "4\n"
          ],
          "name": "stdout"
        }
      ]
    },
    {
      "cell_type": "code",
      "metadata": {
        "id": "kVTmFpAdIepD",
        "colab_type": "code",
        "outputId": "4a1817b4-5013-40a3-ef00-db0772837bc7",
        "colab": {
          "base_uri": "https://localhost:8080/",
          "height": 35
        }
      },
      "source": [
        "listnest.pop()"
      ],
      "execution_count": 0,
      "outputs": [
        {
          "output_type": "execute_result",
          "data": {
            "text/plain": [
              "[0, 1, 2, 3, 4, 5]"
            ]
          },
          "metadata": {
            "tags": []
          },
          "execution_count": 42
        }
      ]
    },
    {
      "cell_type": "markdown",
      "metadata": {
        "id": "kpQz4fomDVzP",
        "colab_type": "text"
      },
      "source": [
        "###**Problem #1**"
      ]
    },
    {
      "cell_type": "markdown",
      "metadata": {
        "id": "JK_X7IEkJDqL",
        "colab_type": "text"
      },
      "source": [
        "##**Python if...else Statement**"
      ]
    },
    {
      "cell_type": "markdown",
      "metadata": {
        "id": "MugAag-gJYF2",
        "colab_type": "text"
      },
      "source": [
        "Decision making is required when we want to execute a code only if a certain condition is satisfied.\n",
        "\n",
        "The if…elif…else statement is used in Python for decision making."
      ]
    },
    {
      "cell_type": "markdown",
      "metadata": {
        "id": "AJNIWDJqJe29",
        "colab_type": "text"
      },
      "source": [
        "**Python if Statement Syntax**\n",
        "\n",
        "\n",
        "\n",
        "```\n",
        "if test expression:\n",
        "    statement(s)\n",
        "```\n",
        "\n",
        "\n"
      ]
    },
    {
      "cell_type": "markdown",
      "metadata": {
        "id": "ztigg3rAJuGt",
        "colab_type": "text"
      },
      "source": [
        "the role of the colon in the Python programming language’s syntax, is to give a visual indicator that a code block is following directly afterward"
      ]
    },
    {
      "cell_type": "code",
      "metadata": {
        "id": "GDb5STH9Ddp5",
        "colab_type": "code",
        "outputId": "3347a511-5761-43d7-b880-184d52a31f61",
        "colab": {
          "base_uri": "https://localhost:8080/",
          "height": 70
        }
      },
      "source": [
        "# If the number is positive, we print an appropriate message\n",
        "\n",
        "num = 3\n",
        "if num > 0:\n",
        "    print(num, \"is a positive number.\")\n",
        "print(\"This is always printed.\")\n",
        "\n",
        "num = -1\n",
        "if num > 0:\n",
        "    print(num, \"is a positive number.\")\n",
        "print(\"This is also always printed.\")"
      ],
      "execution_count": 0,
      "outputs": [
        {
          "output_type": "stream",
          "text": [
            "3 is a positive number.\n",
            "This is always printed.\n",
            "This is also always printed.\n"
          ],
          "name": "stdout"
        }
      ]
    },
    {
      "cell_type": "markdown",
      "metadata": {
        "id": "tTEiJe4xJ56o",
        "colab_type": "text"
      },
      "source": [
        "**Syntax of if...else**\n",
        "\n",
        "\n",
        "```\n",
        "if test expression:\n",
        "    Body of if\n",
        "else:\n",
        "    Body of else\n",
        "```\n",
        "\n",
        "\n"
      ]
    },
    {
      "cell_type": "code",
      "metadata": {
        "id": "1pbw7WnrGAkQ",
        "colab_type": "code",
        "outputId": "54cac970-2ec0-4ec0-fa7f-450106972a3f",
        "colab": {
          "base_uri": "https://localhost:8080/",
          "height": 35
        }
      },
      "source": [
        "# Program checks if the number is positive or negative\n",
        "# And displays an appropriate message\n",
        "\n",
        "num = -3\n",
        "\n",
        "# Try these two variations as well. \n",
        "# num = -5\n",
        "# num = 0\n",
        "\n",
        "if num >= 0:\n",
        "    print(\"Positive or Zero\")\n",
        "else:\n",
        "    print(\"Negative number\")"
      ],
      "execution_count": 0,
      "outputs": [
        {
          "output_type": "stream",
          "text": [
            "Negative number\n"
          ],
          "name": "stdout"
        }
      ]
    },
    {
      "cell_type": "markdown",
      "metadata": {
        "id": "950I6CVLKJym",
        "colab_type": "text"
      },
      "source": [
        "**Syntax of if...elif...else**\n",
        "\n",
        "```\n",
        "if test expression:\n",
        "    Body of if\n",
        "elif test expression:\n",
        "    Body of elif\n",
        "else: \n",
        "    Body of else\n",
        "```\n",
        "\n",
        "\n"
      ]
    },
    {
      "cell_type": "code",
      "metadata": {
        "id": "RtetyDhLGJJH",
        "colab_type": "code",
        "outputId": "76f211b7-4d3a-4ef5-e520-7188d4c92f5c",
        "colab": {
          "base_uri": "https://localhost:8080/",
          "height": 35
        }
      },
      "source": [
        "'''In this program, \n",
        "we check if the number is positive or\n",
        "negative or zero and \n",
        "display an appropriate message'''\n",
        "\n",
        "num = 0\n",
        "\n",
        "# Try these two variations as well:\n",
        "# num = 0\n",
        "# num = -4.5\n",
        "\n",
        "if num > 0:\n",
        "    print(\"Positive number\")\n",
        "elif num == 0:\n",
        "    print(\"Zero\")\n",
        "else:\n",
        "    print(\"Negative number\")"
      ],
      "execution_count": 0,
      "outputs": [
        {
          "output_type": "stream",
          "text": [
            "Zero\n"
          ],
          "name": "stdout"
        }
      ]
    },
    {
      "cell_type": "markdown",
      "metadata": {
        "id": "4XJejHTwKgcK",
        "colab_type": "text"
      },
      "source": [
        "Python Nested if Example"
      ]
    },
    {
      "cell_type": "code",
      "metadata": {
        "id": "cGdAvbouKZF2",
        "colab_type": "code",
        "outputId": "25b59a3d-11e1-4e7f-a23f-8bd4b43ea290",
        "colab": {
          "base_uri": "https://localhost:8080/",
          "height": 52
        }
      },
      "source": [
        "'''In this program, we input a number\n",
        "check if the number is positive or\n",
        "negative or zero and display\n",
        "an appropriate message\n",
        "This time we use nested if statement'''\n",
        "\n",
        "num = float(input(\"Enter a number: \"))\n",
        "if num >= 0:\n",
        "    if num == 0:\n",
        "        print(\"Zero\")\n",
        "    else:\n",
        "        print(\"Positive number\")\n",
        "else:\n",
        "    print(\"Negative number\")"
      ],
      "execution_count": 0,
      "outputs": [
        {
          "output_type": "stream",
          "text": [
            "Enter a number: 0\n",
            "Zero\n"
          ],
          "name": "stdout"
        }
      ]
    },
    {
      "cell_type": "markdown",
      "metadata": {
        "id": "RANM0CNJLfWa",
        "colab_type": "text"
      },
      "source": [
        "### **Problem #2** "
      ]
    },
    {
      "cell_type": "markdown",
      "metadata": {
        "id": "_nIR4L5HMHno",
        "colab_type": "text"
      },
      "source": [
        "##**Python while loop**\n",
        "The while loop in Python is used to iterate over a block of code as long as the test expression (condition) is true.\n",
        "\n",
        "**Syntax**\n",
        "\n",
        "```\n",
        "while (expression) :\n",
        "    statement_1\n",
        "    statement_2\n",
        "```\n",
        "\n"
      ]
    },
    {
      "cell_type": "code",
      "metadata": {
        "id": "Urmu5iZhVena",
        "colab_type": "code",
        "outputId": "d8b52c05-4d7c-4c35-bcd0-8458bfef7d77",
        "colab": {
          "base_uri": "https://localhost:8080/",
          "height": 105
        }
      },
      "source": [
        "x = 0;\n",
        "while (x < 5):\n",
        "     print(x)\n",
        "     x += 1"
      ],
      "execution_count": 0,
      "outputs": [
        {
          "output_type": "stream",
          "text": [
            "0\n",
            "1\n",
            "2\n",
            "3\n",
            "4\n"
          ],
          "name": "stdout"
        }
      ]
    },
    {
      "cell_type": "markdown",
      "metadata": {
        "id": "S8NN3PqcMMkE",
        "colab_type": "text"
      },
      "source": [
        "##**Python for loop**"
      ]
    },
    {
      "cell_type": "markdown",
      "metadata": {
        "id": "J3YB6cEKKJAQ",
        "colab_type": "text"
      },
      "source": [
        "for loop is used to iterate over the items of any sequence including the Python list, string, tuple etc\n",
        "\n",
        "**Syntax:**\n",
        "\n",
        "```\n",
        "for variable_name in sequence :\n",
        "    statement_1\n",
        "    statement_2\n",
        "    ....\n",
        "```\n",
        "\n"
      ]
    },
    {
      "cell_type": "code",
      "metadata": {
        "id": "ofMUMMSmMRKG",
        "colab_type": "code",
        "outputId": "72b0f7c9-166e-406d-fdf6-3383d1854b06",
        "colab": {
          "base_uri": "https://localhost:8080/",
          "height": 105
        }
      },
      "source": [
        "for c in color_list:\n",
        "  print(c)"
      ],
      "execution_count": 0,
      "outputs": [
        {
          "output_type": "stream",
          "text": [
            "Red\n",
            "Blue\n",
            "White\n",
            "Green\n",
            "Black\n"
          ],
          "name": "stdout"
        }
      ]
    },
    {
      "cell_type": "code",
      "metadata": {
        "id": "1Lwpx7V9Kiy2",
        "colab_type": "code",
        "colab": {}
      },
      "source": [
        "for i in range(0, len(color_list)):\n",
        "  print(i, color_list[i])"
      ],
      "execution_count": 0,
      "outputs": []
    },
    {
      "cell_type": "code",
      "metadata": {
        "id": "nct70CbHK3-t",
        "colab_type": "code",
        "colab": {}
      },
      "source": [
        "for i in range(0, len(color_list),2):\n",
        "  print(i, color_list[i])"
      ],
      "execution_count": 0,
      "outputs": []
    },
    {
      "cell_type": "code",
      "metadata": {
        "id": "O9sAY9VtMGee",
        "colab_type": "code",
        "outputId": "dbd134e6-4aa3-452c-c948-2e626322db11",
        "colab": {
          "base_uri": "https://localhost:8080/",
          "height": 35
        }
      },
      "source": [
        "y = [(i, color_list[i]) for i in range(0, len(color_list))]\n",
        "print(y)"
      ],
      "execution_count": 0,
      "outputs": [
        {
          "output_type": "stream",
          "text": [
            "[(0, 'Red'), (1, 'Blue'), (2, 'White'), (3, 'Green'), (4, 'Black')]\n"
          ],
          "name": "stdout"
        }
      ]
    },
    {
      "cell_type": "code",
      "metadata": {
        "id": "6qY8bAAXF50R",
        "colab_type": "code",
        "outputId": "ec243677-7dde-4162-e566-f0338325e559",
        "colab": {
          "base_uri": "https://localhost:8080/",
          "height": 228
        }
      },
      "source": [
        "for x in range(4):\n",
        "  for y in range(3):\n",
        "    print(f'({x},{y})')\n"
      ],
      "execution_count": 0,
      "outputs": [
        {
          "output_type": "stream",
          "text": [
            "(0,0)\n",
            "(0,1)\n",
            "(0,2)\n",
            "(1,0)\n",
            "(1,1)\n",
            "(1,2)\n",
            "(2,0)\n",
            "(2,1)\n",
            "(2,2)\n",
            "(3,0)\n",
            "(3,1)\n",
            "(3,2)\n"
          ],
          "name": "stdout"
        }
      ]
    },
    {
      "cell_type": "markdown",
      "metadata": {
        "id": "TOYHGY7QMmam",
        "colab_type": "text"
      },
      "source": [
        "##**Python break, continue statement**\n",
        "\n",
        "The break statement is used to exit a for or a while loop. The purpose of this statement is to end the execution of the loop (for or while) immediately and the program control goes to the statement after the last statement of the loop. If there is an optional else statement in while or for loop it skips the optional clause also."
      ]
    },
    {
      "cell_type": "markdown",
      "metadata": {
        "id": "boqIcleYVcfj",
        "colab_type": "text"
      },
      "source": [
        "while loop with if-else and break statement"
      ]
    },
    {
      "cell_type": "code",
      "metadata": {
        "id": "Gsb-OtkmKpcq",
        "colab_type": "code",
        "outputId": "446737f3-06a2-454d-ddb3-9acc92103a6a",
        "colab": {
          "base_uri": "https://localhost:8080/",
          "height": 35
        }
      },
      "source": [
        "x = 1;\n",
        "s = 0\n",
        "while (x < 10):\n",
        "     s = s + x\n",
        "     x = x + 1\n",
        "     if (x == 5):\n",
        "          break\n",
        "else :\n",
        "     print('The sum of first 9 integers : ',s)        \n",
        "print('The sum of ',x,' numbers is :',s) "
      ],
      "execution_count": 0,
      "outputs": [
        {
          "output_type": "stream",
          "text": [
            "The sum of  5  numbers is : 10\n"
          ],
          "name": "stdout"
        }
      ]
    },
    {
      "cell_type": "code",
      "metadata": {
        "id": "vSwAlOUsDCMa",
        "colab_type": "code",
        "outputId": "310c6963-cdf4-4907-ea2c-7f2843cc15dd",
        "colab": {
          "base_uri": "https://localhost:8080/",
          "height": 52
        }
      },
      "source": [
        "secret_number = 12\n",
        "guess_count = 0\n",
        "guess_limit = 3\n",
        "\n",
        "while guess_count < guess_limit:\n",
        "  guess = int(input('Guess a secret number:'))\n",
        "  guess_count += 1\n",
        "  if guess == secret_number:\n",
        "    print('You won!')\n",
        "    break\n",
        "  else:\n",
        "    print('Try one more time')\n",
        "else:\n",
        "  print('Game over')\n"
      ],
      "execution_count": 0,
      "outputs": [
        {
          "output_type": "stream",
          "text": [
            "Guess a secret number:12\n",
            "You won!\n"
          ],
          "name": "stdout"
        }
      ]
    },
    {
      "cell_type": "markdown",
      "metadata": {
        "id": "NUSEChUpNej1",
        "colab_type": "text"
      },
      "source": [
        "The continue statement is used in a while or for loop to take the control to the top of the loop without executing the rest statements inside the loop"
      ]
    },
    {
      "cell_type": "code",
      "metadata": {
        "id": "ALrsN0_xzhno",
        "colab_type": "code",
        "outputId": "7cc713d5-9376-4059-8c34-8673591c9ded",
        "colab": {
          "base_uri": "https://localhost:8080/",
          "height": 105
        }
      },
      "source": [
        "for x in range(7):\n",
        "    if (x == 3 or x==6):\n",
        "        continue\n",
        "    print(x)"
      ],
      "execution_count": 0,
      "outputs": [
        {
          "output_type": "stream",
          "text": [
            "0\n",
            "1\n",
            "2\n",
            "4\n",
            "5\n"
          ],
          "name": "stdout"
        }
      ]
    },
    {
      "cell_type": "code",
      "metadata": {
        "id": "y-ORSO6aKVUV",
        "colab_type": "code",
        "colab": {}
      },
      "source": [
        ""
      ],
      "execution_count": 0,
      "outputs": []
    }
  ]
}