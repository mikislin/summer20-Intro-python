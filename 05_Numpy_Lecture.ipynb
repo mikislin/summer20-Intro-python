{
  "nbformat": 4,
  "nbformat_minor": 0,
  "metadata": {
    "colab": {
      "name": "05-Numpy Lecture.ipynb",
      "provenance": [],
      "collapsed_sections": [],
      "authorship_tag": "ABX9TyOGnUwEqd66kQbpgBGLym3b",
      "include_colab_link": true
    },
    "kernelspec": {
      "name": "python3",
      "display_name": "Python 3"
    }
  },
  "cells": [
    {
      "cell_type": "markdown",
      "metadata": {
        "id": "view-in-github",
        "colab_type": "text"
      },
      "source": [
        "<a href=\"https://colab.research.google.com/github/mikislin/summer20-Intro-python/blob/master/05_Numpy_Lecture.ipynb\" target=\"_parent\"><img src=\"https://colab.research.google.com/assets/colab-badge.svg\" alt=\"Open In Colab\"/></a>"
      ]
    },
    {
      "cell_type": "markdown",
      "metadata": {
        "id": "dz-aPCwuwovc",
        "colab_type": "text"
      },
      "source": [
        "##**Descriptive Statistics with Numpy**\n",
        "\n",
        "NumPy has a numpy.histogram() function that is a graphical representation of the frequency distribution of data. Rectangles of equal horizontal size corresponding to class interval called bin and variable height corresponding to frequency."
      ]
    },
    {
      "cell_type": "code",
      "metadata": {
        "id": "43CbVkl-wuRr",
        "colab_type": "code",
        "colab": {}
      },
      "source": [
        ""
      ],
      "execution_count": null,
      "outputs": []
    },
    {
      "cell_type": "code",
      "metadata": {
        "id": "O4Mv9z_1xn9T",
        "colab_type": "code",
        "colab": {}
      },
      "source": [
        ""
      ],
      "execution_count": null,
      "outputs": []
    },
    {
      "cell_type": "code",
      "metadata": {
        "id": "9R7zSF3Rx5Lr",
        "colab_type": "code",
        "colab": {}
      },
      "source": [
        ""
      ],
      "execution_count": null,
      "outputs": []
    },
    {
      "cell_type": "markdown",
      "metadata": {
        "id": "lGXFaL9qzwVv",
        "colab_type": "text"
      },
      "source": [
        "##**Resampling methods**"
      ]
    },
    {
      "cell_type": "code",
      "metadata": {
        "id": "jv_yqWq_0gtn",
        "colab_type": "code",
        "colab": {}
      },
      "source": [
        "# Set the random seed to make the random numbers predictable\n",
        "# good for reproducibility\n",
        "\n"
      ],
      "execution_count": null,
      "outputs": []
    },
    {
      "cell_type": "code",
      "metadata": {
        "id": "HerPxBLwyh4f",
        "colab_type": "code",
        "colab": {}
      },
      "source": [
        "# create \n"
      ],
      "execution_count": null,
      "outputs": []
    },
    {
      "cell_type": "code",
      "metadata": {
        "id": "Qdu87xY8Bnms",
        "colab_type": "code",
        "colab": {}
      },
      "source": [
        "# Shuffling occurs \"in place\" for efficiency"
      ],
      "execution_count": 1,
      "outputs": []
    },
    {
      "cell_type": "code",
      "metadata": {
        "id": "epxQxuagBqut",
        "colab_type": "code",
        "colab": {}
      },
      "source": [
        "# numpy.random.permutation does the same thing as np.random.shuffle\n",
        "# but returns a copy"
      ],
      "execution_count": null,
      "outputs": []
    },
    {
      "cell_type": "code",
      "metadata": {
        "id": "4rbHAommB9QC",
        "colab_type": "code",
        "colab": {}
      },
      "source": [
        "# When given an integre n, permutation treats is as the array arange(n)\n"
      ],
      "execution_count": null,
      "outputs": []
    },
    {
      "cell_type": "markdown",
      "metadata": {
        "id": "Aj_gbWD21mmB",
        "colab_type": "text"
      },
      "source": [
        "##**Bootstrap**\n",
        "\n",
        "The bootstrap is commonly used to estimate statistics when theory fails."
      ]
    },
    {
      "cell_type": "code",
      "metadata": {
        "id": "PwA7uniu11TI",
        "colab_type": "code",
        "colab": {}
      },
      "source": [
        "# what is the 95% confidence interval for\n",
        "# the mean of this data set if you didn't know how it was generated?\n",
        "\n",
        "x = np.concatenate([np.random.exponential(size=200), np.random.normal(size=100)])\n",
        "plt.hist(x, 25, histtype='step');\n"
      ],
      "execution_count": null,
      "outputs": []
    },
    {
      "cell_type": "code",
      "metadata": {
        "id": "NC6yG6zC2jNx",
        "colab_type": "code",
        "colab": {}
      },
      "source": [
        "n = len(x)\n",
        "reps = 10000\n",
        "xb = np.random.choice(x, (n, reps))\n",
        "mb = xb.mean(axis=0)\n",
        "mb.sort()\n",
        "\n",
        "np.percentile(mb, [2.5, 97.5])"
      ],
      "execution_count": null,
      "outputs": []
    },
    {
      "cell_type": "code",
      "metadata": {
        "id": "otqiTi8j2kqR",
        "colab_type": "code",
        "colab": {}
      },
      "source": [
        "# let's define data with a function\n",
        "def f(x):\n",
        "    return x * np.cos(71*x) + np.sin(13*x)"
      ],
      "execution_count": null,
      "outputs": []
    },
    {
      "cell_type": "code",
      "metadata": {
        "id": "QQMoTXoB20Nk",
        "colab_type": "code",
        "colab": {}
      },
      "source": [
        "# let's get n data samples \n",
        "n = 100\n",
        "x = f(np.random.random(n))\n",
        "x_norm = np.random.normal(1.5, 0.2, n)"
      ],
      "execution_count": null,
      "outputs": []
    },
    {
      "cell_type": "code",
      "metadata": {
        "id": "vuL42LyO28c0",
        "colab_type": "code",
        "colab": {}
      },
      "source": [
        "# bootstrap \n",
        "reps = 1000\n",
        "xb = np.random.choice(x, (n, reps), replace=True)\n",
        "yb =  np.cumsum(xb, axis=0)\n",
        "yb_x =  np.cumsum(x, axis=0)\n",
        "upper, lower = np.percentile(yb, [2.5, 97.5], axis=1)"
      ],
      "execution_count": null,
      "outputs": []
    },
    {
      "cell_type": "code",
      "metadata": {
        "id": "nb58HUVe3KDq",
        "colab_type": "code",
        "colab": {}
      },
      "source": [
        "plt.plot(np.arange(1, n+1)[:, None], yb, c='grey', alpha=0.02)\n",
        "plt.plot(np.arange(1, n+1), yb_x, c='red', linewidth=1)\n",
        "plt.plot(np.arange(1, n+1), upper, 'b', np.arange(1, n+1), lower, 'b')\n",
        "plt.show()"
      ],
      "execution_count": null,
      "outputs": []
    },
    {
      "cell_type": "markdown",
      "metadata": {
        "id": "zEFCvoht8CnC",
        "colab_type": "text"
      },
      "source": [
        "##**Permutation resampling**\n",
        "\n",
        "Permuatation resampling is used ot generate the null distribtuion of labeled data by switching lebals."
      ]
    },
    {
      "cell_type": "markdown",
      "metadata": {
        "id": "FiT6usOy8XWs",
        "colab_type": "text"
      },
      "source": [
        "Suppose you have 2 data sets from unknown distribution and you want to test if some arbitrary statistic (e.g 7th percentile) is the same in the 2 data sets - what can you do?\n",
        "\n",
        "An appropirate test statistic is the difference between the 7th percentile, and if we knew the null distribution of this statisic, we could test for the null hypothesis that the statistic = 0. Permuting the labels of the 2 data sets allows us to create the empirical null distribution."
      ]
    },
    {
      "cell_type": "code",
      "metadata": {
        "id": "DqT1SHGP3L7X",
        "colab_type": "code",
        "colab": {}
      },
      "source": [
        "x = np.concatenate([np.random.exponential(size=200),\n",
        "                    np.random.normal(0, 1, size=100)])\n",
        "y = np.concatenate([np.random.exponential(size=250),\n",
        "                    np.random.normal(0, 1, size=50)])"
      ],
      "execution_count": null,
      "outputs": []
    },
    {
      "cell_type": "code",
      "metadata": {
        "id": "XuDXbDPw4SGU",
        "colab_type": "code",
        "colab": {}
      },
      "source": [
        "# map to minimal len data\n",
        "n1, n2 = map(len, (x, y))"
      ],
      "execution_count": null,
      "outputs": []
    },
    {
      "cell_type": "code",
      "metadata": {
        "id": "J1_AQBJU8cXc",
        "colab_type": "code",
        "colab": {}
      },
      "source": [
        "data = np.concatenate([x, y])\n",
        "reps = 10000\n",
        "ps = np.array([np.random.permutation(n1+n2) for i in range(reps)])\n",
        "ps.shape"
      ],
      "execution_count": null,
      "outputs": []
    },
    {
      "cell_type": "code",
      "metadata": {
        "id": "c-m_1K8s-Wmo",
        "colab_type": "code",
        "colab": {}
      },
      "source": [
        "plt.hist(data, 25, histtype='step')\n",
        "plt.hist(x, 25, histtype='step')\n",
        "plt.hist(y, 25, histtype='step')\n",
        "plt.show()"
      ],
      "execution_count": null,
      "outputs": []
    },
    {
      "cell_type": "code",
      "metadata": {
        "id": "bCc6ElVL8dFF",
        "colab_type": "code",
        "colab": {}
      },
      "source": [
        "xp = data[ps[:, :n1]]\n",
        "yp = data[ps[:, n1:]]\n",
        "samples = np.percentile(xp, 7, axis=1) - np.percentile(yp, 7, axis=1)"
      ],
      "execution_count": null,
      "outputs": []
    },
    {
      "cell_type": "code",
      "metadata": {
        "id": "5f1PTHT-9DaB",
        "colab_type": "code",
        "colab": {}
      },
      "source": [
        "plt.hist(samples, 25, histtype='step')\n",
        "test_stat = np.percentile(x, 7) - np.percentile(y, 7)\n",
        "plt.axvline(test_stat)\n",
        "plt.axvline(np.percentile(samples, 2.5), linestyle='--')\n",
        "plt.axvline(np.percentile(samples, 97.5), linestyle='--')\n",
        "print(\"p-value =\", 2*np.sum(samples >= np.abs(test_stat))/reps)"
      ],
      "execution_count": null,
      "outputs": []
    },
    {
      "cell_type": "code",
      "metadata": {
        "id": "QAE4Qnq2-LRO",
        "colab_type": "code",
        "colab": {}
      },
      "source": [
        ""
      ],
      "execution_count": null,
      "outputs": []
    }
  ]
}