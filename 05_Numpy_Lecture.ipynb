{
  "nbformat": 4,
  "nbformat_minor": 0,
  "metadata": {
    "colab": {
      "name": "05-Numpy Lecture.ipynb",
      "provenance": [],
      "collapsed_sections": [],
      "authorship_tag": "ABX9TyNCLXwROxihpQ5/d5I/d5G9",
      "include_colab_link": true
    },
    "kernelspec": {
      "name": "python3",
      "display_name": "Python 3"
    }
  },
  "cells": [
    {
      "cell_type": "markdown",
      "metadata": {
        "id": "view-in-github",
        "colab_type": "text"
      },
      "source": [
        "<a href=\"https://colab.research.google.com/github/mikislin/summer20-Intro-python/blob/master/05_Numpy_Lecture.ipynb\" target=\"_parent\"><img src=\"https://colab.research.google.com/assets/colab-badge.svg\" alt=\"Open In Colab\"/></a>"
      ]
    },
    {
      "cell_type": "markdown",
      "metadata": {
        "id": "dz-aPCwuwovc",
        "colab_type": "text"
      },
      "source": [
        "##**Descriptive Statistics with Numpy**\n",
        "\n",
        "NumPy has a numpy.histogram() function that is a graphical representation of the frequency distribution of data. Rectangles of equal horizontal size corresponding to class interval called bin and variable height corresponding to frequency."
      ]
    },
    {
      "cell_type": "code",
      "metadata": {
        "id": "43CbVkl-wuRr",
        "colab_type": "code",
        "colab": {
          "base_uri": "https://localhost:8080/",
          "height": 52
        },
        "outputId": "63f7fa9f-acee-4ead-99b2-42dc79e4dfad"
      },
      "source": [
        "import numpy as np \n",
        "   \n",
        "a = np.random.normal(50, 25, 1000) \n",
        "bins_for_a = np.arange(0,101, 20)\n",
        "hist,bins = np.histogram(a,bins = bins_for_a) \n",
        "print(hist)\n",
        "print(bins)"
      ],
      "execution_count": null,
      "outputs": [
        {
          "output_type": "stream",
          "text": [
            "[ 89 217 307 249  85]\n",
            "[  0  20  40  60  80 100]\n"
          ],
          "name": "stdout"
        }
      ]
    },
    {
      "cell_type": "code",
      "metadata": {
        "id": "O4Mv9z_1xn9T",
        "colab_type": "code",
        "colab": {
          "base_uri": "https://localhost:8080/",
          "height": 265
        },
        "outputId": "fdc8c1f7-41fb-4879-b2ff-b73b96edf5c8"
      },
      "source": [
        "from matplotlib import pyplot as plt\n",
        "bin_centers = bins[:-1] + np.diff(bins)/2 \n",
        "plt.plot(bin_centers,hist)\n",
        "plt.show()"
      ],
      "execution_count": null,
      "outputs": [
        {
          "output_type": "display_data",
          "data": {
            "image/png": "[encoded data removed]",
            "text/plain": [
              "<Figure size 432x288 with 1 Axes>"
            ]
          },
          "metadata": {
            "tags": [],
            "needs_background": "light"
          }
        }
      ]
    },
    {
      "cell_type": "code",
      "metadata": {
        "id": "9R7zSF3Rx5Lr",
        "colab_type": "code",
        "colab": {
          "base_uri": "https://localhost:8080/",
          "height": 35
        },
        "outputId": "f23e51dc-8133-42d8-8228-bce49fd50510"
      },
      "source": [
        "np.diff(bins,axis=0)"
      ],
      "execution_count": null,
      "outputs": [
        {
          "output_type": "execute_result",
          "data": {
            "text/plain": [
              "array([20, 20, 20, 20, 20])"
            ]
          },
          "metadata": {
            "tags": []
          },
          "execution_count": 14
        }
      ]
    },
    {
      "cell_type": "markdown",
      "metadata": {
        "id": "lGXFaL9qzwVv",
        "colab_type": "text"
      },
      "source": [
        "##**Resampling methods**"
      ]
    },
    {
      "cell_type": "code",
      "metadata": {
        "id": "jv_yqWq_0gtn",
        "colab_type": "code",
        "colab": {}
      },
      "source": [
        "# Set the random seed to make the random numbers predictable\n",
        "# good for reproducibility\n",
        "\n",
        "np.random.seed(123)"
      ],
      "execution_count": null,
      "outputs": []
    },
    {
      "cell_type": "code",
      "metadata": {
        "id": "HerPxBLwyh4f",
        "colab_type": "code",
        "colab": {}
      },
      "source": [
        "# create \n",
        "x = np.random.randint(0, 10, (8, 12))\n",
        "x"
      ],
      "execution_count": null,
      "outputs": []
    },
    {
      "cell_type": "code",
      "metadata": {
        "id": "1aJ5wCaBCDuD",
        "colab_type": "code",
        "colab": {}
      },
      "source": [
        "# Shuffling occurs \"in place\" for efficiency\n",
        "np.random.shuffle(x)\n",
        "x"
      ],
      "execution_count": null,
      "outputs": []
    },
    {
      "cell_type": "code",
      "metadata": {
        "id": "FeXBsIIKCHPl",
        "colab_type": "code",
        "colab": {}
      },
      "source": [
        "# numpy.random.permutation does the same thing but returns a copy\n",
        "np.random.permutation(x)"
      ],
      "execution_count": null,
      "outputs": []
    },
    {
      "cell_type": "code",
      "metadata": {
        "id": "Upe6OYTKCLfZ",
        "colab_type": "code",
        "colab": {}
      },
      "source": [
        "# When given an integre n, permutation treats is as the array arange(n)\n",
        "np.random.permutation(10)"
      ],
      "execution_count": null,
      "outputs": []
    },
    {
      "cell_type": "markdown",
      "metadata": {
        "id": "Aj_gbWD21mmB",
        "colab_type": "text"
      },
      "source": [
        "##**Bootstrap**\n",
        "\n",
        "The bootstrap is commonly used to estimate statistics when theory fails."
      ]
    },
    {
      "cell_type": "code",
      "metadata": {
        "id": "PwA7uniu11TI",
        "colab_type": "code",
        "colab": {
          "base_uri": "https://localhost:8080/",
          "height": 268
        },
        "outputId": "9d44134a-cfba-45a1-ff10-069c640dc10f"
      },
      "source": [
        "# what is the 95% confidence interval for\n",
        "# the mean of this data set if you didn't know how it was generated?\n",
        "\n",
        "x = np.concatenate([np.random.exponential(size=200), np.random.normal(size=100)])\n",
        "plt.hist(x, 25, histtype='step');\n"
      ],
      "execution_count": null,
      "outputs": [
        {
          "output_type": "display_data",
          "data": {
            "image/png": "[encoded data removed]",
            "text/plain": [
              "<Figure size 432x288 with 1 Axes>"
            ]
          },
          "metadata": {
            "tags": [],
            "needs_background": "light"
          }
        }
      ]
    },
    {
      "cell_type": "code",
      "metadata": {
        "id": "NC6yG6zC2jNx",
        "colab_type": "code",
        "colab": {
          "base_uri": "https://localhost:8080/",
          "height": 35
        },
        "outputId": "7e41b628-88c8-4eff-b682-59412e512a61"
      },
      "source": [
        "n = len(x)\n",
        "reps = 10000\n",
        "xb = np.random.choice(x, (n, reps))\n",
        "mb = xb.mean(axis=0)\n",
        "mb.sort()\n",
        "\n",
        "np.percentile(mb, [2.5, 97.5])"
      ],
      "execution_count": null,
      "outputs": [
        {
          "output_type": "execute_result",
          "data": {
            "text/plain": [
              "array([0.47710311, 0.70823619])"
            ]
          },
          "metadata": {
            "tags": []
          },
          "execution_count": 22
        }
      ]
    },
    {
      "cell_type": "code",
      "metadata": {
        "id": "otqiTi8j2kqR",
        "colab_type": "code",
        "colab": {}
      },
      "source": [
        "# let's define data with a function\n",
        "def f(x):\n",
        "    return x * np.cos(71*x) + np.sin(13*x)"
      ],
      "execution_count": null,
      "outputs": []
    },
    {
      "cell_type": "code",
      "metadata": {
        "id": "QQMoTXoB20Nk",
        "colab_type": "code",
        "colab": {}
      },
      "source": [
        "# let's get n data samples \n",
        "n = 100\n",
        "x = f(np.random.random(n))\n",
        "x_norm = np.random.normal(1.5, 0.2, n)"
      ],
      "execution_count": null,
      "outputs": []
    },
    {
      "cell_type": "code",
      "metadata": {
        "id": "vuL42LyO28c0",
        "colab_type": "code",
        "colab": {}
      },
      "source": [
        "# bootstrap \n",
        "reps = 1000\n",
        "xb = np.random.choice(x, (n, reps), replace=True)\n",
        "yb =  np.cumsum(xb, axis=0)\n",
        "yb_x =  np.cumsum(x, axis=0)\n",
        "upper, lower = np.percentile(yb, [2.5, 97.5], axis=1)"
      ],
      "execution_count": null,
      "outputs": []
    },
    {
      "cell_type": "code",
      "metadata": {
        "id": "nb58HUVe3KDq",
        "colab_type": "code",
        "colab": {
          "base_uri": "https://localhost:8080/",
          "height": 265
        },
        "outputId": "72b56bb6-00bf-4f1b-fb41-42ec3c665d08"
      },
      "source": [
        "plt.plot(np.arange(1, n+1)[:, None], yb, c='grey', alpha=0.02)\n",
        "plt.plot(np.arange(1, n+1), yb_x, c='red', linewidth=1)\n",
        "plt.plot(np.arange(1, n+1), upper, 'b', np.arange(1, n+1), lower, 'b')\n",
        "plt.show()"
      ],
      "execution_count": null,
      "outputs": [
        {
          "output_type": "display_data",
          "data": {
            "image/png": "[encoded data removed]",
            "text/plain": [
              "<Figure size 432x288 with 1 Axes>"
            ]
          },
          "metadata": {
            "tags": [],
            "needs_background": "light"
          }
        }
      ]
    },
    {
      "cell_type": "markdown",
      "metadata": {
        "id": "zEFCvoht8CnC",
        "colab_type": "text"
      },
      "source": [
        "##**Permutation resampling**\n",
        "\n",
        "Permuatation resampling is used ot generate the null distribtuion of labeled data by switching lebals."
      ]
    },
    {
      "cell_type": "markdown",
      "metadata": {
        "id": "FiT6usOy8XWs",
        "colab_type": "text"
      },
      "source": [
        "Suppose you have 2 data sets from unknown distribution and you want to test if some arbitrary statistic (e.g 7th percentile) is the same in the 2 data sets - what can you do?\n",
        "\n",
        "An appropirate test statistic is the difference between the 7th percentile, and if we knew the null distribution of this statisic, we could test for the null hypothesis that the statistic = 0. Permuting the labels of the 2 data sets allows us to create the empirical null distribution."
      ]
    },
    {
      "cell_type": "code",
      "metadata": {
        "id": "DqT1SHGP3L7X",
        "colab_type": "code",
        "colab": {}
      },
      "source": [
        "x = np.concatenate([np.random.exponential(size=200),\n",
        "                    np.random.normal(0, 1, size=100)])\n",
        "y = np.concatenate([np.random.exponential(size=250),\n",
        "                    np.random.normal(0, 1, size=50)])"
      ],
      "execution_count": null,
      "outputs": []
    },
    {
      "cell_type": "code",
      "metadata": {
        "id": "XuDXbDPw4SGU",
        "colab_type": "code",
        "colab": {}
      },
      "source": [
        "# map to minimal len data\n",
        "n1, n2 = map(len, (x, y))"
      ],
      "execution_count": null,
      "outputs": []
    },
    {
      "cell_type": "code",
      "metadata": {
        "id": "J1_AQBJU8cXc",
        "colab_type": "code",
        "colab": {
          "base_uri": "https://localhost:8080/",
          "height": 35
        },
        "outputId": "211526b1-3a77-47ef-c576-ae33486f4854"
      },
      "source": [
        "data = np.concatenate([x, y])\n",
        "reps = 10000\n",
        "ps = np.array([np.random.permutation(n1+n2) for i in range(reps)])\n",
        "ps.shape"
      ],
      "execution_count": null,
      "outputs": [
        {
          "output_type": "execute_result",
          "data": {
            "text/plain": [
              "(10000, 600)"
            ]
          },
          "metadata": {
            "tags": []
          },
          "execution_count": 74
        }
      ]
    },
    {
      "cell_type": "code",
      "metadata": {
        "id": "c-m_1K8s-Wmo",
        "colab_type": "code",
        "colab": {
          "base_uri": "https://localhost:8080/",
          "height": 265
        },
        "outputId": "6d2e02a4-c42e-4d1c-cff9-2d0a288bd6a5"
      },
      "source": [
        "plt.hist(data, 25, histtype='step')\n",
        "plt.hist(x, 25, histtype='step')\n",
        "plt.hist(y, 25, histtype='step')\n",
        "plt.show()"
      ],
      "execution_count": null,
      "outputs": [
        {
          "output_type": "display_data",
          "data": {
            "image/png": "[encoded data removed]",
            "text/plain": [
              "<Figure size 432x288 with 1 Axes>"
            ]
          },
          "metadata": {
            "tags": [],
            "needs_background": "light"
          }
        }
      ]
    },
    {
      "cell_type": "code",
      "metadata": {
        "id": "bCc6ElVL8dFF",
        "colab_type": "code",
        "colab": {}
      },
      "source": [
        "xp = data[ps[:, :n1]]\n",
        "yp = data[ps[:, n1:]]\n",
        "samples = np.percentile(xp, 7, axis=1) - np.percentile(yp, 7, axis=1)"
      ],
      "execution_count": null,
      "outputs": []
    },
    {
      "cell_type": "code",
      "metadata": {
        "id": "5f1PTHT-9DaB",
        "colab_type": "code",
        "colab": {
          "base_uri": "https://localhost:8080/",
          "height": 283
        },
        "outputId": "ea154575-3ff8-47f2-daf6-b5c2c07ef2a0"
      },
      "source": [
        "plt.hist(samples, 25, histtype='step')\n",
        "test_stat = np.percentile(x, 7) - np.percentile(y, 7)\n",
        "plt.axvline(test_stat)\n",
        "plt.axvline(np.percentile(samples, 2.5), linestyle='--')\n",
        "plt.axvline(np.percentile(samples, 97.5), linestyle='--')\n",
        "print(\"p-value =\", 2*np.sum(samples >= np.abs(test_stat))/reps)"
      ],
      "execution_count": null,
      "outputs": [
        {
          "output_type": "stream",
          "text": [
            "p-value = 0.009\n"
          ],
          "name": "stdout"
        },
        {
          "output_type": "display_data",
          "data": {
            "image/png": "[encoded data removed]",
            "text/plain": [
              "<Figure size 432x288 with 1 Axes>"
            ]
          },
          "metadata": {
            "tags": [],
            "needs_background": "light"
          }
        }
      ]
    },
    {
      "cell_type": "code",
      "metadata": {
        "id": "QAE4Qnq2-LRO",
        "colab_type": "code",
        "colab": {}
      },
      "source": [
        ""
      ],
      "execution_count": null,
      "outputs": []
    }
  ]
}