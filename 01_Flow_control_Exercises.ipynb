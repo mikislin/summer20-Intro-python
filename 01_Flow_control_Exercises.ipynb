{
  "nbformat": 4,
  "nbformat_minor": 0,
  "metadata": {
    "colab": {
      "name": "01 - Flow control_Exercises.ipynb",
      "provenance": [],
      "collapsed_sections": [],
      "authorship_tag": "ABX9TyP+gjBuoq1ZLBMq7F+2QFN4",
      "include_colab_link": true
    },
    "kernelspec": {
      "name": "python3",
      "display_name": "Python 3"
    }
  },
  "cells": [
    {
      "cell_type": "markdown",
      "metadata": {
        "id": "view-in-github",
        "colab_type": "text"
      },
      "source": [
        "<a href=\"https://colab.research.google.com/github/mikislin/summer20-Intro-python/blob/master/01_Flow_control_Exercises.ipynb\" target=\"_parent\"><img src=\"https://colab.research.google.com/assets/colab-badge.svg\" alt=\"Open In Colab\"/></a>"
      ]
    },
    {
      "cell_type": "markdown",
      "metadata": {
        "id": "xDAzwwIQ05qA",
        "colab_type": "text"
      },
      "source": [
        "## **Problem 1:**\n",
        "List"
      ]
    },
    {
      "cell_type": "markdown",
      "metadata": {
        "id": "ilLng2HA5_rm",
        "colab_type": "text"
      },
      "source": [
        "(a) Creat two lists from the following data: one with animals, and second with number of neurons in the nervous system. Keep the same order\n",
        "\n",
        "Sponge: 0 \n",
        "\n",
        "Ciona: 231\n",
        "\n",
        "C.elegans: 302\n",
        "\n",
        "Wasp: 7400\n",
        "\n",
        "Snail: 11000\n",
        "\n",
        "Zebrafish: 100000\n",
        "\n",
        "Ant: 250000\n",
        "\n",
        "Mouse: 71000000\n",
        "\n",
        "Cat: 760000000\n",
        "\n",
        "Lemur: 254710000\n"
      ]
    },
    {
      "cell_type": "code",
      "metadata": {
        "id": "05ngnOGq09ix",
        "colab_type": "code",
        "colab": {}
      },
      "source": [
        "# creat the lists\n"
      ],
      "execution_count": 0,
      "outputs": []
    },
    {
      "cell_type": "markdown",
      "metadata": {
        "id": "VnYRSOFl8DTH",
        "colab_type": "text"
      },
      "source": [
        "**(b)** Create a program that asks the user to enter an integer variable from 0 to number of animals in the list, printout a sentence indicating animal and number of neurons"
      ]
    },
    {
      "cell_type": "code",
      "metadata": {
        "id": "Jg1OZ5tZ8-Sy",
        "colab_type": "code",
        "colab": {}
      },
      "source": [
        ""
      ],
      "execution_count": 0,
      "outputs": []
    },
    {
      "cell_type": "markdown",
      "metadata": {
        "id": "Ln2572Y3_6bn",
        "colab_type": "text"
      },
      "source": [
        "**(c)** add new data to the lists, keeping ascending order\n",
        "\n",
        "Jellyfish: 5600\n",
        "\n",
        "Ferret: 404000000\n",
        "\n",
        "Octopus: 500000000\n",
        "\n",
        "\n"
      ]
    },
    {
      "cell_type": "code",
      "metadata": {
        "id": "N6dxQ91h_37V",
        "colab_type": "code",
        "colab": {}
      },
      "source": [
        ""
      ],
      "execution_count": 0,
      "outputs": []
    },
    {
      "cell_type": "markdown",
      "metadata": {
        "id": "QRCWkG4EF3mn",
        "colab_type": "text"
      },
      "source": [
        "**(d)** group animals into invertebrate and vertebrate and print out average number of neurons per group  "
      ]
    },
    {
      "cell_type": "code",
      "metadata": {
        "id": "0fnFBfL2HRS3",
        "colab_type": "code",
        "colab": {}
      },
      "source": [
        ""
      ],
      "execution_count": 0,
      "outputs": []
    },
    {
      "cell_type": "markdown",
      "metadata": {
        "id": "3sAikCdm1HJe",
        "colab_type": "text"
      },
      "source": [
        "## **Problem 2:**\n",
        "if statement"
      ]
    },
    {
      "cell_type": "markdown",
      "metadata": {
        "id": "QPAzXwOfNRFV",
        "colab_type": "text"
      },
      "source": [
        "**(a)** Ask the user for a number. Depending on whether the number is even or odd, print out an appropriate message to the user"
      ]
    },
    {
      "cell_type": "code",
      "metadata": {
        "id": "jCTogQzHJyHX",
        "colab_type": "code",
        "colab": {}
      },
      "source": [
        ""
      ],
      "execution_count": 0,
      "outputs": []
    },
    {
      "cell_type": "markdown",
      "metadata": {
        "id": "Khk--U_mONba",
        "colab_type": "text"
      },
      "source": [
        "(b) Ask the user for index of three animals to compare. Print animal with higher number of neurons  "
      ]
    },
    {
      "cell_type": "code",
      "metadata": {
        "id": "8yZaC76-NEQ3",
        "colab_type": "code",
        "colab": {}
      },
      "source": [
        ""
      ],
      "execution_count": 0,
      "outputs": []
    },
    {
      "cell_type": "markdown",
      "metadata": {
        "id": "SGrvmI1NTcEL",
        "colab_type": "text"
      },
      "source": [
        "##**Problem 3**\n",
        "\n",
        "while loop"
      ]
    },
    {
      "cell_type": "markdown",
      "metadata": {
        "id": "pQmPhBHcUN-Y",
        "colab_type": "text"
      },
      "source": [
        "**(a)** print out two list with while loop to replicate input list of animals ordered by number of neurons "
      ]
    },
    {
      "cell_type": "code",
      "metadata": {
        "id": "8O3L4CnHROTQ",
        "colab_type": "code",
        "colab": {}
      },
      "source": [
        ""
      ],
      "execution_count": 0,
      "outputs": []
    },
    {
      "cell_type": "markdown",
      "metadata": {
        "id": "4fINq24RX-y6",
        "colab_type": "text"
      },
      "source": [
        "**(b)** print out animals with number of neurons smaller than group average"
      ]
    },
    {
      "cell_type": "code",
      "metadata": {
        "id": "KFGm65uXUJhD",
        "colab_type": "code",
        "colab": {}
      },
      "source": [
        ""
      ],
      "execution_count": 0,
      "outputs": []
    },
    {
      "cell_type": "markdown",
      "metadata": {
        "id": "upTpCmfGYZga",
        "colab_type": "text"
      },
      "source": [
        "## **Problem 4:**\n",
        "for loop"
      ]
    },
    {
      "cell_type": "markdown",
      "metadata": {
        "id": "RcSyItcfGdw5",
        "colab_type": "text"
      },
      "source": [
        "(a) Let's assume that the neurons in every animal are \"fully connected\" – this means that any given neuron makes a synaptic connection with every other neuron.\n",
        "\n",
        "Furthermore, let's assume that each of these connections consists of exactly one synapse.\n",
        "\n",
        "For example, if a brain has 500 neurons, then each neuron makes 499 connections.\n",
        "\n",
        "For every animal from the list, calculate the total number of synapses in a brain. Store the results in a new list called synapse_counts, with the same length as your other 2 lists."
      ]
    },
    {
      "cell_type": "code",
      "metadata": {
        "id": "x6NHjcUQHLRu",
        "colab_type": "code",
        "colab": {}
      },
      "source": [
        "# for each region, each neuron connects to every other one\n",
        "# so naively it would be n * (n - 1)\n",
        "# however, this counts each synapse twice, so let's divide by two: \n"
      ],
      "execution_count": 0,
      "outputs": []
    },
    {
      "cell_type": "markdown",
      "metadata": {
        "id": "T7rh1jvmPRdG",
        "colab_type": "text"
      },
      "source": [
        "(b) Find out and print which animal has more synapses then another animal has neurons "
      ]
    },
    {
      "cell_type": "code",
      "metadata": {
        "id": "uooI7uxHHqkl",
        "colab_type": "code",
        "colab": {}
      },
      "source": [
        ""
      ],
      "execution_count": 0,
      "outputs": []
    }
  ]
}