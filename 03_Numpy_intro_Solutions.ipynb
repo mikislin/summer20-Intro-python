{
  "nbformat": 4,
  "nbformat_minor": 0,
  "metadata": {
    "colab": {
      "name": "03-Numpy-intro Solutions.ipynb",
      "provenance": [],
      "collapsed_sections": [],
      "authorship_tag": "ABX9TyPuT9bKLu1QioJjb/m/3Ecf",
      "include_colab_link": true
    },
    "kernelspec": {
      "name": "python3",
      "display_name": "Python 3"
    }
  },
  "cells": [
    {
      "cell_type": "markdown",
      "metadata": {
        "id": "view-in-github",
        "colab_type": "text"
      },
      "source": [
        "<a href=\"https://colab.research.google.com/github/mikislin/summer20-Intro-python/blob/master/03_Numpy_intro_Solutions.ipynb\" target=\"_parent\"><img src=\"https://colab.research.google.com/assets/colab-badge.svg\" alt=\"Open In Colab\"/></a>"
      ]
    },
    {
      "cell_type": "markdown",
      "metadata": {
        "id": "DAHU0QHM3x_L",
        "colab_type": "text"
      },
      "source": [
        "##**Creating new arrays**\n"
      ]
    },
    {
      "cell_type": "markdown",
      "metadata": {
        "id": "Oh7u4vNJ5d0O",
        "colab_type": "text"
      },
      "source": [
        "**(a)** Use np.array to create a 3-dimensional array with the shape (2, 4, 3), compare to arange()"
      ]
    },
    {
      "cell_type": "code",
      "metadata": {
        "id": "PBo2xHgmqmn7",
        "colab_type": "code",
        "colab": {
          "base_uri": "https://localhost:8080/",
          "height": 193
        },
        "outputId": "4acbb4ee-7804-4e8c-b340-2fd0eefcb2ae"
      },
      "source": [
        "import numpy as np\n",
        "arr = np.array([[[1,2,3], [4,5,6], [7,8,9], [0,1,2]], [[11,22,33], [44,55,66], [77,88,99], [0,11,22]]])\n",
        "print(arr.shape)\n",
        "arr\n"
      ],
      "execution_count": null,
      "outputs": [
        {
          "output_type": "stream",
          "text": [
            "(2, 4, 3)\n"
          ],
          "name": "stdout"
        },
        {
          "output_type": "execute_result",
          "data": {
            "text/plain": [
              "array([[[ 1,  2,  3],\n",
              "        [ 4,  5,  6],\n",
              "        [ 7,  8,  9],\n",
              "        [ 0,  1,  2]],\n",
              "\n",
              "       [[11, 22, 33],\n",
              "        [44, 55, 66],\n",
              "        [77, 88, 99],\n",
              "        [ 0, 11, 22]]])"
            ]
          },
          "metadata": {
            "tags": []
          },
          "execution_count": 8
        }
      ]
    },
    {
      "cell_type": "code",
      "metadata": {
        "id": "H4rjtid_5kYW",
        "colab_type": "code",
        "colab": {
          "base_uri": "https://localhost:8080/",
          "height": 175
        },
        "outputId": "17f0fb95-446c-469a-a611-41f4d4648e49"
      },
      "source": [
        "np.arange(1,25).reshape((2, 4, 3))"
      ],
      "execution_count": null,
      "outputs": [
        {
          "output_type": "execute_result",
          "data": {
            "text/plain": [
              "array([[[ 1,  2,  3],\n",
              "        [ 4,  5,  6],\n",
              "        [ 7,  8,  9],\n",
              "        [10, 11, 12]],\n",
              "\n",
              "       [[13, 14, 15],\n",
              "        [16, 17, 18],\n",
              "        [19, 20, 21],\n",
              "        [22, 23, 24]]])"
            ]
          },
          "metadata": {
            "tags": []
          },
          "execution_count": 31
        }
      ]
    },
    {
      "cell_type": "markdown",
      "metadata": {
        "id": "tHz7vrlMDLuc",
        "colab_type": "text"
      },
      "source": [
        "**(b)** Use np.zeros to create a new  1d array. Write a for-loop that sets each item to the corresponding index plus one"
      ]
    },
    {
      "cell_type": "code",
      "metadata": {
        "id": "t0SW6QW-DwFI",
        "colab_type": "code",
        "colab": {
          "base_uri": "https://localhost:8080/",
          "height": 35
        },
        "outputId": "5ee70c7b-7873-4b70-e7f4-b9b8f0c96ba5"
      },
      "source": [
        "arr_plus_one = np.zeros((10))\n",
        "for i in range(arr_plus_one.shape[0]):\n",
        "    arr_plus_one[i] = i + 1\n",
        "\n",
        "print(arr_plus_one)"
      ],
      "execution_count": null,
      "outputs": [
        {
          "output_type": "stream",
          "text": [
            "[ 1.  2.  3.  4.  5.  6.  7.  8.  9. 10.]\n"
          ],
          "name": "stdout"
        }
      ]
    },
    {
      "cell_type": "markdown",
      "metadata": {
        "id": "o55MVpS2Mbmd",
        "colab_type": "text"
      },
      "source": [
        "**(c)** Write a NumPy program to create a vector with values ​​ranging from 15 to 55 and print all values ​​except the first and last."
      ]
    },
    {
      "cell_type": "code",
      "metadata": {
        "id": "obYo__NrEARK",
        "colab_type": "code",
        "colab": {
          "base_uri": "https://localhost:8080/",
          "height": 52
        },
        "outputId": "8d8a3191-5203-41a5-c45f-9c0be7650502"
      },
      "source": [
        "v = np.arange(15,56)\n",
        "print(v[1:-1])\n"
      ],
      "execution_count": null,
      "outputs": [
        {
          "output_type": "stream",
          "text": [
            "[16 17 18 19 20 21 22 23 24 25 26 27 28 29 30 31 32 33 34 35 36 37 38 39\n",
            " 40 41 42 43 44 45 46 47 48 49 50 51 52 53 54]\n"
          ],
          "name": "stdout"
        }
      ]
    },
    {
      "cell_type": "markdown",
      "metadata": {
        "id": "iSSAG6uMNoWH",
        "colab_type": "text"
      },
      "source": [
        "**(d)** create a 10x10 matrix, in which the elements on the borders will be equal to 1, and inside 0"
      ]
    },
    {
      "cell_type": "code",
      "metadata": {
        "id": "nUC-hscGEdCB",
        "colab_type": "code",
        "colab": {
          "base_uri": "https://localhost:8080/",
          "height": 193
        },
        "outputId": "b316c6eb-bb40-4d2c-e1ed-91d28c4999eb"
      },
      "source": [
        "x = np.ones((10, 10))\n",
        "x[1:-1, 1:-1] = 0\n",
        "print(x)"
      ],
      "execution_count": null,
      "outputs": [
        {
          "output_type": "stream",
          "text": [
            "[[1. 1. 1. 1. 1. 1. 1. 1. 1. 1.]\n",
            " [1. 0. 0. 0. 0. 0. 0. 0. 0. 1.]\n",
            " [1. 0. 0. 0. 0. 0. 0. 0. 0. 1.]\n",
            " [1. 0. 0. 0. 0. 0. 0. 0. 0. 1.]\n",
            " [1. 0. 0. 0. 0. 0. 0. 0. 0. 1.]\n",
            " [1. 0. 0. 0. 0. 0. 0. 0. 0. 1.]\n",
            " [1. 0. 0. 0. 0. 0. 0. 0. 0. 1.]\n",
            " [1. 0. 0. 0. 0. 0. 0. 0. 0. 1.]\n",
            " [1. 0. 0. 0. 0. 0. 0. 0. 0. 1.]\n",
            " [1. 1. 1. 1. 1. 1. 1. 1. 1. 1.]]\n"
          ],
          "name": "stdout"
        }
      ]
    },
    {
      "cell_type": "markdown",
      "metadata": {
        "id": "72I004AUOWoC",
        "colab_type": "text"
      },
      "source": [
        "**(e)**  write a program that checks before saving np-file if file already saved and contains same array\n",
        "\n",
        "hint: you can use `os.path.exists` if file name exists"
      ]
    },
    {
      "cell_type": "code",
      "metadata": {
        "id": "XOWV4qpSOWG8",
        "colab_type": "code",
        "colab": {
          "base_uri": "https://localhost:8080/",
          "height": 52
        },
        "outputId": "7f02bb39-fb3f-422a-8039-3c0680a04545"
      },
      "source": [
        "a = np.arange(20)\n",
        "#np.save('temp_arra.npy', a)\n",
        "print(\"Check if 'temp_arra.npy' exists or not?\")\n",
        "if os.path.exists('temp_arra.npy'):\n",
        "    x2 = np.load('temp_arra.npy')\n",
        "    print('Yes and same data -', np.array_equal(a, x2))\n",
        "    \n",
        "else:\n",
        "  print('not, new file saved')\n",
        "  np.save('temp_arra.npy', a)"
      ],
      "execution_count": null,
      "outputs": [
        {
          "output_type": "stream",
          "text": [
            "Check if 'temp_arra.npy' exists or not?\n",
            "Yes and same data - True\n"
          ],
          "name": "stdout"
        }
      ]
    },
    {
      "cell_type": "markdown",
      "metadata": {
        "id": "cY4xC0UNiiJD",
        "colab_type": "text"
      },
      "source": [
        "##**Manipulating arrays**\n"
      ]
    },
    {
      "cell_type": "markdown",
      "metadata": {
        "id": "Dyec54ONjSRs",
        "colab_type": "text"
      },
      "source": [
        "**(a)** write a program to find the indices of the maximum and minimum values along the given axis of a random array"
      ]
    },
    {
      "cell_type": "code",
      "metadata": {
        "id": "ENwndU3mVKVP",
        "colab_type": "code",
        "colab": {
          "base_uri": "https://localhost:8080/",
          "height": 87
        },
        "outputId": "e34d7a6c-95af-420e-c72e-8df63fab9780"
      },
      "source": [
        "import numpy as np\n",
        "x = np.random.random_sample(10)\n",
        "print(\"Original array: \",x)\n",
        "print(\"Maximum Values: \",np.argmax(x))\n",
        "print(\"Minimum Values: \",np.argmin(x))"
      ],
      "execution_count": null,
      "outputs": [
        {
          "output_type": "stream",
          "text": [
            "Original array:  [0.78775924 0.91700407 0.70592054 0.65379353 0.00759815 0.71027077\n",
            " 0.14258455 0.45692592 0.85595406 0.87447109]\n",
            "Maximum Values:  1\n",
            "Minimum Values:  4\n"
          ],
          "name": "stdout"
        }
      ]
    },
    {
      "cell_type": "markdown",
      "metadata": {
        "id": "BOzi_1ZJjjHa",
        "colab_type": "text"
      },
      "source": [
        "**(b)** Write a NumPy program (using numpy) to sum of all the multiples of 3 or 5 below 100."
      ]
    },
    {
      "cell_type": "code",
      "metadata": {
        "id": "5PIpMg38jgKz",
        "colab_type": "code",
        "colab": {
          "base_uri": "https://localhost:8080/",
          "height": 70
        },
        "outputId": "2ee2a49d-5da6-488f-bd1d-f7e2e3501a70"
      },
      "source": [
        "x = np.arange(1, 100)\n",
        "# find  multiple of 3 or 5\n",
        "n= x[(x % 3 == 0) | (x % 5 == 0)]\n",
        "print(n)\n",
        "# print sum the numbers\n",
        "print(n.sum())"
      ],
      "execution_count": null,
      "outputs": [
        {
          "output_type": "stream",
          "text": [
            "[ 3  5  6  9 10 12 15 18 20 21 24 25 27 30 33 35 36 39 40 42 45 48 50 51\n",
            " 54 55 57 60 63 65 66 69 70 72 75 78 80 81 84 85 87 90 93 95 96 99]\n",
            "2318\n"
          ],
          "name": "stdout"
        }
      ]
    },
    {
      "cell_type": "markdown",
      "metadata": {
        "id": "Ye54qHkZkRXN",
        "colab_type": "text"
      },
      "source": [
        "**(c)** Write a NumPy program to generate a generic 2D Gaussian-like array."
      ]
    },
    {
      "cell_type": "code",
      "metadata": {
        "id": "qO_WqyO_kih9",
        "colab_type": "code",
        "colab": {
          "base_uri": "https://localhost:8080/",
          "height": 652
        },
        "outputId": "1b869804-79aa-4ec8-eefd-620ef67168a3"
      },
      "source": [
        "x, y = np.meshgrid(np.linspace(-1,1,10), np.linspace(-1,1,10))\n",
        "d = np.sqrt(x*x+y*y)\n",
        "sigma, mu = 1.0, 0.0\n",
        "g = (1/np.sqrt(2*np.pi*sigma**2))*np.exp(-( (d-mu)**2 / ( 2.0 * sigma**2 ) ) )\n",
        "print(\"2D Gaussian-like array:\")\n",
        "print(g)\n",
        "import matplotlib.pyplot as plt\n",
        "plt.imshow(g)"
      ],
      "execution_count": null,
      "outputs": [
        {
          "output_type": "stream",
          "text": [
            "2D Gaussian-like array:\n",
            "[[0.14676266 0.17881426 0.20736816 0.2288945  0.24048168 0.24048168\n",
            "  0.2288945  0.20736816 0.17881426 0.14676266]\n",
            " [0.17881426 0.21786563 0.25265543 0.27888292 0.29300063 0.29300063\n",
            "  0.27888292 0.25265543 0.21786563 0.17881426]\n",
            " [0.20736816 0.25265543 0.29300063 0.32341625 0.33978835 0.33978835\n",
            "  0.32341625 0.29300063 0.25265543 0.20736816]\n",
            " [0.2288945  0.27888292 0.32341625 0.35698924 0.37506088 0.37506088\n",
            "  0.35698924 0.32341625 0.27888292 0.2288945 ]\n",
            " [0.24048168 0.29300063 0.33978835 0.37506088 0.39404734 0.39404734\n",
            "  0.37506088 0.33978835 0.29300063 0.24048168]\n",
            " [0.24048168 0.29300063 0.33978835 0.37506088 0.39404734 0.39404734\n",
            "  0.37506088 0.33978835 0.29300063 0.24048168]\n",
            " [0.2288945  0.27888292 0.32341625 0.35698924 0.37506088 0.37506088\n",
            "  0.35698924 0.32341625 0.27888292 0.2288945 ]\n",
            " [0.20736816 0.25265543 0.29300063 0.32341625 0.33978835 0.33978835\n",
            "  0.32341625 0.29300063 0.25265543 0.20736816]\n",
            " [0.17881426 0.21786563 0.25265543 0.27888292 0.29300063 0.29300063\n",
            "  0.27888292 0.25265543 0.21786563 0.17881426]\n",
            " [0.14676266 0.17881426 0.20736816 0.2288945  0.24048168 0.24048168\n",
            "  0.2288945  0.20736816 0.17881426 0.14676266]]\n"
          ],
          "name": "stdout"
        },
        {
          "output_type": "execute_result",
          "data": {
            "text/plain": [
              "<matplotlib.image.AxesImage at 0x7ff25506bcf8>"
            ]
          },
          "metadata": {
            "tags": []
          },
          "execution_count": 19
        },
        {
          "output_type": "display_data",
          "data": {
            "image/png": "[encoded data removed]",
            "text/plain": [
              "<Figure size 432x288 with 1 Axes>"
            ]
          },
          "metadata": {
            "tags": [],
            "needs_background": "light"
          }
        }
      ]
    },
    {
      "cell_type": "markdown",
      "metadata": {
        "id": "KVn1QAxrk6YS",
        "colab_type": "text"
      },
      "source": [
        "**(d)** Write a NumPy program to calculate 50, 75, 95 and 90 percentiles for a sequence or single-dimensional NumPy array."
      ]
    },
    {
      "cell_type": "code",
      "metadata": {
        "id": "E8b7y9FOlkNY",
        "colab_type": "code",
        "colab": {
          "base_uri": "https://localhost:8080/",
          "height": 238
        },
        "outputId": "e03325fb-37ee-4c50-c970-2a60cd3d1335"
      },
      "source": [
        "nums = np.array([1,2,3,4,5])\n",
        "print(\"50th percentile (median):\")\n",
        "p = np.percentile(nums, 50)\n",
        "print(p)\n",
        "print(\"40th percentile:\")\n",
        "p = np.percentile(nums, 40)\n",
        "print(p)\n",
        "print(\"90th percentile:\")\n",
        "p = np.percentile(nums, 90)\n",
        "print(p)"
      ],
      "execution_count": null,
      "outputs": [
        {
          "output_type": "error",
          "ename": "NameError",
          "evalue": "ignored",
          "traceback": [
            "\u001b[0;31m---------------------------------------------------------------------------\u001b[0m",
            "\u001b[0;31mNameError\u001b[0m                                 Traceback (most recent call last)",
            "\u001b[0;32m<ipython-input-41-7a4f22dd1dbb>\u001b[0m in \u001b[0;36m<module>\u001b[0;34m()\u001b[0m\n\u001b[0;32m----> 1\u001b[0;31m \u001b[0mnums\u001b[0m \u001b[0;34m=\u001b[0m \u001b[0mnp\u001b[0m\u001b[0;34m.\u001b[0m\u001b[0marray\u001b[0m\u001b[0;34m(\u001b[0m\u001b[0;34m[\u001b[0m\u001b[0;36m1\u001b[0m\u001b[0;34m,\u001b[0m\u001b[0;36m2\u001b[0m\u001b[0;34m,\u001b[0m\u001b[0;36m3\u001b[0m\u001b[0;34m,\u001b[0m\u001b[0;36m4\u001b[0m\u001b[0;34m,\u001b[0m\u001b[0;36m5\u001b[0m\u001b[0;34m]\u001b[0m\u001b[0;34m)\u001b[0m\u001b[0;34m\u001b[0m\u001b[0;34m\u001b[0m\u001b[0m\n\u001b[0m\u001b[1;32m      2\u001b[0m \u001b[0mprint\u001b[0m\u001b[0;34m(\u001b[0m\u001b[0;34m\"50th percentile (median):\"\u001b[0m\u001b[0;34m)\u001b[0m\u001b[0;34m\u001b[0m\u001b[0;34m\u001b[0m\u001b[0m\n\u001b[1;32m      3\u001b[0m \u001b[0mp\u001b[0m \u001b[0;34m=\u001b[0m \u001b[0mnp\u001b[0m\u001b[0;34m.\u001b[0m\u001b[0mpercentile\u001b[0m\u001b[0;34m(\u001b[0m\u001b[0mnums\u001b[0m\u001b[0;34m,\u001b[0m \u001b[0;36m50\u001b[0m\u001b[0;34m)\u001b[0m\u001b[0;34m\u001b[0m\u001b[0;34m\u001b[0m\u001b[0m\n\u001b[1;32m      4\u001b[0m \u001b[0mprint\u001b[0m\u001b[0;34m(\u001b[0m\u001b[0mp\u001b[0m\u001b[0;34m)\u001b[0m\u001b[0;34m\u001b[0m\u001b[0;34m\u001b[0m\u001b[0m\n\u001b[1;32m      5\u001b[0m \u001b[0mprint\u001b[0m\u001b[0;34m(\u001b[0m\u001b[0;34m\"40th percentile:\"\u001b[0m\u001b[0;34m)\u001b[0m\u001b[0;34m\u001b[0m\u001b[0;34m\u001b[0m\u001b[0m\n",
            "\u001b[0;31mNameError\u001b[0m: name 'np' is not defined"
          ]
        }
      ]
    },
    {
      "cell_type": "code",
      "metadata": {
        "id": "D5zPJ3C8lpYl",
        "colab_type": "code",
        "colab": {}
      },
      "source": [
        ""
      ],
      "execution_count": null,
      "outputs": []
    }
  ]
}