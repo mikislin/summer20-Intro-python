{
  "nbformat": 4,
  "nbformat_minor": 0,
  "metadata": {
    "colab": {
      "name": "07-Matplotlib Lecture.ipynb",
      "provenance": [],
      "collapsed_sections": [],
      "authorship_tag": "ABX9TyNpp2mVnp4YE8Zmds8W1Vml",
      "include_colab_link": true
    },
    "kernelspec": {
      "name": "python3",
      "display_name": "Python 3"
    }
  },
  "cells": [
    {
      "cell_type": "markdown",
      "metadata": {
        "id": "view-in-github",
        "colab_type": "text"
      },
      "source": [
        "<a href=\"https://colab.research.google.com/github/mikislin/summer20-Intro-python/blob/master/07_Matplotlib_Lecture.ipynb\" target=\"_parent\"><img src=\"https://colab.research.google.com/assets/colab-badge.svg\" alt=\"Open In Colab\"/></a>"
      ]
    },
    {
      "cell_type": "markdown",
      "metadata": {
        "id": "Qdlrr12T6DZy",
        "colab_type": "text"
      },
      "source": [
        "###**Importing image data into Numpy arrays**\n",
        "Loading image data is supported by the Pillow library. Natively, Matplotlib only supports PNG images.\n",
        "\n",
        "download and add to the folder https://drive.google.com/file/d/1uMWMA6m4Kj9QuXpq5aGgL6PCzgueQL9o/view?usp=sharing\n",
        "\n"
      ]
    },
    {
      "cell_type": "code",
      "metadata": {
        "id": "WpbCYgUh6lAg",
        "colab_type": "code",
        "colab": {}
      },
      "source": [
        ""
      ],
      "execution_count": null,
      "outputs": []
    },
    {
      "cell_type": "code",
      "metadata": {
        "id": "vRDIT0Zd8vD2",
        "colab_type": "code",
        "colab": {}
      },
      "source": [
        ""
      ],
      "execution_count": null,
      "outputs": []
    },
    {
      "cell_type": "code",
      "metadata": {
        "id": "zwRGo9C-87Lz",
        "colab_type": "code",
        "colab": {}
      },
      "source": [
        ""
      ],
      "execution_count": null,
      "outputs": []
    },
    {
      "cell_type": "code",
      "metadata": {
        "id": "uKxbgMWi9DNJ",
        "colab_type": "code",
        "colab": {}
      },
      "source": [
        "#Applying pseudocolor schemes to image plots\n"
      ],
      "execution_count": null,
      "outputs": []
    },
    {
      "cell_type": "markdown",
      "metadata": {
        "id": "v2gCe4qA_jJ7",
        "colab_type": "text"
      },
      "source": [
        "Matplotlib has a number of built-in colormaps accessible via matplotlib.cm.get_cmap. Colormaps are often split into several categories based on their function\n",
        "\n",
        "1.   Sequential\n",
        "2.   Diverging\n",
        "3.   Cyclic\n",
        "4.   Qualitative\n",
        "\n",
        "\n",
        "\n",
        "\n",
        "\n",
        "\n"
      ]
    },
    {
      "cell_type": "code",
      "metadata": {
        "id": "mjtyUyoR9nqj",
        "colab_type": "code",
        "colab": {}
      },
      "source": [
        "# apply non default LUT\n"
      ],
      "execution_count": null,
      "outputs": []
    },
    {
      "cell_type": "code",
      "metadata": {
        "id": "6ovYJs0Z9vJN",
        "colab_type": "code",
        "colab": {}
      },
      "source": [
        "# use set_cmap()\n"
      ],
      "execution_count": null,
      "outputs": []
    },
    {
      "cell_type": "code",
      "metadata": {
        "id": "hgsC3wF7Abdd",
        "colab_type": "code",
        "colab": {}
      },
      "source": [
        "# add colorbar\n"
      ],
      "execution_count": null,
      "outputs": []
    },
    {
      "cell_type": "code",
      "metadata": {
        "id": "pQxhiQ-YAbaK",
        "colab_type": "code",
        "colab": {}
      },
      "source": [
        "# gray image histogram\n"
      ],
      "execution_count": null,
      "outputs": []
    },
    {
      "cell_type": "code",
      "metadata": {
        "id": "N-3_JUbJVUL8",
        "colab_type": "code",
        "colab": {}
      },
      "source": [
        "# color image histogram\n"
      ],
      "execution_count": null,
      "outputs": []
    },
    {
      "cell_type": "code",
      "metadata": {
        "id": "wQtj9BtiBWG1",
        "colab_type": "code",
        "colab": {}
      },
      "source": [
        "# contrast by clipping the regions of histogram, set_clim()\n"
      ],
      "execution_count": null,
      "outputs": []
    },
    {
      "cell_type": "code",
      "metadata": {
        "id": "YADBAmDtCNhq",
        "colab_type": "code",
        "colab": {}
      },
      "source": [
        ""
      ],
      "execution_count": null,
      "outputs": []
    },
    {
      "cell_type": "code",
      "metadata": {
        "id": "2tzq5y1AFbMX",
        "colab_type": "code",
        "colab": {}
      },
      "source": [
        "# clipping image\n"
      ],
      "execution_count": null,
      "outputs": []
    },
    {
      "cell_type": "code",
      "metadata": {
        "id": "usAVqI4Iffpl",
        "colab_type": "code",
        "colab": {}
      },
      "source": [
        "# up <-> down flip\n"
      ],
      "execution_count": null,
      "outputs": []
    },
    {
      "cell_type": "code",
      "metadata": {
        "id": "j77IEW0bf16i",
        "colab_type": "code",
        "colab": {}
      },
      "source": [
        "# transpose\n"
      ],
      "execution_count": null,
      "outputs": []
    },
    {
      "cell_type": "code",
      "metadata": {
        "id": "sRIvjdk8gwP7",
        "colab_type": "code",
        "colab": {}
      },
      "source": [
        "# mirror the image in x direction\n"
      ],
      "execution_count": null,
      "outputs": []
    },
    {
      "cell_type": "code",
      "metadata": {
        "id": "_EEqPBt1hLT_",
        "colab_type": "code",
        "colab": {}
      },
      "source": [
        "# set the pixels on the first 100 rows white\n"
      ],
      "execution_count": null,
      "outputs": []
    },
    {
      "cell_type": "code",
      "metadata": {
        "id": "41_3HR7shuy-",
        "colab_type": "code",
        "colab": {}
      },
      "source": [
        "# create a function that returns a copy of the image\n",
        "# so that it fades to black as we bottom to top\n"
      ],
      "execution_count": null,
      "outputs": []
    },
    {
      "cell_type": "code",
      "metadata": {
        "id": "VqRqzNHbhxeG",
        "colab_type": "code",
        "colab": {}
      },
      "source": [
        ""
      ],
      "execution_count": null,
      "outputs": []
    },
    {
      "cell_type": "code",
      "metadata": {
        "id": "sHP6BPHzT8Dk",
        "colab_type": "code",
        "colab": {}
      },
      "source": [
        "# Find image contour of the grayscale image\n"
      ],
      "execution_count": null,
      "outputs": []
    },
    {
      "cell_type": "code",
      "metadata": {
        "id": "1J5F-IkzZFWv",
        "colab_type": "code",
        "colab": {}
      },
      "source": [
        "#Grayscale Transformation\n"
      ],
      "execution_count": null,
      "outputs": []
    },
    {
      "cell_type": "code",
      "metadata": {
        "id": "hy9E6hUpZkLl",
        "colab_type": "code",
        "colab": {}
      },
      "source": [
        "#adding a constant\n"
      ],
      "execution_count": null,
      "outputs": []
    },
    {
      "cell_type": "code",
      "metadata": {
        "id": "08hI_F5maGTF",
        "colab_type": "code",
        "colab": {}
      },
      "source": [
        ""
      ],
      "execution_count": null,
      "outputs": []
    },
    {
      "cell_type": "markdown",
      "metadata": {
        "id": "FV5DyX8masIJ",
        "colab_type": "text"
      },
      "source": [
        "###**Histogram Equalization**\n",
        "Let's try histogram equalization on a dark image. The transform flattens the gray-level histogram so that all intensities are as equally common as possible. The transform function is a cumulative distribution function (cdf) of the pixel values in the image (normalized to map the range of pixel values to the desired range)."
      ]
    },
    {
      "cell_type": "code",
      "metadata": {
        "id": "uSjQrpE7aktg",
        "colab_type": "code",
        "colab": {}
      },
      "source": [
        "# function of histogram equalization\n"
      ],
      "execution_count": null,
      "outputs": []
    },
    {
      "cell_type": "code",
      "metadata": {
        "id": "vJJ1w326bzqa",
        "colab_type": "code",
        "colab": {}
      },
      "source": [
        ""
      ],
      "execution_count": null,
      "outputs": []
    },
    {
      "cell_type": "code",
      "metadata": {
        "id": "X8RRbPs-cQzK",
        "colab_type": "code",
        "colab": {}
      },
      "source": [
        "# Transform the image to frequency domain\n"
      ],
      "execution_count": null,
      "outputs": []
    },
    {
      "cell_type": "code",
      "metadata": {
        "id": "EVdkm8McdRM4",
        "colab_type": "code",
        "colab": {}
      },
      "source": [
        "# Finding Edges by Highpass Filtering in FFT\n"
      ],
      "execution_count": null,
      "outputs": []
    },
    {
      "cell_type": "markdown",
      "metadata": {
        "id": "61kahOWOzeMV",
        "colab_type": "text"
      },
      "source": [
        "###**Saving Figures to File**\n",
        "The list of supported file types can be found for your system by using the following method of the figure canvas object `fig.canvas.get_supported_filetypes()`"
      ]
    },
    {
      "cell_type": "markdown",
      "metadata": {
        "id": "AnEphnqCvfHt",
        "colab_type": "text"
      },
      "source": [
        "Save A Plot To An Image File\n",
        "\n",
        "\n",
        "```\n",
        "# Save Figure\n",
        "plt.savefig(\"image01.png\")\n",
        "\n",
        "# Save Transparent Figure\n",
        "plt.savefig(\"image02.png\", transparent=True)\n",
        "```\n",
        "\n"
      ]
    },
    {
      "cell_type": "code",
      "metadata": {
        "id": "MzBo9p7Gthek",
        "colab_type": "code",
        "colab": {}
      },
      "source": [
        ""
      ],
      "execution_count": null,
      "outputs": []
    },
    {
      "cell_type": "markdown",
      "metadata": {
        "id": "FAJ62LJPw_ps",
        "colab_type": "text"
      },
      "source": [
        "Save A Plot To A Pdf File\n",
        "\n",
        "```\n",
        "# Import PdfPages\n",
        "from matplotlib.backends.backend_pdf import PdfPages\n",
        "\n",
        "# Initialize the pdf file\n",
        "pp = PdfPages('multipage.pdf')\n",
        "\n",
        "# Save the figure to the file\n",
        "pp.savefig()\n",
        "\n",
        "# Close the file\n",
        "pp.close()\n",
        "```\n",
        "\n"
      ]
    },
    {
      "cell_type": "code",
      "metadata": {
        "id": "S1iy36hVxBGQ",
        "colab_type": "code",
        "colab": {}
      },
      "source": [
        ""
      ],
      "execution_count": null,
      "outputs": []
    },
    {
      "cell_type": "markdown",
      "metadata": {
        "id": "6dk6F9Xpm0rF",
        "colab_type": "text"
      },
      "source": [
        "###**Animation**\n",
        "\n",
        "\n",
        "\n",
        "```\n",
        "from matplotlib import animation, rc\n",
        "from IPython.display import HTML\n",
        "```\n",
        "\n"
      ]
    },
    {
      "cell_type": "code",
      "metadata": {
        "id": "dGAzCwlkkvsq",
        "colab_type": "code",
        "colab": {}
      },
      "source": [
        ""
      ],
      "execution_count": null,
      "outputs": []
    }
  ]
}