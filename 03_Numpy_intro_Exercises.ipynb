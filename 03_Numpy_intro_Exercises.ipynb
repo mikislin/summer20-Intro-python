{
  "nbformat": 4,
  "nbformat_minor": 0,
  "metadata": {
    "colab": {
      "name": "03-Numpy-intro-Exercises.ipynb",
      "provenance": [],
      "collapsed_sections": [],
      "authorship_tag": "ABX9TyNKK2dQFjJb9na8PHtJknAL",
      "include_colab_link": true
    },
    "kernelspec": {
      "name": "python3",
      "display_name": "Python 3"
    }
  },
  "cells": [
    {
      "cell_type": "markdown",
      "metadata": {
        "id": "view-in-github",
        "colab_type": "text"
      },
      "source": [
        "<a href=\"https://colab.research.google.com/github/mikislin/summer20-Intro-python/blob/master/03_Numpy_intro_Exercises.ipynb\" target=\"_parent\"><img src=\"https://colab.research.google.com/assets/colab-badge.svg\" alt=\"Open In Colab\"/></a>"
      ]
    },
    {
      "cell_type": "markdown",
      "metadata": {
        "id": "DAHU0QHM3x_L",
        "colab_type": "text"
      },
      "source": [
        "##**Creating new arrays**\n"
      ]
    },
    {
      "cell_type": "markdown",
      "metadata": {
        "id": "Oh7u4vNJ5d0O",
        "colab_type": "text"
      },
      "source": [
        "**(a)** Use np.array to create a 3-dimensional array with the shape (2, 4, 3), compare to arange()"
      ]
    },
    {
      "cell_type": "code",
      "metadata": {
        "id": "PBo2xHgmqmn7",
        "colab_type": "code",
        "colab": {}
      },
      "source": [
        "\n"
      ],
      "execution_count": 0,
      "outputs": []
    },
    {
      "cell_type": "code",
      "metadata": {
        "id": "H4rjtid_5kYW",
        "colab_type": "code",
        "colab": {}
      },
      "source": [
        ""
      ],
      "execution_count": 0,
      "outputs": []
    },
    {
      "cell_type": "markdown",
      "metadata": {
        "id": "tHz7vrlMDLuc",
        "colab_type": "text"
      },
      "source": [
        "**(b)** Use np.zeros to create a new  1d array. Write a for-loop that sets each item to the corresponding index plus one"
      ]
    },
    {
      "cell_type": "code",
      "metadata": {
        "id": "t0SW6QW-DwFI",
        "colab_type": "code",
        "colab": {}
      },
      "source": [
        ""
      ],
      "execution_count": 0,
      "outputs": []
    },
    {
      "cell_type": "markdown",
      "metadata": {
        "id": "o55MVpS2Mbmd",
        "colab_type": "text"
      },
      "source": [
        "**(c)** Write a NumPy program to create a vector with values ​​ranging from 15 to 55 and print all values ​​except the first and last."
      ]
    },
    {
      "cell_type": "code",
      "metadata": {
        "id": "obYo__NrEARK",
        "colab_type": "code",
        "colab": {}
      },
      "source": [
        "\n"
      ],
      "execution_count": 0,
      "outputs": []
    },
    {
      "cell_type": "markdown",
      "metadata": {
        "id": "iSSAG6uMNoWH",
        "colab_type": "text"
      },
      "source": [
        "**(d)** create a 10x10 matrix, in which the elements on the borders will be equal to 1, and inside 0"
      ]
    },
    {
      "cell_type": "code",
      "metadata": {
        "id": "nUC-hscGEdCB",
        "colab_type": "code",
        "colab": {}
      },
      "source": [
        ""
      ],
      "execution_count": 0,
      "outputs": []
    },
    {
      "cell_type": "markdown",
      "metadata": {
        "id": "72I004AUOWoC",
        "colab_type": "text"
      },
      "source": [
        "**(e)**  write a program that checks before saving np-file if file already saved and contains same array\n",
        "\n",
        "hint: you can use `os.path.exists` if file name exists"
      ]
    },
    {
      "cell_type": "code",
      "metadata": {
        "id": "XOWV4qpSOWG8",
        "colab_type": "code",
        "colab": {}
      },
      "source": [
        ""
      ],
      "execution_count": 0,
      "outputs": []
    },
    {
      "cell_type": "markdown",
      "metadata": {
        "id": "cY4xC0UNiiJD",
        "colab_type": "text"
      },
      "source": [
        "##**Manipulating arrays**\n"
      ]
    },
    {
      "cell_type": "markdown",
      "metadata": {
        "id": "Dyec54ONjSRs",
        "colab_type": "text"
      },
      "source": [
        "**(a)** write a program to find the indices of the maximum and minimum values along the given axis of a random array"
      ]
    },
    {
      "cell_type": "code",
      "metadata": {
        "id": "ENwndU3mVKVP",
        "colab_type": "code",
        "colab": {}
      },
      "source": [
        ""
      ],
      "execution_count": 0,
      "outputs": []
    },
    {
      "cell_type": "markdown",
      "metadata": {
        "id": "BOzi_1ZJjjHa",
        "colab_type": "text"
      },
      "source": [
        "**(b)** Write a NumPy program (using numpy) to sum of all the multiples of 3 or 5 below 100."
      ]
    },
    {
      "cell_type": "code",
      "metadata": {
        "id": "5PIpMg38jgKz",
        "colab_type": "code",
        "colab": {}
      },
      "source": [
        ""
      ],
      "execution_count": 0,
      "outputs": []
    },
    {
      "cell_type": "markdown",
      "metadata": {
        "id": "Ye54qHkZkRXN",
        "colab_type": "text"
      },
      "source": [
        "**(c)** Write a NumPy program to generate a generic 2D Gaussian-like array."
      ]
    },
    {
      "cell_type": "code",
      "metadata": {
        "id": "qO_WqyO_kih9",
        "colab_type": "code",
        "colab": {}
      },
      "source": [
        ""
      ],
      "execution_count": 0,
      "outputs": []
    },
    {
      "cell_type": "markdown",
      "metadata": {
        "id": "KVn1QAxrk6YS",
        "colab_type": "text"
      },
      "source": [
        "**(d)** Write a NumPy program to calculate 50, 75, 95 and 90 percentiles for a sequence or single-dimensional NumPy array."
      ]
    },
    {
      "cell_type": "code",
      "metadata": {
        "id": "E8b7y9FOlkNY",
        "colab_type": "code",
        "colab": {}
      },
      "source": [
        ""
      ],
      "execution_count": 0,
      "outputs": []
    }
  ]
}